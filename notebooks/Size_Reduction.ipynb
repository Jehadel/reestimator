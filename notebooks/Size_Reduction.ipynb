{
 "cells": [
  {
   "cell_type": "code",
   "execution_count": 16,
   "id": "ca64c03e",
   "metadata": {},
   "outputs": [],
   "source": [
    "#Load Libraries and Create engine Connection\n",
    "\n",
    "import pymysql\n",
    "import pandas as pd\n",
    "import numpy as np\n",
    "import sqlalchemy\n",
    "import gc\n",
    "engine =sqlalchemy.create_engine(\n",
    "        sqlalchemy.engine.url.URL.create(\n",
    "        drivername=\"mysql+pymysql\",\n",
    "        username='Estimators',  # e.g. \"my-database-user\"\n",
    "        password='Estimator2021',  # e.g. \"my-database-password\"\n",
    "        host='34.77.88.127',  # e.g. \"127.0.0.1\"\n",
    "        port=3306,  # e.g. 3306\n",
    "        database='Housing_France',  # e.g. \"my-database-name\"\n",
    "    ))\n",
    "\n",
    "conn = engine.connect().execution_options(stream_results=True)    "
   ]
  },
  {
   "cell_type": "code",
   "execution_count": 17,
   "id": "b483727f",
   "metadata": {},
   "outputs": [],
   "source": [
    "#Load Libraries and Create engine Connection\n",
    "\n",
    "import pymysql\n",
    "import pandas as pd\n",
    "import numpy as np\n",
    "import sqlalchemy\n",
    "import gc\n",
    "\n",
    "def get_data(querystring,chunk):\n",
    "    engine =sqlalchemy.create_engine(\n",
    "    sqlalchemy.engine.url.URL.create(\n",
    "    drivername=\"mysql+pymysql\",\n",
    "    username='Estimators',  # e.g. \"my-database-user\"\n",
    "    password='Estimator2021',  # e.g. \"my-database-password\"\n",
    "    host='34.77.88.127',  # e.g. \"127.0.0.1\"\n",
    "    port=3306,  # e.g. 3306\n",
    "    database='Housing_France',  # e.g. \"my-database-name\"\n",
    "    ))\n",
    "    conn = engine.connect().execution_options(stream_results=True)\n",
    "    frame = pd.DataFrame()\n",
    "    for chunk_dataframe in pd.read_sql(\n",
    "            querystring, conn, chunksize=chunk):\n",
    "            print(f\"Got dataframe w/{len(chunk_dataframe)} rows\")\n",
    "            frame= frame.append(chunk_dataframe)\n",
    "            # ... do something with dataframe ...\n",
    "            \n",
    "    return frame"
   ]
  },
  {
   "cell_type": "code",
   "execution_count": 57,
   "id": "793e0770",
   "metadata": {
    "scrolled": true
   },
   "outputs": [
    {
     "name": "stdout",
     "output_type": "stream",
     "text": [
      "Got dataframe w/100000 rows\n",
      "Got dataframe w/100000 rows\n"
     ]
    }
   ],
   "source": [
    "#Template for getting some data\n",
    "df = get_data(\"\"\"select * from data_working LIMIT 200000\"\"\", 100000)"
   ]
  },
  {
   "cell_type": "code",
   "execution_count": 59,
   "id": "1bc1f863",
   "metadata": {},
   "outputs": [],
   "source": [
    "#Replace all the blank rows with np.NaN\n",
    "\n",
    "for i in df.columns:\n",
    "    df[i].replace(r'', np.nan, regex=True, inplace= True)"
   ]
  },
  {
   "cell_type": "code",
   "execution_count": 60,
   "id": "d086e97a",
   "metadata": {
    "scrolled": true
   },
   "outputs": [],
   "source": [
    "#Some Preprocessing\n",
    "df2 = df.copy()\n",
    "df2 = df2[df2['type_local']. notna()]\n",
    "df2 = df2[df2['id_mutation']!= 'id_mutation']\n",
    "df2 = df2[df2['type_local']== 'Maison']\n",
    "columns = ['ancien_nom_commune','ancien_id_parcelle','ancien_code_commune','lot5_surface_carrez','lot4_surface_carrez','lot5_numero'\n",
    "            ,'lot3_surface_carrez', 'numero_volume','lot4_numero','lot3_numero','adresse_suffixe']\n",
    "df2.drop(columns=columns, inplace=True)"
   ]
  },
  {
   "cell_type": "code",
   "execution_count": 64,
   "id": "24acb66f",
   "metadata": {},
   "outputs": [
    {
     "data": {
      "text/plain": [
       "(200000, 40)"
      ]
     },
     "execution_count": 64,
     "metadata": {},
     "output_type": "execute_result"
    }
   ],
   "source": [
    "df.shape"
   ]
  },
  {
   "cell_type": "code",
   "execution_count": 65,
   "id": "ffe63da1",
   "metadata": {},
   "outputs": [
    {
     "name": "stdout",
     "output_type": "stream",
     "text": [
      "<class 'pandas.core.frame.DataFrame'>\n",
      "Int64Index: 200000 entries, 0 to 99999\n",
      "Data columns (total 40 columns):\n",
      " #   Column                        Non-Null Count   Dtype  \n",
      "---  ------                        --------------   -----  \n",
      " 0   id_mutation                   200000 non-null  object \n",
      " 1   date_mutation                 200000 non-null  object \n",
      " 2   numero_disposition            200000 non-null  int64  \n",
      " 3   nature_mutation               200000 non-null  object \n",
      " 4   valeur_fonciere               200000 non-null  int64  \n",
      " 5   adresse_numero                200000 non-null  int64  \n",
      " 6   adresse_suffixe               7119 non-null    object \n",
      " 7   adresse_nom_voie              199318 non-null  object \n",
      " 8   adresse_code_voie             199319 non-null  object \n",
      " 9   code_postal                   200000 non-null  int64  \n",
      " 10  code_commune                  200000 non-null  int64  \n",
      " 11  nom_commune                   200000 non-null  object \n",
      " 12  code_departement              200000 non-null  int64  \n",
      " 13  ancien_code_commune           3459 non-null    object \n",
      " 14  ancien_nom_commune            3459 non-null    object \n",
      " 15  id_parcelle                   200000 non-null  object \n",
      " 16  ancien_id_parcelle            1171 non-null    object \n",
      " 17  numero_volume                 200000 non-null  int64  \n",
      " 18  lot1_numero                   62649 non-null   object \n",
      " 19  lot1_surface_carrez           200000 non-null  float64\n",
      " 20  lot2_numero                   200000 non-null  int64  \n",
      " 21  lot2_surface_carrez           200000 non-null  float64\n",
      " 22  lot3_numero                   200000 non-null  int64  \n",
      " 23  lot3_surface_carrez           200000 non-null  float64\n",
      " 24  lot4_numero                   200000 non-null  int64  \n",
      " 25  lot4_surface_carrez           200000 non-null  float64\n",
      " 26  lot5_numero                   200000 non-null  int64  \n",
      " 27  lot5_surface_carrez           39 non-null      object \n",
      " 28  nombre_lots                   200000 non-null  int64  \n",
      " 29  code_type_local               200000 non-null  int64  \n",
      " 30  type_local                    102553 non-null  object \n",
      " 31  surface_reelle_bati           200000 non-null  int64  \n",
      " 32  nombre_pieces_principales     200000 non-null  int64  \n",
      " 33  code_nature_culture           137169 non-null  object \n",
      " 34  nature_culture                137169 non-null  object \n",
      " 35  code_nature_culture_speciale  7547 non-null    object \n",
      " 36  nature_culture_speciale       7547 non-null    object \n",
      " 37  surface_terrain               200000 non-null  int64  \n",
      " 38  longitude                     200000 non-null  float64\n",
      " 39  latitude                      200000 non-null  float64\n",
      "dtypes: float64(6), int64(16), object(18)\n",
      "memory usage: 62.6+ MB\n"
     ]
    }
   ],
   "source": [
    "df.info()"
   ]
  },
  {
   "cell_type": "code",
   "execution_count": null,
   "id": "9458c233",
   "metadata": {},
   "outputs": [],
   "source": []
  }
 ],
 "metadata": {
  "kernelspec": {
   "display_name": "Python 3 (ipykernel)",
   "language": "python",
   "name": "python3"
  },
  "language_info": {
   "codemirror_mode": {
    "name": "ipython",
    "version": 3
   },
   "file_extension": ".py",
   "mimetype": "text/x-python",
   "name": "python",
   "nbconvert_exporter": "python",
   "pygments_lexer": "ipython3",
   "version": "3.8.6"
  },
  "toc": {
   "base_numbering": 1,
   "nav_menu": {},
   "number_sections": true,
   "sideBar": true,
   "skip_h1_title": false,
   "title_cell": "Table of Contents",
   "title_sidebar": "Contents",
   "toc_cell": false,
   "toc_position": {},
   "toc_section_display": true,
   "toc_window_display": false
  }
 },
 "nbformat": 4,
 "nbformat_minor": 5
}
