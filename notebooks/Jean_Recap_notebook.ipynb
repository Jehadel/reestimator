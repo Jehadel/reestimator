{
 "cells": [
  {
   "cell_type": "markdown",
   "id": "0ebb7a28",
   "metadata": {},
   "source": [
    "# Setup : import + get data"
   ]
  },
  {
   "cell_type": "markdown",
   "id": "88375b10",
   "metadata": {},
   "source": [
    "## Import"
   ]
  },
  {
   "cell_type": "markdown",
   "id": "41c725c7",
   "metadata": {},
   "source": [
    "### Import classiques"
   ]
  },
  {
   "cell_type": "code",
   "execution_count": 4,
   "id": "efb228b5",
   "metadata": {},
   "outputs": [],
   "source": [
    "import pandas as pd\n",
    "import numpy as np\n",
    "import matplotlib.pyplot as plt\n",
    "import seaborn as sns\n",
    "#import ipdb"
   ]
  },
  {
   "cell_type": "markdown",
   "id": "a4a84a18",
   "metadata": {},
   "source": [
    "### Import pour accès données (sql, google drive...)"
   ]
  },
  {
   "cell_type": "code",
   "execution_count": null,
   "id": "6c5e6391",
   "metadata": {},
   "outputs": [],
   "source": [
    "import pymysql\n",
    "import sqlalchemy\n",
    "from google.colab import drive"
   ]
  },
  {
   "cell_type": "markdown",
   "id": "d6d0ce70",
   "metadata": {},
   "source": [
    "## Get data from data.gouv.fr"
   ]
  },
  {
   "cell_type": "code",
   "execution_count": 5,
   "id": "9cbd3198",
   "metadata": {},
   "outputs": [],
   "source": [
    "path_df2020 = 'https://files.data.gouv.fr/geo-dvf/latest/csv/2020/full.csv.gz' #data France entière année 2020\n",
    "path_df2019 = 'https://files.data.gouv.fr/geo-dvf/latest/csv/2019/full.csv.gz' #data France entière année 2019\n",
    "path_df2018 = 'https://files.data.gouv.fr/geo-dvf/latest/csv/2018/full.csv.gz' #data France entière année 2018\n",
    "path_df2017 = 'https://files.data.gouv.fr/geo-dvf/latest/csv/2017/full.csv.gz' #data France entière année 2017\n",
    "path_df2016 = 'https://files.data.gouv.fr/geo-dvf/latest/csv/2016/full.csv.gz' #data France entière année 2016"
   ]
  },
  {
   "cell_type": "code",
   "execution_count": 8,
   "id": "115da10c",
   "metadata": {},
   "outputs": [
    {
     "name": "stderr",
     "output_type": "stream",
     "text": [
      "/home/jean/.pyenv/versions/3.8.6/envs/reestimator/lib/python3.8/site-packages/IPython/core/interactiveshell.py:3441: DtypeWarning: Columns (10,12,14,16,17,18,20,22,35,36) have mixed types.Specify dtype option on import or set low_memory=False.\n",
      "  exec(code_obj, self.user_global_ns, self.user_ns)\n"
     ]
    },
    {
     "data": {
      "text/html": [
       "<div>\n",
       "<style scoped>\n",
       "    .dataframe tbody tr th:only-of-type {\n",
       "        vertical-align: middle;\n",
       "    }\n",
       "\n",
       "    .dataframe tbody tr th {\n",
       "        vertical-align: top;\n",
       "    }\n",
       "\n",
       "    .dataframe thead th {\n",
       "        text-align: right;\n",
       "    }\n",
       "</style>\n",
       "<table border=\"1\" class=\"dataframe\">\n",
       "  <thead>\n",
       "    <tr style=\"text-align: right;\">\n",
       "      <th></th>\n",
       "      <th>id_mutation</th>\n",
       "      <th>date_mutation</th>\n",
       "      <th>numero_disposition</th>\n",
       "      <th>nature_mutation</th>\n",
       "      <th>valeur_fonciere</th>\n",
       "      <th>adresse_numero</th>\n",
       "      <th>adresse_suffixe</th>\n",
       "      <th>adresse_nom_voie</th>\n",
       "      <th>adresse_code_voie</th>\n",
       "      <th>code_postal</th>\n",
       "      <th>...</th>\n",
       "      <th>type_local</th>\n",
       "      <th>surface_reelle_bati</th>\n",
       "      <th>nombre_pieces_principales</th>\n",
       "      <th>code_nature_culture</th>\n",
       "      <th>nature_culture</th>\n",
       "      <th>code_nature_culture_speciale</th>\n",
       "      <th>nature_culture_speciale</th>\n",
       "      <th>surface_terrain</th>\n",
       "      <th>longitude</th>\n",
       "      <th>latitude</th>\n",
       "    </tr>\n",
       "  </thead>\n",
       "  <tbody>\n",
       "    <tr>\n",
       "      <th>0</th>\n",
       "      <td>2019-1</td>\n",
       "      <td>2019-01-04</td>\n",
       "      <td>1</td>\n",
       "      <td>Vente</td>\n",
       "      <td>37220.0</td>\n",
       "      <td>26.0</td>\n",
       "      <td>NaN</td>\n",
       "      <td>RUE DE MONTHOLON</td>\n",
       "      <td>2730</td>\n",
       "      <td>1000.0</td>\n",
       "      <td>...</td>\n",
       "      <td>Appartement</td>\n",
       "      <td>20.0</td>\n",
       "      <td>1.0</td>\n",
       "      <td>NaN</td>\n",
       "      <td>NaN</td>\n",
       "      <td>NaN</td>\n",
       "      <td>NaN</td>\n",
       "      <td>NaN</td>\n",
       "      <td>5.209578</td>\n",
       "      <td>46.198844</td>\n",
       "    </tr>\n",
       "    <tr>\n",
       "      <th>1</th>\n",
       "      <td>2019-2</td>\n",
       "      <td>2019-01-04</td>\n",
       "      <td>1</td>\n",
       "      <td>Vente</td>\n",
       "      <td>185100.0</td>\n",
       "      <td>22.0</td>\n",
       "      <td>B</td>\n",
       "      <td>RUE GEN DELESTRAINT</td>\n",
       "      <td>1650</td>\n",
       "      <td>1000.0</td>\n",
       "      <td>...</td>\n",
       "      <td>Dépendance</td>\n",
       "      <td>NaN</td>\n",
       "      <td>0.0</td>\n",
       "      <td>NaN</td>\n",
       "      <td>NaN</td>\n",
       "      <td>NaN</td>\n",
       "      <td>NaN</td>\n",
       "      <td>NaN</td>\n",
       "      <td>5.219438</td>\n",
       "      <td>46.198784</td>\n",
       "    </tr>\n",
       "    <tr>\n",
       "      <th>2</th>\n",
       "      <td>2019-2</td>\n",
       "      <td>2019-01-04</td>\n",
       "      <td>1</td>\n",
       "      <td>Vente</td>\n",
       "      <td>185100.0</td>\n",
       "      <td>22.0</td>\n",
       "      <td>NaN</td>\n",
       "      <td>RUE GEN DELESTRAINT</td>\n",
       "      <td>1650</td>\n",
       "      <td>1000.0</td>\n",
       "      <td>...</td>\n",
       "      <td>Appartement</td>\n",
       "      <td>62.0</td>\n",
       "      <td>3.0</td>\n",
       "      <td>NaN</td>\n",
       "      <td>NaN</td>\n",
       "      <td>NaN</td>\n",
       "      <td>NaN</td>\n",
       "      <td>NaN</td>\n",
       "      <td>5.219438</td>\n",
       "      <td>46.198784</td>\n",
       "    </tr>\n",
       "    <tr>\n",
       "      <th>3</th>\n",
       "      <td>2019-3</td>\n",
       "      <td>2019-01-08</td>\n",
       "      <td>1</td>\n",
       "      <td>Vente</td>\n",
       "      <td>209000.0</td>\n",
       "      <td>3.0</td>\n",
       "      <td>NaN</td>\n",
       "      <td>RUE DES CHAMPAGNES</td>\n",
       "      <td>0043</td>\n",
       "      <td>1160.0</td>\n",
       "      <td>...</td>\n",
       "      <td>Maison</td>\n",
       "      <td>90.0</td>\n",
       "      <td>4.0</td>\n",
       "      <td>S</td>\n",
       "      <td>sols</td>\n",
       "      <td>NaN</td>\n",
       "      <td>NaN</td>\n",
       "      <td>940.0</td>\n",
       "      <td>5.282085</td>\n",
       "      <td>45.999533</td>\n",
       "    </tr>\n",
       "    <tr>\n",
       "      <th>4</th>\n",
       "      <td>2019-4</td>\n",
       "      <td>2019-01-07</td>\n",
       "      <td>1</td>\n",
       "      <td>Vente</td>\n",
       "      <td>134900.0</td>\n",
       "      <td>5.0</td>\n",
       "      <td>NaN</td>\n",
       "      <td>LOT LE BIOLAY</td>\n",
       "      <td>A003</td>\n",
       "      <td>1370.0</td>\n",
       "      <td>...</td>\n",
       "      <td>Maison</td>\n",
       "      <td>101.0</td>\n",
       "      <td>5.0</td>\n",
       "      <td>S</td>\n",
       "      <td>sols</td>\n",
       "      <td>NaN</td>\n",
       "      <td>NaN</td>\n",
       "      <td>490.0</td>\n",
       "      <td>5.299919</td>\n",
       "      <td>46.293275</td>\n",
       "    </tr>\n",
       "  </tbody>\n",
       "</table>\n",
       "<p>5 rows × 40 columns</p>\n",
       "</div>"
      ],
      "text/plain": [
       "  id_mutation date_mutation  numero_disposition nature_mutation  \\\n",
       "0      2019-1    2019-01-04                   1           Vente   \n",
       "1      2019-2    2019-01-04                   1           Vente   \n",
       "2      2019-2    2019-01-04                   1           Vente   \n",
       "3      2019-3    2019-01-08                   1           Vente   \n",
       "4      2019-4    2019-01-07                   1           Vente   \n",
       "\n",
       "   valeur_fonciere  adresse_numero adresse_suffixe     adresse_nom_voie  \\\n",
       "0          37220.0            26.0             NaN     RUE DE MONTHOLON   \n",
       "1         185100.0            22.0               B  RUE GEN DELESTRAINT   \n",
       "2         185100.0            22.0             NaN  RUE GEN DELESTRAINT   \n",
       "3         209000.0             3.0             NaN   RUE DES CHAMPAGNES   \n",
       "4         134900.0             5.0             NaN        LOT LE BIOLAY   \n",
       "\n",
       "  adresse_code_voie  code_postal  ...   type_local surface_reelle_bati  \\\n",
       "0              2730       1000.0  ...  Appartement                20.0   \n",
       "1              1650       1000.0  ...   Dépendance                 NaN   \n",
       "2              1650       1000.0  ...  Appartement                62.0   \n",
       "3              0043       1160.0  ...       Maison                90.0   \n",
       "4              A003       1370.0  ...       Maison               101.0   \n",
       "\n",
       "  nombre_pieces_principales  code_nature_culture nature_culture  \\\n",
       "0                       1.0                  NaN            NaN   \n",
       "1                       0.0                  NaN            NaN   \n",
       "2                       3.0                  NaN            NaN   \n",
       "3                       4.0                    S           sols   \n",
       "4                       5.0                    S           sols   \n",
       "\n",
       "  code_nature_culture_speciale nature_culture_speciale surface_terrain  \\\n",
       "0                          NaN                     NaN             NaN   \n",
       "1                          NaN                     NaN             NaN   \n",
       "2                          NaN                     NaN             NaN   \n",
       "3                          NaN                     NaN           940.0   \n",
       "4                          NaN                     NaN           490.0   \n",
       "\n",
       "  longitude   latitude  \n",
       "0  5.209578  46.198844  \n",
       "1  5.219438  46.198784  \n",
       "2  5.219438  46.198784  \n",
       "3  5.282085  45.999533  \n",
       "4  5.299919  46.293275  \n",
       "\n",
       "[5 rows x 40 columns]"
      ]
     },
     "execution_count": 8,
     "metadata": {},
     "output_type": "execute_result"
    }
   ],
   "source": [
    "df2019 = pd.read_csv(path_df2019)\n",
    "df2019.head()"
   ]
  },
  {
   "cell_type": "markdown",
   "id": "b6416acd",
   "metadata": {},
   "source": [
    "## Get data from Google Drive (sur Google colab)"
   ]
  },
  {
   "cell_type": "code",
   "execution_count": null,
   "id": "27a178bc",
   "metadata": {},
   "outputs": [],
   "source": [
    "drive.mount('/content/drive')\n",
    "data_path = '/content/drive/My Drive/reestimator-raw_data/Samples/'\n",
    "file500 = 'sample500.csv' #échangillonage sur 500 000 lignes des données sur toute la france et les 5 années\n",
    "file300 = 'sample300.csv' # idem 300 000 lignes\n",
    "file200b = 'sample200b.csv'\n",
    "file200 = 'sample200.csv'"
   ]
  },
  {
   "cell_type": "code",
   "execution_count": null,
   "id": "1a90988e",
   "metadata": {},
   "outputs": [],
   "source": [
    "df500 = pd.read_csv(data_path+file500)\n",
    "df500.head()"
   ]
  },
  {
   "cell_type": "markdown",
   "id": "10183a93",
   "metadata": {},
   "source": [
    "## Get data from database /!\\ (bouffe du crédit GCP)"
   ]
  },
  {
   "cell_type": "code",
   "execution_count": null,
   "id": "2aabdd6e",
   "metadata": {},
   "outputs": [],
   "source": [
    "class Data_loading:\n",
    "    \"\"\"\n",
    "    Load Libraries and Create engine Connection\n",
    "    \"\"\"\n",
    "    def __init__(self,\n",
    "                 username='Estimators',\n",
    "                 password='Estimators2021',\n",
    "                 host='34.77.88.127',\n",
    "                 port=3306,\n",
    "                 database='Housing_France'):\n",
    "        self.conn = self.establish_conn(username, password, host, port, database)\n",
    "\n",
    "\n",
    "    def establish_conn(self,username, password, host, port, database):\n",
    "        engine = sqlalchemy.create_engine(\n",
    "                sqlalchemy.engine.url.URL.create(\n",
    "                drivername=\"mysql+pymysql\",\n",
    "                username='Estimators',  # e.g. \"my-database-user\"1777777777\n",
    "                password='Estimator2021',  # e.g. \"my-database-password\"\n",
    "                host='34.77.88.127',  # e.g. \"127.0.0.1\"\n",
    "                port=3306,  # e.g. 3306\n",
    "                database='Housing_France',  # e.g. \"my-database-name\"\n",
    "            ))\n",
    "        return engine\n",
    "\n",
    "    def load_data_chunk(self, table_name, chunksize):\n",
    "\n",
    "        frame = pd.DataFrame()\n",
    "        for chunk_dataframe in pd.read_sql(f\"\"\"Select * from {table_name}\"\"\",\n",
    "                                           self.conn,\n",
    "                                           chunksize=chunksize):\n",
    "            print(f\"Got dataframe w/{len(chunk_dataframe)} rows\")\n",
    "            frame = frame.append(chunk_dataframe)\n",
    "\n",
    "        return frame\n",
    "\n",
    "\n",
    "    def get_random_rows(self, table_name, numrows):\n",
    "\n",
    "        df = pd.read_sql(\n",
    "            f\"\"\"SELECT * FROM {table_name} dm ORDER BY RAND() LIMIT {numrows};\"\"\",\n",
    "            self.conn)\n",
    "        return df\n",
    "\n",
    "    def get_all_rows(self, table_name):\n",
    "        df = pd.read_sql(f\"\"\"SELECT * FROM {table_name} \"\"\", self.conn)\n",
    "        return df\n",
    "\n",
    "    def get_num_rows(self,table_name, rownums):\n",
    "        df = pd.read_sql(f\"\"\"SELECT * FROM {table_name} Limit {rownums} \"\"\",\n",
    "                         self.conn)\n",
    "\n",
    "        return df\n",
    "\n",
    "    def show_tables(self):\n",
    "        print(self.conn)\n",
    "        df = pd.read_sql(\n",
    "        \"\"\"SELECT TABLE_NAME FROM information_schema.tables where TABLE_SCHEMA = 'Housing_France'\"\"\",\n",
    "            self.conn)\n",
    "        return df\n",
    "\n",
    "    def data_to_sql(self, df, tablename, if_exists):\n",
    "        \"\"\"Export Data to Sql, if exists takes one of the two strings :  ['replace','append'] \"\"\"\n",
    "        df.to_sql(name=f'{str(tablename)}',\n",
    "                  con=self.conn,\n",
    "                  if_exists=f'{if_exists}',\n",
    "                  index=True)\n",
    "        return print(f\"the table {str(tablename)} was successfully loaded to DB\")\n",
    "\n",
    "    def get_data(self, querystring):\n",
    "        df = pd.read_sql(querystring, self.conn)\n",
    "        return df"
   ]
  },
  {
   "cell_type": "code",
   "execution_count": null,
   "id": "e1426e9c",
   "metadata": {},
   "outputs": [],
   "source": [
    "    dataloader = Data_loading()\n",
    "    df_db = dataloader.load_data_chunk('data_working_update', 100000)"
   ]
  },
  {
   "cell_type": "markdown",
   "id": "8f16a5b1",
   "metadata": {},
   "source": [
    "**Pour toute la suite nous travaillerons sur df500, et parfois sur une année en particulier (df2019)**\n",
    "_pour que ça fonctionne sur jnotebook en local, on charge df500 depuis une copie dans raw_data_"
   ]
  },
  {
   "cell_type": "code",
   "execution_count": 9,
   "id": "7d87c037",
   "metadata": {},
   "outputs": [
    {
     "name": "stderr",
     "output_type": "stream",
     "text": [
      "/home/jean/.pyenv/versions/3.8.6/envs/reestimator/lib/python3.8/site-packages/IPython/core/interactiveshell.py:3441: DtypeWarning: Columns (18) have mixed types.Specify dtype option on import or set low_memory=False.\n",
      "  exec(code_obj, self.user_global_ns, self.user_ns)\n"
     ]
    }
   ],
   "source": [
    "df500 = pd.read_csv('../raw_data/sample500.csv')"
   ]
  },
  {
   "cell_type": "markdown",
   "id": "7dbc9b38",
   "metadata": {},
   "source": [
    "# Exploration"
   ]
  },
  {
   "cell_type": "markdown",
   "id": "5dd44944",
   "metadata": {},
   "source": [
    "## Caractéristiques du dataframe : colonnes, dtypes, valeurs max..."
   ]
  },
  {
   "cell_type": "markdown",
   "id": "258c49a2",
   "metadata": {},
   "source": [
    "### carac df500"
   ]
  },
  {
   "cell_type": "code",
   "execution_count": 10,
   "id": "9b9cf57a",
   "metadata": {},
   "outputs": [
    {
     "data": {
      "text/plain": [
       "(500000, 40)"
      ]
     },
     "execution_count": 10,
     "metadata": {},
     "output_type": "execute_result"
    }
   ],
   "source": [
    "df500.shape"
   ]
  },
  {
   "cell_type": "code",
   "execution_count": 12,
   "id": "3ecea85c",
   "metadata": {},
   "outputs": [
    {
     "data": {
      "text/plain": [
       "Index(['id_mutation', 'date_mutation', 'numero_disposition', 'nature_mutation',\n",
       "       'valeur_fonciere', 'adresse_numero', 'adresse_suffixe',\n",
       "       'adresse_nom_voie', 'adresse_code_voie', 'code_postal', 'code_commune',\n",
       "       'nom_commune', 'code_departement', 'ancien_code_commune',\n",
       "       'ancien_nom_commune', 'id_parcelle', 'ancien_id_parcelle',\n",
       "       'numero_volume', 'lot1_numero', 'lot1_surface_carrez', 'lot2_numero',\n",
       "       'lot2_surface_carrez', 'lot3_numero', 'lot3_surface_carrez',\n",
       "       'lot4_numero', 'lot4_surface_carrez', 'lot5_numero',\n",
       "       'lot5_surface_carrez', 'nombre_lots', 'code_type_local', 'type_local',\n",
       "       'surface_reelle_bati', 'nombre_pieces_principales',\n",
       "       'code_nature_culture', 'nature_culture', 'code_nature_culture_speciale',\n",
       "       'nature_culture_speciale', 'surface_terrain', 'longitude', 'latitude'],\n",
       "      dtype='object')"
      ]
     },
     "execution_count": 12,
     "metadata": {},
     "output_type": "execute_result"
    }
   ],
   "source": [
    "df500.columns"
   ]
  },
  {
   "cell_type": "code",
   "execution_count": 11,
   "id": "39ef0b98",
   "metadata": {},
   "outputs": [
    {
     "name": "stdout",
     "output_type": "stream",
     "text": [
      "<class 'pandas.core.frame.DataFrame'>\n",
      "RangeIndex: 500000 entries, 0 to 499999\n",
      "Data columns (total 40 columns):\n",
      " #   Column                        Non-Null Count   Dtype  \n",
      "---  ------                        --------------   -----  \n",
      " 0   id_mutation                   500000 non-null  object \n",
      " 1   date_mutation                 500000 non-null  object \n",
      " 2   numero_disposition            500000 non-null  int64  \n",
      " 3   nature_mutation               500000 non-null  object \n",
      " 4   valeur_fonciere               500000 non-null  int64  \n",
      " 5   adresse_numero                500000 non-null  int64  \n",
      " 6   adresse_suffixe               36023 non-null   object \n",
      " 7   adresse_nom_voie              499991 non-null  object \n",
      " 8   adresse_code_voie             500000 non-null  object \n",
      " 9   code_postal                   500000 non-null  int64  \n",
      " 10  code_commune                  500000 non-null  int64  \n",
      " 11  nom_commune                   500000 non-null  object \n",
      " 12  code_departement              500000 non-null  int64  \n",
      " 13  ancien_code_commune           5403 non-null    float64\n",
      " 14  ancien_nom_commune            5403 non-null    object \n",
      " 15  id_parcelle                   500000 non-null  object \n",
      " 16  ancien_id_parcelle            1285 non-null    object \n",
      " 17  numero_volume                 500000 non-null  int64  \n",
      " 18  lot1_numero                   241048 non-null  object \n",
      " 19  lot1_surface_carrez           500000 non-null  float64\n",
      " 20  lot2_numero                   500000 non-null  int64  \n",
      " 21  lot2_surface_carrez           500000 non-null  float64\n",
      " 22  lot3_numero                   500000 non-null  int64  \n",
      " 23  lot3_surface_carrez           500000 non-null  float64\n",
      " 24  lot4_numero                   500000 non-null  int64  \n",
      " 25  lot4_surface_carrez           500000 non-null  float64\n",
      " 26  lot5_numero                   500000 non-null  int64  \n",
      " 27  lot5_surface_carrez           212 non-null     float64\n",
      " 28  nombre_lots                   500000 non-null  int64  \n",
      " 29  code_type_local               500000 non-null  int64  \n",
      " 30  type_local                    500000 non-null  object \n",
      " 31  surface_reelle_bati           500000 non-null  int64  \n",
      " 32  nombre_pieces_principales     500000 non-null  int64  \n",
      " 33  code_nature_culture           257270 non-null  object \n",
      " 34  nature_culture                257270 non-null  object \n",
      " 35  code_nature_culture_speciale  8156 non-null    object \n",
      " 36  nature_culture_speciale       8156 non-null    object \n",
      " 37  surface_terrain               500000 non-null  int64  \n",
      " 38  longitude                     500000 non-null  float64\n",
      " 39  latitude                      500000 non-null  float64\n",
      "dtypes: float64(8), int64(16), object(16)\n",
      "memory usage: 152.6+ MB\n"
     ]
    }
   ],
   "source": [
    "df500.info()"
   ]
  },
  {
   "cell_type": "markdown",
   "id": "eefe0ec7",
   "metadata": {},
   "source": [
    "On constate qu'il y a certaines colonnes qui contiennent beaucoup de valeurs nulles. On a un problème d'homogénéité des données dans certaines colonnes (mélange de str et de valeurs numériques). Le type de données n'est pas toujours optimum (int64 pour numéro de voie, float64 pour code postal...)\n",
    "Certaines colonnes n'ont pas vraiment d'utilité (correspondance ancien codage, etc.)"
   ]
  },
  {
   "cell_type": "markdown",
   "id": "0a08525d",
   "metadata": {},
   "source": [
    "#### nbre de vente en fonction des natures de mutation"
   ]
  },
  {
   "cell_type": "code",
   "execution_count": 14,
   "id": "711bc1d7",
   "metadata": {},
   "outputs": [
    {
     "data": {
      "text/plain": [
       "array(['Vente', \"Vente en l'état futur d'achèvement\", 'Echange',\n",
       "       'Adjudication', 'Expropriation', 'Vente terrain à bâtir'],\n",
       "      dtype=object)"
      ]
     },
     "execution_count": 14,
     "metadata": {},
     "output_type": "execute_result"
    }
   ],
   "source": [
    "df500['nature_mutation'].unique()"
   ]
  },
  {
   "cell_type": "code",
   "execution_count": 16,
   "id": "d5d6f85a",
   "metadata": {},
   "outputs": [
    {
     "data": {
      "text/plain": [
       "nature_mutation\n",
       "Adjudication                            2237\n",
       "Echange                                 1321\n",
       "Expropriation                            676\n",
       "Vente                                 471031\n",
       "Vente en l'état futur d'achèvement     24382\n",
       "Vente terrain à bâtir                    353\n",
       "Name: id_mutation, dtype: int64"
      ]
     },
     "execution_count": 16,
     "metadata": {},
     "output_type": "execute_result"
    }
   ],
   "source": [
    "df500.groupby('nature_mutation')['id_mutation'].count()"
   ]
  },
  {
   "cell_type": "markdown",
   "id": "fb5bca30",
   "metadata": {},
   "source": [
    "Les ventes constituent l'essentiel des mutations. Tant mieux, c'est ce qui nous intéresse. On va ne sélectionner que les ventes."
   ]
  },
  {
   "cell_type": "markdown",
   "id": "43dbc6ff",
   "metadata": {},
   "source": [
    "#### Types de biens"
   ]
  },
  {
   "cell_type": "code",
   "execution_count": 17,
   "id": "228bb8bf",
   "metadata": {},
   "outputs": [
    {
     "data": {
      "text/plain": [
       "array(['Dépendance', 'Maison', 'Appartement',\n",
       "       'Local industriel. commercial ou assimilé'], dtype=object)"
      ]
     },
     "execution_count": 17,
     "metadata": {},
     "output_type": "execute_result"
    }
   ],
   "source": [
    "df500['type_local'].unique()"
   ]
  },
  {
   "cell_type": "code",
   "execution_count": 18,
   "id": "e3ec05d6",
   "metadata": {},
   "outputs": [
    {
     "data": {
      "text/plain": [
       "type_local\n",
       "Appartement                                 160315\n",
       "Dépendance                                  121348\n",
       "Local industriel. commercial ou assimilé     34309\n",
       "Maison                                      184028\n",
       "Name: id_mutation, dtype: int64"
      ]
     },
     "execution_count": 18,
     "metadata": {},
     "output_type": "execute_result"
    }
   ],
   "source": [
    "df500.groupby('type_local')['id_mutation'].count()"
   ]
  },
  {
   "cell_type": "markdown",
   "id": "07c22eae",
   "metadata": {},
   "source": [
    "Les ventes de maisons et d'appartement représentent la majorité des ventes. On constate que le nombre de dépendances est très important. Néanmoins, une dépendance n'est par définition vendue seule (ligne "
   ]
  },
  {
   "cell_type": "code",
   "execution_count": 21,
   "id": "3a57e745",
   "metadata": {},
   "outputs": [
    {
     "data": {
      "text/plain": [
       "453992"
      ]
     },
     "execution_count": 21,
     "metadata": {},
     "output_type": "execute_result"
    }
   ],
   "source": [
    "((df500.groupby('id_mutation')['id_mutation'].count() > 1) == True).count()"
   ]
  },
  {
   "cell_type": "code",
   "execution_count": 22,
   "id": "ff4d73ed",
   "metadata": {},
   "outputs": [
    {
     "data": {
      "text/plain": [
       "1514872"
      ]
     },
     "execution_count": 22,
     "metadata": {},
     "output_type": "execute_result"
    }
   ],
   "source": [
    "((df2019.groupby('id_mutation')['id_mutation'].count() > 1) == True).count()"
   ]
  },
  {
   "cell_type": "code",
   "execution_count": 23,
   "id": "3bc2e235",
   "metadata": {},
   "outputs": [
    {
     "data": {
      "text/plain": [
       "(3533211, 40)"
      ]
     },
     "execution_count": 23,
     "metadata": {},
     "output_type": "execute_result"
    }
   ],
   "source": [
    "df2019.shape"
   ]
  },
  {
   "cell_type": "markdown",
   "id": "d5d0342a",
   "metadata": {},
   "source": [
    "# Cleaning"
   ]
  },
  {
   "cell_type": "code",
   "execution_count": null,
   "id": "bdd956ee",
   "metadata": {},
   "outputs": [],
   "source": []
  }
 ],
 "metadata": {
  "kernelspec": {
   "display_name": "Python 3 (ipykernel)",
   "language": "python",
   "name": "python3"
  },
  "language_info": {
   "codemirror_mode": {
    "name": "ipython",
    "version": 3
   },
   "file_extension": ".py",
   "mimetype": "text/x-python",
   "name": "python",
   "nbconvert_exporter": "python",
   "pygments_lexer": "ipython3",
   "version": "3.8.6"
  },
  "toc": {
   "base_numbering": 1,
   "nav_menu": {},
   "number_sections": true,
   "sideBar": true,
   "skip_h1_title": false,
   "title_cell": "Table of Contents",
   "title_sidebar": "Contents",
   "toc_cell": false,
   "toc_position": {},
   "toc_section_display": true,
   "toc_window_display": false
  }
 },
 "nbformat": 4,
 "nbformat_minor": 5
}
