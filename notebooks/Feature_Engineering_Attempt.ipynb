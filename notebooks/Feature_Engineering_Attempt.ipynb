{
 "cells": [
  {
   "cell_type": "markdown",
   "id": "c3e4dec8",
   "metadata": {},
   "source": [
    "# First Attempt at Feature Engineering"
   ]
  },
  {
   "cell_type": "code",
   "execution_count": null,
   "id": "6831e52e",
   "metadata": {},
   "outputs": [],
   "source": [
    "import pandas as pd\n",
    "import numpy as np"
   ]
  },
  {
   "cell_type": "markdown",
   "id": "48721b41",
   "metadata": {
    "heading_collapsed": true
   },
   "source": [
    "## Importing the Data\n",
    "All this data was retrieved from INSEE 2020 and 2015 official data sets\n",
    "Steps:\n",
    "\n",
    "- Import data\n",
    "- Rotate to get a synthetic \"OneHotEncoded\" table\n"
   ]
  },
  {
   "cell_type": "code",
   "execution_count": 63,
   "id": "814b3dd9",
   "metadata": {
    "hidden": true,
    "scrolled": false
   },
   "outputs": [
    {
     "name": "stderr",
     "output_type": "stream",
     "text": [
      "/home/julienlefebvre/.pyenv/versions/3.8.6/envs/Housing/lib/python3.8/site-packages/IPython/core/interactiveshell.py:3441: DtypeWarning: Columns (1,2,3,4,5,6) have mixed types.Specify dtype option on import or set low_memory=False.\n",
      "  exec(code_obj, self.user_global_ns, self.user_ns)\n"
     ]
    }
   ],
   "source": [
    "#Get the initial data\n",
    "df = pd.read_csv('DataFrance/equipment.csv', sep=';')\n",
    "liste= (\"A203\",\"A206\",\"A401\",\"A101\",\"A406\",\"A405\", \"A5\", \"B\", \"F\")\n",
    "df = df[df.TYPEQU.str.startswith(liste)]\n",
    "#df6=df[df.TYPEQU.str.startswith('B')== True]\n",
    "df6=df\n",
    "df6 = df6[['TYPEQU','DEPCOM','PRES_2020','PRES_2015']]\n",
    "df6.drop(columns='PRES_2020', inplace= True)\n",
    "df6 = df6.pivot_table(values='PRES_2015', index=df.DEPCOM, columns='TYPEQU', aggfunc='first').reset_index(drop=False).dropna()"
   ]
  },
  {
   "cell_type": "markdown",
   "id": "a2fe75d9",
   "metadata": {
    "heading_collapsed": true
   },
   "source": [
    "## Redefining the Category Labels\n",
    "\n",
    "Objectives:\n",
    "- Select only desired Variables\n",
    "- Aggregate columns from same type group to get the sums of 'equipment' per commune"
   ]
  },
  {
   "cell_type": "code",
   "execution_count": 296,
   "id": "bf4cbb78",
   "metadata": {
    "hidden": true,
    "scrolled": true
   },
   "outputs": [
    {
     "data": {
      "text/html": [
       "<div>\n",
       "<style scoped>\n",
       "    .dataframe tbody tr th:only-of-type {\n",
       "        vertical-align: middle;\n",
       "    }\n",
       "\n",
       "    .dataframe tbody tr th {\n",
       "        vertical-align: top;\n",
       "    }\n",
       "\n",
       "    .dataframe thead th {\n",
       "        text-align: right;\n",
       "    }\n",
       "</style>\n",
       "<table border=\"1\" class=\"dataframe\">\n",
       "  <thead>\n",
       "    <tr style=\"text-align: right;\">\n",
       "      <th></th>\n",
       "      <th>DEPCOM</th>\n",
       "      <th>A1</th>\n",
       "      <th>A2</th>\n",
       "      <th>A4</th>\n",
       "      <th>A5</th>\n",
       "      <th>B</th>\n",
       "      <th>F</th>\n",
       "    </tr>\n",
       "  </thead>\n",
       "  <tbody>\n",
       "    <tr>\n",
       "      <th>0</th>\n",
       "      <td>1001</td>\n",
       "      <td>0</td>\n",
       "      <td>0</td>\n",
       "      <td>1</td>\n",
       "      <td>2</td>\n",
       "      <td>1</td>\n",
       "      <td>4</td>\n",
       "    </tr>\n",
       "    <tr>\n",
       "      <th>1</th>\n",
       "      <td>1002</td>\n",
       "      <td>0</td>\n",
       "      <td>0</td>\n",
       "      <td>0</td>\n",
       "      <td>0</td>\n",
       "      <td>0</td>\n",
       "      <td>0</td>\n",
       "    </tr>\n",
       "    <tr>\n",
       "      <th>2</th>\n",
       "      <td>1004</td>\n",
       "      <td>0</td>\n",
       "      <td>2</td>\n",
       "      <td>3</td>\n",
       "      <td>7</td>\n",
       "      <td>19</td>\n",
       "      <td>14</td>\n",
       "    </tr>\n",
       "    <tr>\n",
       "      <th>3</th>\n",
       "      <td>1005</td>\n",
       "      <td>0</td>\n",
       "      <td>2</td>\n",
       "      <td>1</td>\n",
       "      <td>4</td>\n",
       "      <td>3</td>\n",
       "      <td>6</td>\n",
       "    </tr>\n",
       "    <tr>\n",
       "      <th>4</th>\n",
       "      <td>1006</td>\n",
       "      <td>0</td>\n",
       "      <td>0</td>\n",
       "      <td>0</td>\n",
       "      <td>0</td>\n",
       "      <td>0</td>\n",
       "      <td>0</td>\n",
       "    </tr>\n",
       "    <tr>\n",
       "      <th>5</th>\n",
       "      <td>1007</td>\n",
       "      <td>0</td>\n",
       "      <td>1</td>\n",
       "      <td>2</td>\n",
       "      <td>5</td>\n",
       "      <td>4</td>\n",
       "      <td>5</td>\n",
       "    </tr>\n",
       "    <tr>\n",
       "      <th>6</th>\n",
       "      <td>1008</td>\n",
       "      <td>0</td>\n",
       "      <td>0</td>\n",
       "      <td>2</td>\n",
       "      <td>3</td>\n",
       "      <td>2</td>\n",
       "      <td>5</td>\n",
       "    </tr>\n",
       "    <tr>\n",
       "      <th>7</th>\n",
       "      <td>1009</td>\n",
       "      <td>0</td>\n",
       "      <td>0</td>\n",
       "      <td>0</td>\n",
       "      <td>1</td>\n",
       "      <td>0</td>\n",
       "      <td>0</td>\n",
       "    </tr>\n",
       "    <tr>\n",
       "      <th>8</th>\n",
       "      <td>1010</td>\n",
       "      <td>0</td>\n",
       "      <td>0</td>\n",
       "      <td>3</td>\n",
       "      <td>2</td>\n",
       "      <td>3</td>\n",
       "      <td>4</td>\n",
       "    </tr>\n",
       "    <tr>\n",
       "      <th>9</th>\n",
       "      <td>1011</td>\n",
       "      <td>0</td>\n",
       "      <td>0</td>\n",
       "      <td>0</td>\n",
       "      <td>1</td>\n",
       "      <td>0</td>\n",
       "      <td>0</td>\n",
       "    </tr>\n",
       "  </tbody>\n",
       "</table>\n",
       "</div>"
      ],
      "text/plain": [
       "  DEPCOM  A1  A2  A4  A5   B   F\n",
       "0   1001   0   0   1   2   1   4\n",
       "1   1002   0   0   0   0   0   0\n",
       "2   1004   0   2   3   7  19  14\n",
       "3   1005   0   2   1   4   3   6\n",
       "4   1006   0   0   0   0   0   0\n",
       "5   1007   0   1   2   5   4   5\n",
       "6   1008   0   0   2   3   2   5\n",
       "7   1009   0   0   0   1   0   0\n",
       "8   1010   0   0   3   2   3   4\n",
       "9   1011   0   0   0   1   0   0"
      ]
     },
     "execution_count": 296,
     "metadata": {},
     "output_type": "execute_result"
    }
   ],
   "source": [
    "#Rename Columns with the respective columns only\n",
    "categories = set([\"A2\",\"A4\",\"A1\", \"A5\", \"B\", \"F\"])\n",
    "\n",
    "def correct_categories(cols):\n",
    "    return [cat for col in cols for cat in categories if col.startswith(cat)]    \n",
    "\n",
    "names = correct_categories(df6.columns)\n",
    "names.insert(0,'DEPCOM')\n",
    "df6.columns = names\n",
    "\n",
    "#Format and Sun up  of features into their categories\n",
    "df7 = df6.drop(columns='DEPCOM').astype('int')\n",
    "df7 =df7.groupby(df7.columns, axis=1).agg(np.sum)\n",
    "df7.insert(0,'DEPCOM',df6.DEPCOM)\n",
    "df7.head(10)"
   ]
  },
  {
   "cell_type": "code",
   "execution_count": 145,
   "id": "a65016e2",
   "metadata": {
    "hidden": true
   },
   "outputs": [],
   "source": [
    "# Category definition grouping\n",
    "\n",
    "#100 as large surfaces\n",
    "#200 as groceries\n",
    "#300\n",
    "#400\n",
    "#500"
   ]
  },
  {
   "cell_type": "markdown",
   "id": "996cd8c9",
   "metadata": {
    "heading_collapsed": true
   },
   "source": [
    "# Import Prices Dataset and Merge with Feature frame\n",
    "\n",
    "- Retrieve data from online database\n",
    "- visualize a bit"
   ]
  },
  {
   "cell_type": "code",
   "execution_count": 208,
   "id": "fe5c2945",
   "metadata": {
    "hidden": true
   },
   "outputs": [],
   "source": [
    "#Load Libraries and Create engine Connection\n",
    "#Load Libraries and Create engine Connection\n",
    "\n",
    "import pymysql\n",
    "import pandas as pd\n",
    "import numpy as np\n",
    "import sqlalchemy\n",
    "import gc\n",
    "engine =sqlalchemy.create_engine(\n",
    "        sqlalchemy.engine.url.URL.create(\n",
    "        drivername=\"mysql+pymysql\",\n",
    "        username='Estimators',  # e.g. \"my-database-user\"\n",
    "        password='Estimator2021',  # e.g. \"my-database-password\"\n",
    "        host='34.77.88.127',  # e.g. \"127.0.0.1\"\n",
    "        port=3306,  # e.g. 3306\n",
    "        database='Housing_France',  # e.g. \"my-database-name\"\n",
    "    ))\n",
    "\n",
    "conn = engine.connect().execution_options(stream_results=True)    \n",
    "\n",
    "def get_data(querystring,chunk):\n",
    "    engine =sqlalchemy.create_engine(\n",
    "    sqlalchemy.engine.url.URL.create(\n",
    "    drivername=\"mysql+pymysql\",\n",
    "    username='Estimators',  # e.g. \"my-database-user\"\n",
    "    password='Estimator2021',  # e.g. \"my-database-password\"\n",
    "    host='34.77.88.127',  # e.g. \"127.0.0.1\"\n",
    "    port=3306,  # e.g. 3306\n",
    "    database='Housing_France',  # e.g. \"my-database-name\"\n",
    "    ))\n",
    "    conn = engine.connect().execution_options(stream_results=True)\n",
    "    frame = pd.DataFrame()\n",
    "    for chunk_dataframe in pd.read_sql(\n",
    "            querystring, conn, chunksize=chunk):\n",
    "            #print(f\"Got dataframe w/{len(chunk_dataframe)} rows\")\n",
    "            frame= frame.append(chunk_dataframe)\n",
    "\n",
    "            # ... do something with dataframe ...\n",
    "            \n",
    "    return frame\n",
    "\n",
    "querystring = \"\"\"SELECT code_commune, ROUND(dwu.valeur_fonciere/dwu.surface_reelle_bati,0) as Price, dwu.nombre_lots,dwu.nombre_pieces_principales FROM data_working_update dwu\n",
    "WHERE year(dwu.date_mutation) = 2016\n",
    "AND dwu.type_local = 'Appartement'\n",
    "AND dwu.code_departement = 75\n",
    ";\"\"\"\n",
    "#Get Data\n",
    "df8 = get_data(querystring, 1000)\n",
    "\n",
    "#Visualize a bit\n",
    "plt.hist(df8.Price, bins=50)\n",
    "plt.show()\n",
    "\n",
    "#Merge prices query with featured dataset\n",
    "merged = df7.merge(df8, left_on='DEPCOM', right_on='code_commune' ,how='inner').drop(columns='code_commune')\n",
    "merged.describe()\n",
    "\n",
    "#Remove annoying outliers\n",
    "merged= merged[merged.Price.between(4000,15000)]\n",
    "plt.hist(merged.Price, bins=25)\n",
    "plt.show()"
   ]
  },
  {
   "cell_type": "markdown",
   "id": "6a048e4c",
   "metadata": {
    "heading_collapsed": true
   },
   "source": [
    "# First Prediction Models\n",
    "- Preprocessing\n",
    "- linear models\n",
    "- Xgboost"
   ]
  },
  {
   "cell_type": "code",
   "execution_count": 290,
   "id": "db9c34b9",
   "metadata": {
    "hidden": true
   },
   "outputs": [],
   "source": [
    "from sklearn.decomposition import PCA\n",
    "from sklearn.preprocessing import StandardScaler\n",
    "from sklearn.model_selection import train_test_split\n",
    "import pandas as pd\n",
    "import numpy as np\n",
    "from sklearn.linear_model import LinearRegression , Ridge , Lasso\n",
    "from sklearn.metrics import mean_absolute_percentage_error as mape\n",
    "from sklearn.metrics import mean_squared_error as rmse\n",
    "model = Lasso()\n",
    "X = merged.drop(columns=['DEPCOM','Price'])\n",
    "y = merged.Price"
   ]
  },
  {
   "cell_type": "code",
   "execution_count": 292,
   "id": "11672ef0",
   "metadata": {
    "hidden": true,
    "scrolled": true
   },
   "outputs": [
    {
     "name": "stdout",
     "output_type": "stream",
     "text": [
      "Lasso() R2 score is: 0.066)\n",
      "Lasso() rmse score is: 4021051.542)\n",
      "Lasso() mape score is: 0.183\n"
     ]
    }
   ],
   "source": [
    "#Performing normal train test split on the formatted data (both X and target)\n",
    "X_train, X_test, y_train, y_test = train_test_split(X, y, test_size = 0.3, random_state = 0)\n",
    "\n",
    "#Scale the data\n",
    "scaler = StandardScaler()\n",
    "X = scaler.fit_transform(X)\n",
    "\n",
    "# Defining our PCA model and converting our data into components\n",
    "pca_model = PCA(n_components=5)\n",
    "converted = pca_model.fit(X)\n",
    "X = converted.transform(X)\n",
    "\n",
    "#Fit with Regular Regression Models\n",
    "fitter = model.fit(X_train,y_train)\n",
    "print(f\"{model} R2 score is: {np.round(model.score(X_test, y_test),3)})\")\n",
    "print(f\"{model} rmse score is: {np.round(rmse(model.predict(X_test),y_test),3)})\")\n",
    "print(f\"{model} mape score is: {np.round(mape(model.predict(X_test),y_test),3)}\"  )  "
   ]
  },
  {
   "cell_type": "code",
   "execution_count": 293,
   "id": "3734049f",
   "metadata": {
    "hidden": true
   },
   "outputs": [
    {
     "name": "stdout",
     "output_type": "stream",
     "text": [
      " R2 score is: 0.199)\n",
      "rmse score is: 3449042.774)\n",
      " mape score is: 0.168\n"
     ]
    }
   ],
   "source": [
    "#Checking the result with a standard xgboost\n",
    "\n",
    "from xgboost import XGBRegressor as xgb\n",
    "model = xgb(learning_rate = .1)\n",
    "model = model.fit(X_train, y_train)\n",
    "fitter = model.fit(X_train,y_train)\n",
    "print(f\" R2 score is: {np.round(model.score(X_test, y_test),3)})\")\n",
    "print(f\"rmse score is: {np.round(rmse(model.predict(X_test),y_test),3)})\")\n",
    "print(f\" mape score is: {np.round(mape(model.predict(X_test),y_test),3)}\"  )  "
   ]
  }
 ],
 "metadata": {
  "kernelspec": {
   "display_name": "Python 3 (ipykernel)",
   "language": "python",
   "name": "python3"
  },
  "language_info": {
   "codemirror_mode": {
    "name": "ipython",
    "version": 3
   },
   "file_extension": ".py",
   "mimetype": "text/x-python",
   "name": "python",
   "nbconvert_exporter": "python",
   "pygments_lexer": "ipython3",
   "version": "3.8.6"
  },
  "toc": {
   "base_numbering": 1,
   "nav_menu": {},
   "number_sections": true,
   "sideBar": true,
   "skip_h1_title": false,
   "title_cell": "Table of Contents",
   "title_sidebar": "Contents",
   "toc_cell": false,
   "toc_position": {},
   "toc_section_display": true,
   "toc_window_display": false
  }
 },
 "nbformat": 4,
 "nbformat_minor": 5
}
