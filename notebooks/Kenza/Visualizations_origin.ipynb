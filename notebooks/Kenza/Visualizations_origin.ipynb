{
 "cells": [
  {
   "cell_type": "code",
   "execution_count": 1,
   "id": "571eb5c1",
   "metadata": {},
   "outputs": [],
   "source": [
    "#Importing our Packages: Analytics\n",
    "import pandas as pd\n",
    "import numpy as np\n",
    "\n",
    "#Viz libaries\n",
    "import matplotlib.pyplot as plt\n",
    "import seaborn as sns\n",
    "import plotly as ply\n",
    "\n",
    "#Data_libraries\n",
    "import pymysql\n",
    "import sqlalchemy\n",
    "\n",
    "\n",
    "#Sklearn libraries\n",
    "from sklearn.decomposition import PCA\n",
    "from sklearn.preprocessing import StandardScaler\n",
    "from sklearn.model_selection import train_test_split\n",
    "from sklearn.linear_model import LinearRegression , Ridge , Lasso\n",
    "\n",
    "#Scoring libraries\n",
    "from sklearn.metrics import mean_absolute_percentage_error as mape\n",
    "from sklearn.metrics import mean_squared_error as rmse\n",
    "from sklearn.metrics import r2_score"
   ]
  },
  {
   "cell_type": "code",
   "execution_count": 2,
   "id": "d8cd232c",
   "metadata": {},
   "outputs": [
    {
     "data": {
      "text/plain": [
       "<AxesSubplot:>"
      ]
     },
     "execution_count": 2,
     "metadata": {},
     "output_type": "execute_result"
    },
    {
     "data": {
      "image/png": "[encoded data removed]",
      "text/plain": [
       "<Figure size 432x288 with 2 Axes>"
      ]
     },
     "metadata": {
      "needs_background": "light"
     },
     "output_type": "display_data"
    }
   ],
   "source": [
    "#Create String for data creation\n",
    "#Some Basic descriptive Statistics over time for each commune\n",
    "querystring = \"\"\"\n",
    "SELECT dwu.code_commune AS code,\n",
    "dwu.type_local AS type,  \n",
    "year(dwu.date_mutation) AS 'Year', \n",
    "dwu.nom_commune AS commune,\n",
    "dwu.code_postal AS Code_post,\n",
    "ROUND(AVG(dwu.valeur_fonciere/dwu.surface_reelle_bati),0) AS Prixm2,\n",
    "ROUND(AVG(dwu.valeur_fonciere),0) AS price,\n",
    "ROUND(AVG(dwu.surface_reelle_bati),0) AS Avg_sqm,\n",
    "COUNT(dwu.id_mutation) AS transactions,\n",
    "MAX(dwu.latitude) AS lat,\n",
    "MAX(dwu.longitude) AS lon,\n",
    "ROUND(AVG(dwu.nombre_pieces_principales),1) AS No_rooms\n",
    "FROM data_working_update dwu\n",
    "WHERE dwu.type_local IN('Appartement', 'Maison')\n",
    "GROUP BY code_commune, dwu.code_postal,year(dwu.date_mutation), nom_commune, dwu.type_local;\n",
    "\"\"\"\n",
    "\n",
    "#Load Libraries and Create engine Connection\n",
    "\n",
    "engine =sqlalchemy.create_engine(\n",
    "        sqlalchemy.engine.url.URL.create(\n",
    "        drivername=\"mysql+pymysql\",\n",
    "        username='Estimators',  # e.g. \"my-database-user\"\n",
    "        password='Wagon',  # e.g. \"my-database-password\"\n",
    "        host='34.77.88.127',  # e.g. \"127.0.0.1\"\n",
    "        port=3306,  # e.g. 3306\n",
    "        database='Housing_France',  # e.g. \"my-database-name\"\n",
    "    ))\n",
    "\n",
    "conn = engine.connect().execution_options(stream_results=True)    \n",
    "\n",
    "def get_data(querystring,chunk):\n",
    "    engine =sqlalchemy.create_engine(\n",
    "    sqlalchemy.engine.url.URL.create(\n",
    "    drivername=\"mysql+pymysql\",\n",
    "    username='Estimators',  #\n",
    "    password='Wagon',  # e.g. \"my-database-password\"\n",
    "    host='34.77.88.127',  # e.g. \"127.0.0.1\"\n",
    "    port=3306,  # e.g. 3306\n",
    "    database='Housing_France',  # e.g. \"my-database-name\"\n",
    "    ))\n",
    "    conn = engine.connect().execution_options(stream_results=True)\n",
    "    frame = pd.DataFrame()\n",
    "    for chunk_dataframe in pd.read_sql(\n",
    "            querystring, conn, chunksize=chunk):\n",
    "            #print(f\"Got dataframe w/{len(chunk_dataframe)} rows\")\n",
    "            frame= frame.append(chunk_dataframe)\n",
    "\n",
    "            # ... do something with dataframe ...\n",
    "            \n",
    "    return frame\n",
    "#Get data from Mysql on Gcloud\n",
    "df = get_data(querystring, 100000)\n",
    "df.head(10)\n",
    "\n",
    "#Get the correlations\n",
    "corr =df.corr()\n",
    "\n",
    "# plot the heatmap\n",
    "sns.heatmap(corr, \n",
    "        xticklabels=corr.columns,\n",
    "        yticklabels=corr.columns)\n"
   ]
  },
  {
   "cell_type": "code",
   "execution_count": 116,
   "id": "ed8396c7",
   "metadata": {
    "scrolled": false
   },
   "outputs": [],
   "source": [
    "import requests\n",
    "url = 'https://raw.githubusercontent.com/gregoiredavid/france-geojson/master/communes-version-simplifiee.geojson'\n",
    "response =  requests.get(url).json()"
   ]
  },
  {
   "cell_type": "code",
   "execution_count": 146,
   "id": "f4851bc2",
   "metadata": {},
   "outputs": [],
   "source": [
    "df2 = df[df['type'] == 'Appartement']\n",
    "geodf = df2[['commune','transactions']]\n"
   ]
  },
  {
   "cell_type": "code",
   "execution_count": 147,
   "id": "044f0666",
   "metadata": {},
   "outputs": [
    {
     "name": "stderr",
     "output_type": "stream",
     "text": [
      "/home/julienlefebvre/.pyenv/versions/3.8.6/envs/Housing/lib/python3.8/site-packages/pandas/core/generic.py:5516: SettingWithCopyWarning:\n",
      "\n",
      "\n",
      "A value is trying to be set on a copy of a slice from a DataFrame.\n",
      "Try using .loc[row_indexer,col_indexer] = value instead\n",
      "\n",
      "See the caveats in the documentation: https://pandas.pydata.org/pandas-docs/stable/user_guide/indexing.html#returning-a-view-versus-a-copy\n",
      "\n"
     ]
    }
   ],
   "source": [
    "def transform_string(string, separator):\n",
    "    L = string.split(separator)\n",
    "    return L[0] if L[0] in ['Paris', 'Marseille', 'Lyon'] else L[0]\n",
    "\n",
    "geodf.commune = geodf.commune.apply(lambda x: transform_string(x,' '))\n",
    "geodf = geodf.groupby(geodf.commune).sum().reset_index(drop=False)\n",
    "\n",
    "\n",
    "# import the folium library\n",
    "import folium\n",
    "\n",
    "# initialize the map and store it in a m object\n",
    "m = folium.Map(location=[46.514783, 6.163627], zoom_start=4)\n",
    "\n",
    "# show the map\n",
    "m\n",
    "folium.Choropleth(\n",
    "    geo_data=response,\n",
    "    name=\"choropleth\",\n",
    "    data=geodf,\n",
    "    columns=[\"commune\", \"transactions\"],\n",
    "    key_on= \"feature.properties.nom\",\n",
    "    fill_color=\"OrRd\",\n",
    "    fill_opacity=0.8,\n",
    "    line_opacity=.01,\n",
    "    legend_name=\"transaction par commune\",\n",
    "    nan_fill_color='white'\n",
    ").add_to(m)\n",
    "\n",
    "folium.LayerControl().add_to(m)\n",
    "\n",
    "m"
   ]
  }
 ],
 "metadata": {
  "kernelspec": {
   "display_name": "Python 3 (ipykernel)",
   "language": "python",
   "name": "python3"
  },
  "language_info": {
   "codemirror_mode": {
    "name": "ipython",
    "version": 3
   },
   "file_extension": ".py",
   "mimetype": "text/x-python",
   "name": "python",
   "nbconvert_exporter": "python",
   "pygments_lexer": "ipython3",
   "version": "3.8.6"
  },
  "toc": {
   "base_numbering": 1,
   "nav_menu": {},
   "number_sections": true,
   "sideBar": true,
   "skip_h1_title": false,
   "title_cell": "Table of Contents",
   "title_sidebar": "Contents",
   "toc_cell": false,
   "toc_position": {},
   "toc_section_display": true,
   "toc_window_display": false
  }
 },
 "nbformat": 4,
 "nbformat_minor": 5
}
