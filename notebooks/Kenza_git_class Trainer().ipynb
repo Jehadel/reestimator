{
 "cells": [
  {
   "cell_type": "code",
   "execution_count": 1,
   "id": "ef768bfa",
   "metadata": {},
   "outputs": [],
   "source": [
    "#Importing our Packages\n",
    "import matplotlib.pyplot as plt\n",
    "from sklearn.decomposition import PCA\n",
    "from sklearn.preprocessing import StandardScaler\n",
    "from sklearn.model_selection import train_test_split\n",
    "import pandas as pd\n",
    "import numpy as np\n",
    "from sklearn.linear_model import LinearRegression , Ridge , Lasso\n",
    "from sklearn.metrics import mean_absolute_percentage_error as mape\n",
    "from sklearn.metrics import mean_squared_error as rmse\n",
    "import seaborn as sns\n",
    "\n",
    "from sklearn.metrics import mean_absolute_error as mae\n",
    "\n",
    "\n",
    "from sklearn.dummy import DummyRegressor\n",
    "from sklearn.preprocessing import OneHotEncoder\n",
    "\n",
    "from sklearn.ensemble import RandomForestRegressor\n",
    "\n",
    "from sklearn.metrics import r2_score\n",
    "\n",
    "\n",
    "from sklearn.model_selection import RandomizedSearchCV, RepeatedKFold\n",
    "\n",
    "from sklearn.model_selection import KFold\n",
    "\n",
    "import xgboost as xgb\n",
    "from xgboost.sklearn import XGBRegressor\n",
    "from xgboost import plot_importance\n",
    "\n",
    "\n",
    "# Import library for VIF\n",
    "from statsmodels.stats.outliers_influence import variance_inflation_factor\n",
    "\n",
    "from scipy.stats import loguniform\n"
   ]
  },
  {
   "cell_type": "code",
   "execution_count": 2,
   "id": "8897cc62",
   "metadata": {},
   "outputs": [],
   "source": [
    "from sklearn.preprocessing import OneHotEncoder\n",
    "from sklearn.preprocessing import StandardScaler"
   ]
  },
  {
   "cell_type": "code",
   "execution_count": 3,
   "id": "53bab507",
   "metadata": {},
   "outputs": [
    {
     "data": {
      "text/plain": [
       "'/Users/kenzaelhoussaini/code/Jehadel/reestimator/notebooks'"
      ]
     },
     "execution_count": 3,
     "metadata": {},
     "output_type": "execute_result"
    }
   ],
   "source": [
    "pwd"
   ]
  },
  {
   "cell_type": "code",
   "execution_count": 4,
   "id": "89378840",
   "metadata": {},
   "outputs": [],
   "source": [
    "#Load Libraries and Create engine Connection\n",
    "\n",
    "import pymysql\n",
    "import pandas as pd\n",
    "import numpy as np\n",
    "import sqlalchemy\n",
    "import gc\n",
    "engine =sqlalchemy.create_engine(\n",
    "        sqlalchemy.engine.url.URL.create(\n",
    "        drivername=\"mysql+pymysql\",\n",
    "        username='Estimators',  # e.g. \"my-database-user\"\n",
    "        password='Estimator2021',  # e.g. \"my-database-password\"\n",
    "        host='34.77.88.127',  # e.g. \"127.0.0.1\"\n",
    "        port=3306,  # e.g. 3306\n",
    "        database='Housing_France',  # e.g. \"my-database-name\"\n",
    "    ))\n",
    "\n",
    "conn = engine.connect().execution_options(stream_results=True)"
   ]
  },
  {
   "cell_type": "code",
   "execution_count": 5,
   "id": "5e2f1a71",
   "metadata": {},
   "outputs": [],
   "source": [
    "#Load Libraries and Create engine Connection\n",
    "\n",
    "import pymysql\n",
    "import pandas as pd\n",
    "import numpy as np\n",
    "import sqlalchemy\n",
    "import gc\n",
    "\n",
    "def get_data(querystring,chunk):\n",
    "    engine =sqlalchemy.create_engine(\n",
    "    sqlalchemy.engine.url.URL.create(\n",
    "    drivername=\"mysql+pymysql\",\n",
    "    username='Estimators',  # e.g. \"my-database-user\"\n",
    "    password='Estimator2021',  # e.g. \"my-database-password\"\n",
    "    host='34.77.88.127',  # e.g. \"127.0.0.1\"\n",
    "    port=3306,  # e.g. 3306\n",
    "    database='Housing_France',  # e.g. \"my-database-name\"\n",
    "    ))\n",
    "    conn = engine.connect().execution_options(stream_results=True)\n",
    "    frame = pd.DataFrame()\n",
    "    for chunk_dataframe in pd.read_sql(\n",
    "            querystring, conn, chunksize=chunk):\n",
    "            print(f\"Got dataframe w/{len(chunk_dataframe)} rows\")\n",
    "            frame= frame.append(chunk_dataframe)\n",
    "            # ... do something with dataframe ...\n",
    "            \n",
    "    return frame"
   ]
  },
  {
   "cell_type": "code",
   "execution_count": 6,
   "id": "e06cbf22",
   "metadata": {},
   "outputs": [],
   "source": [
    "#Load Libraries and Create engine Connection\n",
    "\n",
    "import pymysql\n",
    "import pandas as pd\n",
    "import numpy as np\n",
    "import sqlalchemy\n",
    "import gc\n",
    "engine =sqlalchemy.create_engine(\n",
    "        sqlalchemy.engine.url.URL.create(\n",
    "        drivername=\"mysql+pymysql\",\n",
    "        username='Estimators',  # e.g. \"my-database-user\"\n",
    "        password='Estimator2021',  # e.g. \"my-database-password\"\n",
    "        host='34.77.88.127',  # e.g. \"127.0.0.1\"\n",
    "        port=3306,  # e.g. 3306\n",
    "        database='Housing_France',  # e.g. \"my-database-name\"\n",
    "    ))\n",
    "\n",
    "conn = engine.connect().execution_options(stream_results=True)"
   ]
  },
  {
   "cell_type": "code",
   "execution_count": 7,
   "id": "79c268db",
   "metadata": {},
   "outputs": [
    {
     "name": "stdout",
     "output_type": "stream",
     "text": [
      "Got dataframe w/1000 rows\n",
      "Got dataframe w/1000 rows\n",
      "Got dataframe w/1000 rows\n",
      "Got dataframe w/1000 rows\n",
      "Got dataframe w/1000 rows\n",
      "Got dataframe w/1000 rows\n",
      "Got dataframe w/1000 rows\n",
      "Got dataframe w/1000 rows\n",
      "Got dataframe w/1000 rows\n",
      "Got dataframe w/1000 rows\n",
      "Got dataframe w/1000 rows\n",
      "Got dataframe w/1000 rows\n",
      "Got dataframe w/1000 rows\n",
      "Got dataframe w/1000 rows\n",
      "Got dataframe w/1000 rows\n",
      "Got dataframe w/1000 rows\n",
      "Got dataframe w/1000 rows\n",
      "Got dataframe w/1000 rows\n",
      "Got dataframe w/1000 rows\n",
      "Got dataframe w/1000 rows\n",
      "Got dataframe w/1000 rows\n",
      "Got dataframe w/1000 rows\n",
      "Got dataframe w/1000 rows\n",
      "Got dataframe w/1000 rows\n",
      "Got dataframe w/1000 rows\n",
      "Got dataframe w/1000 rows\n",
      "Got dataframe w/1000 rows\n",
      "Got dataframe w/1000 rows\n",
      "Got dataframe w/1000 rows\n",
      "Got dataframe w/1000 rows\n",
      "Got dataframe w/1000 rows\n",
      "Got dataframe w/1000 rows\n",
      "Got dataframe w/1000 rows\n",
      "Got dataframe w/1000 rows\n",
      "Got dataframe w/1000 rows\n",
      "Got dataframe w/1000 rows\n",
      "Got dataframe w/1000 rows\n",
      "Got dataframe w/1000 rows\n",
      "Got dataframe w/1000 rows\n",
      "Got dataframe w/1000 rows\n",
      "Got dataframe w/1000 rows\n",
      "Got dataframe w/1000 rows\n",
      "Got dataframe w/1000 rows\n",
      "Got dataframe w/1000 rows\n",
      "Got dataframe w/1000 rows\n",
      "Got dataframe w/1000 rows\n",
      "Got dataframe w/1000 rows\n",
      "Got dataframe w/1000 rows\n",
      "Got dataframe w/1000 rows\n",
      "Got dataframe w/1000 rows\n",
      "Got dataframe w/1000 rows\n",
      "Got dataframe w/1000 rows\n",
      "Got dataframe w/1000 rows\n",
      "Got dataframe w/1000 rows\n",
      "Got dataframe w/1000 rows\n",
      "Got dataframe w/1000 rows\n",
      "Got dataframe w/1000 rows\n",
      "Got dataframe w/1000 rows\n",
      "Got dataframe w/1000 rows\n",
      "Got dataframe w/1000 rows\n",
      "Got dataframe w/1000 rows\n",
      "Got dataframe w/1000 rows\n",
      "Got dataframe w/1000 rows\n",
      "Got dataframe w/1000 rows\n",
      "Got dataframe w/1000 rows\n",
      "Got dataframe w/1000 rows\n",
      "Got dataframe w/1000 rows\n",
      "Got dataframe w/1000 rows\n",
      "Got dataframe w/1000 rows\n",
      "Got dataframe w/1000 rows\n",
      "Got dataframe w/1000 rows\n",
      "Got dataframe w/1000 rows\n",
      "Got dataframe w/1000 rows\n",
      "Got dataframe w/1000 rows\n",
      "Got dataframe w/1000 rows\n",
      "Got dataframe w/1000 rows\n",
      "Got dataframe w/1000 rows\n",
      "Got dataframe w/1000 rows\n",
      "Got dataframe w/1000 rows\n",
      "Got dataframe w/1000 rows\n",
      "Got dataframe w/1000 rows\n",
      "Got dataframe w/1000 rows\n",
      "Got dataframe w/1000 rows\n",
      "Got dataframe w/1000 rows\n",
      "Got dataframe w/1000 rows\n",
      "Got dataframe w/1000 rows\n",
      "Got dataframe w/1000 rows\n",
      "Got dataframe w/1000 rows\n",
      "Got dataframe w/1000 rows\n",
      "Got dataframe w/1000 rows\n",
      "Got dataframe w/1000 rows\n",
      "Got dataframe w/1000 rows\n",
      "Got dataframe w/1000 rows\n",
      "Got dataframe w/1000 rows\n",
      "Got dataframe w/1000 rows\n",
      "Got dataframe w/1000 rows\n",
      "Got dataframe w/1000 rows\n",
      "Got dataframe w/1000 rows\n",
      "Got dataframe w/1000 rows\n",
      "Got dataframe w/1000 rows\n",
      "Got dataframe w/1000 rows\n",
      "Got dataframe w/1000 rows\n",
      "Got dataframe w/1000 rows\n",
      "Got dataframe w/1000 rows\n",
      "Got dataframe w/1000 rows\n",
      "Got dataframe w/1000 rows\n",
      "Got dataframe w/1000 rows\n",
      "Got dataframe w/1000 rows\n",
      "Got dataframe w/1000 rows\n",
      "Got dataframe w/1000 rows\n",
      "Got dataframe w/1000 rows\n",
      "Got dataframe w/1000 rows\n",
      "Got dataframe w/1000 rows\n",
      "Got dataframe w/1000 rows\n",
      "Got dataframe w/1000 rows\n",
      "Got dataframe w/1000 rows\n",
      "Got dataframe w/1000 rows\n",
      "Got dataframe w/1000 rows\n",
      "Got dataframe w/1000 rows\n",
      "Got dataframe w/1000 rows\n",
      "Got dataframe w/1000 rows\n",
      "Got dataframe w/1000 rows\n",
      "Got dataframe w/1000 rows\n",
      "Got dataframe w/1000 rows\n",
      "Got dataframe w/1000 rows\n",
      "Got dataframe w/1000 rows\n",
      "Got dataframe w/1000 rows\n",
      "Got dataframe w/1000 rows\n",
      "Got dataframe w/1000 rows\n",
      "Got dataframe w/1000 rows\n",
      "Got dataframe w/1000 rows\n",
      "Got dataframe w/1000 rows\n",
      "Got dataframe w/1000 rows\n",
      "Got dataframe w/1000 rows\n",
      "Got dataframe w/1000 rows\n",
      "Got dataframe w/1000 rows\n",
      "Got dataframe w/1000 rows\n",
      "Got dataframe w/1000 rows\n",
      "Got dataframe w/1000 rows\n",
      "Got dataframe w/1000 rows\n",
      "Got dataframe w/1000 rows\n",
      "Got dataframe w/1000 rows\n",
      "Got dataframe w/1000 rows\n",
      "Got dataframe w/1000 rows\n",
      "Got dataframe w/1000 rows\n",
      "Got dataframe w/1000 rows\n",
      "Got dataframe w/1000 rows\n",
      "Got dataframe w/1000 rows\n",
      "Got dataframe w/1000 rows\n",
      "Got dataframe w/1000 rows\n",
      "Got dataframe w/1000 rows\n",
      "Got dataframe w/1000 rows\n",
      "Got dataframe w/1000 rows\n",
      "Got dataframe w/1000 rows\n",
      "Got dataframe w/1000 rows\n",
      "Got dataframe w/1000 rows\n",
      "Got dataframe w/1000 rows\n",
      "Got dataframe w/1000 rows\n",
      "Got dataframe w/1000 rows\n",
      "Got dataframe w/1000 rows\n",
      "Got dataframe w/1000 rows\n",
      "Got dataframe w/1000 rows\n",
      "Got dataframe w/1000 rows\n",
      "Got dataframe w/1000 rows\n",
      "Got dataframe w/1000 rows\n",
      "Got dataframe w/1000 rows\n",
      "Got dataframe w/1000 rows\n",
      "Got dataframe w/1000 rows\n",
      "Got dataframe w/1000 rows\n",
      "Got dataframe w/1000 rows\n",
      "Got dataframe w/1000 rows\n",
      "Got dataframe w/1000 rows\n",
      "Got dataframe w/1000 rows\n",
      "Got dataframe w/1000 rows\n",
      "Got dataframe w/1000 rows\n",
      "Got dataframe w/1000 rows\n",
      "Got dataframe w/1000 rows\n",
      "Got dataframe w/1000 rows\n",
      "Got dataframe w/1000 rows\n",
      "Got dataframe w/1000 rows\n",
      "Got dataframe w/1000 rows\n",
      "Got dataframe w/1000 rows\n",
      "Got dataframe w/1000 rows\n",
      "Got dataframe w/1000 rows\n",
      "Got dataframe w/1000 rows\n",
      "Got dataframe w/1000 rows\n",
      "Got dataframe w/1000 rows\n",
      "Got dataframe w/1000 rows\n",
      "Got dataframe w/1000 rows\n",
      "Got dataframe w/1000 rows\n",
      "Got dataframe w/1000 rows\n",
      "Got dataframe w/1000 rows\n",
      "Got dataframe w/1000 rows\n",
      "Got dataframe w/1000 rows\n",
      "Got dataframe w/1000 rows\n",
      "Got dataframe w/1000 rows\n",
      "Got dataframe w/1000 rows\n",
      "Got dataframe w/1000 rows\n",
      "Got dataframe w/1000 rows\n",
      "Got dataframe w/1000 rows\n",
      "Got dataframe w/1000 rows\n",
      "Got dataframe w/1000 rows\n",
      "Got dataframe w/1000 rows\n",
      "Got dataframe w/1000 rows\n",
      "Got dataframe w/1000 rows\n",
      "Got dataframe w/1000 rows\n",
      "Got dataframe w/1000 rows\n",
      "Got dataframe w/1000 rows\n",
      "Got dataframe w/1000 rows\n",
      "Got dataframe w/1000 rows\n",
      "Got dataframe w/1000 rows\n",
      "Got dataframe w/1000 rows\n",
      "Got dataframe w/1000 rows\n",
      "Got dataframe w/1000 rows\n",
      "Got dataframe w/1000 rows\n",
      "Got dataframe w/1000 rows\n",
      "Got dataframe w/1000 rows\n",
      "Got dataframe w/1000 rows\n",
      "Got dataframe w/1000 rows\n",
      "Got dataframe w/1000 rows\n",
      "Got dataframe w/1000 rows\n",
      "Got dataframe w/1000 rows\n",
      "Got dataframe w/1000 rows\n",
      "Got dataframe w/1000 rows\n",
      "Got dataframe w/1000 rows\n",
      "Got dataframe w/1000 rows\n",
      "Got dataframe w/1000 rows\n",
      "Got dataframe w/1000 rows\n",
      "Got dataframe w/1000 rows\n",
      "Got dataframe w/1000 rows\n",
      "Got dataframe w/1000 rows\n",
      "Got dataframe w/1000 rows\n",
      "Got dataframe w/1000 rows\n",
      "Got dataframe w/1000 rows\n",
      "Got dataframe w/1000 rows\n",
      "Got dataframe w/1000 rows\n",
      "Got dataframe w/1000 rows\n",
      "Got dataframe w/1000 rows\n",
      "Got dataframe w/1000 rows\n",
      "Got dataframe w/1000 rows\n",
      "Got dataframe w/1000 rows\n",
      "Got dataframe w/1000 rows\n",
      "Got dataframe w/1000 rows\n",
      "Got dataframe w/1000 rows\n",
      "Got dataframe w/1000 rows\n",
      "Got dataframe w/1000 rows\n",
      "Got dataframe w/1000 rows\n",
      "Got dataframe w/1000 rows\n",
      "Got dataframe w/1000 rows\n",
      "Got dataframe w/1000 rows\n",
      "Got dataframe w/1000 rows\n",
      "Got dataframe w/1000 rows\n",
      "Got dataframe w/1000 rows\n",
      "Got dataframe w/1000 rows\n",
      "Got dataframe w/1000 rows\n",
      "Got dataframe w/1000 rows\n",
      "Got dataframe w/1000 rows\n",
      "Got dataframe w/1000 rows\n",
      "Got dataframe w/1000 rows\n",
      "Got dataframe w/1000 rows\n",
      "Got dataframe w/1000 rows\n",
      "Got dataframe w/1000 rows\n",
      "Got dataframe w/1000 rows\n",
      "Got dataframe w/1000 rows\n",
      "Got dataframe w/1000 rows\n",
      "Got dataframe w/1000 rows\n",
      "Got dataframe w/1000 rows\n",
      "Got dataframe w/1000 rows\n",
      "Got dataframe w/1000 rows\n",
      "Got dataframe w/1000 rows\n",
      "Got dataframe w/1000 rows\n",
      "Got dataframe w/1000 rows\n",
      "Got dataframe w/1000 rows\n",
      "Got dataframe w/1000 rows\n",
      "Got dataframe w/1000 rows\n",
      "Got dataframe w/1000 rows\n",
      "Got dataframe w/1000 rows\n",
      "Got dataframe w/1000 rows\n",
      "Got dataframe w/1000 rows\n",
      "Got dataframe w/1000 rows\n",
      "Got dataframe w/1000 rows\n",
      "Got dataframe w/1000 rows\n",
      "Got dataframe w/1000 rows\n",
      "Got dataframe w/1000 rows\n",
      "Got dataframe w/1000 rows\n",
      "Got dataframe w/1000 rows\n",
      "Got dataframe w/1000 rows\n",
      "Got dataframe w/1000 rows\n",
      "Got dataframe w/1000 rows\n",
      "Got dataframe w/1000 rows\n",
      "Got dataframe w/1000 rows\n",
      "Got dataframe w/1000 rows\n",
      "Got dataframe w/510 rows\n"
     ]
    }
   ],
   "source": [
    "#Template for getting some data\n",
    "df = get_data(\"\"\"select * from data_working_update WHERE nom_commune IN \n",
    "('Paris 9e Arrondissement','Paris 8e Arrondissement',\n",
    " 'Paris 7e Arrondissement','Paris 6e Arrondissement',\n",
    " 'Paris 5e Arrondissement', 'Paris 4e Arrondissement',\n",
    " 'Paris 3e Arrondissement','Paris 2e Arrondissement',\n",
    " 'Paris 20e Arrondissement', 'Paris 1er Arrondissement',\n",
    " 'Paris 19e Arrondissement','Paris 18e Arrondissement',\n",
    " 'Paris 17e Arrondissement',\n",
    " 'Paris 16e Arrondissement', 'Paris 15e Arrondissement',\n",
    " 'Paris 14e Arrondissement','Paris 13e Arrondissement',\n",
    " 'Paris 12e Arrondissement', 'Paris 11e Arrondissement',\n",
    " 'Paris 10e Arrondissement', \n",
    " 'Nice',\n",
    " 'Marseille 9e Arrondissement','Marseille 8e Arrondissement', 'Marseille 7e Arrondissement',\n",
    " 'Marseille 6e Arrondissement', 'Marseille 5e Arrondissement', 'Marseille 4e Arrondissement',\n",
    " 'Marseille 3e Arrondissement', 'Marseille 2e Arrondissement','Marseille 1er Arrondissement',\n",
    " 'Marseille 16e Arrondissement','Marseille 15e Arrondissement','Marseille 14e Arrondissement',\n",
    " 'Marseille 13e Arrondissement', 'Marseille 12e Arrondissement','Marseille 11e Arrondissement',\n",
    " 'Marseille 10e Arrondissement') \"\"\", 1000)"
   ]
  },
  {
   "cell_type": "code",
   "execution_count": 8,
   "id": "f3d6efa9",
   "metadata": {},
   "outputs": [],
   "source": [
    "data = df.copy()"
   ]
  },
  {
   "cell_type": "code",
   "execution_count": 9,
   "id": "9b5063f8",
   "metadata": {},
   "outputs": [
    {
     "data": {
      "text/plain": [
       "(263337, 17)"
      ]
     },
     "execution_count": 9,
     "metadata": {},
     "output_type": "execute_result"
    }
   ],
   "source": [
    "def drop_duplicates(df, col_name):\n",
    "    return df.drop_duplicates(subset=[col_name])\n",
    "\n",
    "data = drop_duplicates(df=data, col_name = 'id_mutation')\n",
    "data.shape"
   ]
  },
  {
   "cell_type": "code",
   "execution_count": 10,
   "id": "0fc795e5",
   "metadata": {},
   "outputs": [
    {
     "data": {
      "text/plain": [
       "(263337, 18)"
      ]
     },
     "execution_count": 10,
     "metadata": {},
     "output_type": "execute_result"
    }
   ],
   "source": [
    "df2 = data.copy()\n",
    "\n",
    "prixmetr = df2['valeur_fonciere'].values / df2['surface_reelle_bati'].values\n",
    "df2.loc[:,'prixmetre'] = prixmetr\n",
    "df2.shape"
   ]
  },
  {
   "cell_type": "code",
   "execution_count": 11,
   "id": "34eb9855",
   "metadata": {},
   "outputs": [
    {
     "data": {
      "text/plain": [
       "(68840, 17)"
      ]
     },
     "execution_count": 11,
     "metadata": {},
     "output_type": "execute_result"
    }
   ],
   "source": [
    "df2=df2[\n",
    "    (df2['prixmetre'] < 150_000) & (df2['prixmetre'] > 10_000)]\n",
    "\n",
    "df2=df2[\n",
    "    (df2['nombre_pieces_principales'] < 8) & (df2['nombre_pieces_principales'] > 0)]\n",
    "\n",
    "\n",
    "df2=df2[\n",
    "    (df2['surface_reelle_bati'] < 250) & (df2['surface_reelle_bati'] > 10)]\n",
    "\n",
    "df2 = df2.drop(columns = 'nature_mutation')\n",
    "df2.shape"
   ]
  },
  {
   "cell_type": "code",
   "execution_count": 12,
   "id": "78d20be4",
   "metadata": {},
   "outputs": [],
   "source": [
    "def encoding_categ_column(df, col_name):\n",
    "    \n",
    "    L = list(df[col_name].unique())\n",
    "    if '' in L:\n",
    "        df[col_name].replace(\"\", \"NoValue\", inplace=True) #Replace NaN by \"NoCodeNature\"\n",
    "    \n",
    "    ohe = OneHotEncoder(sparse = False) # Instanciate encoder\n",
    "    ohe.fit(df[[col_name]]) # Fit encoder  ---> OneHotEncoder(sparse=False)\n",
    "    \n",
    "    col_encoded = ohe.transform(df[[col_name]]) # Encode\n",
    "\n",
    "    dicts_col = {}\n",
    "    keys = list(ohe.categories_[0])\n",
    "    values = col_encoded.T.astype(int)\n",
    "    \n",
    "    for i,j in enumerate(keys):\n",
    "        dicts_col[j] = values[i,:]\n",
    "\n",
    "    result = pd.DataFrame.from_dict(dicts_col)\n",
    "    \n",
    "    df = df.reset_index(drop=True)\n",
    "    \n",
    "    #Concat df and result dataframes\n",
    "    data_res = pd.concat([df, result], axis = 1)\n",
    "    \n",
    "    if 'NoValue' in list(data_res.columns):\n",
    "        data_res = data_res.drop(columns= ['NoValue',col_name] )\n",
    "    else:\n",
    "        data_res = data_res.drop(columns= col_name)\n",
    "        \n",
    "    return data_res "
   ]
  },
  {
   "cell_type": "code",
   "execution_count": 13,
   "id": "fdf09fd7",
   "metadata": {},
   "outputs": [],
   "source": [
    "data_t = encoding_categ_column(df = df2, col_name = 'nom_commune')\n",
    "\n",
    "data_t2 = data_t\n",
    "\n",
    "data_t3 = encoding_categ_column(df = data_t2, col_name = 'type_local')\n",
    "data_t3.shape\n",
    "\n",
    "data_t4 = data_t3"
   ]
  },
  {
   "cell_type": "markdown",
   "id": "9afeafd3",
   "metadata": {},
   "source": [
    "# Function : training_regression_models"
   ]
  },
  {
   "cell_type": "code",
   "execution_count": 15,
   "id": "07c859eb",
   "metadata": {},
   "outputs": [],
   "source": [
    "def training_regression_models(df, col_list, target_var, scaler,model,params_cv, randomsearch_dict,  nsplits = 10, scor = \"neg_mean_absolute_error\"):\n",
    "        \n",
    "    #df: dataframe\n",
    "    # col_lis : list of features tu use in training\n",
    "    \n",
    "    #by default, col_list = cols_removd_target\n",
    "    #target_var = 'prixmetre' \" old one -----> 'valeur_fonciere' \"\n",
    "    \n",
    "    # scaler = StandardScaler() \"we can use RobustScaler()\"\n",
    "    # model : \"LinearRegression\", \"RandomForest\", \"XGBoost\"\n",
    "    # params : dict for GridSearch ; we do not use it for this initial version\n",
    "    # nsplits, nrepeats : arguments in RepeatedKFold(n_splits=10, n_repeats=3, random_state=1)\n",
    "    # randomsearch_reg_iter --> Please see, RandomizedSearchCV(model, params, n_iter=randomsearch_reg_iter, ..\n",
    "        #by default n_iter = 500\n",
    "        \n",
    "    #randomsearch_xgboost_iter --> Please see, RandomizedSearchCV(estimator = xgboost_regression, ..., n_iter = randomsearch_xgboost_iter\n",
    "        \n",
    "    \"\"\"\n",
    "      ** Iteration numbers for randomsearch for models Ridge, Lasso, RandomForest\n",
    "      \n",
    "        reg = 2\n",
    "        forest = 2\n",
    "        xgboost = 2\n",
    "\n",
    "        randomsearch_dict = {\"reg_iter\": reg,\n",
    "                          \"forest_iter\": forest,\n",
    "                           \"xgboost_iter\": xgboost} \n",
    "                         \n",
    "        **Example of parameters for randomsearch for Linear regression model :**\n",
    "        # define search params\n",
    "        params = dict()\n",
    "        params['alpha'] = list(range(3)) \n",
    "        params['fit_intercept'] = [True, False]\n",
    "        params['normalize'] = [False, True]\n",
    "\n",
    "    \n",
    "        **Example of parameters for randomsearch for Randomforest model :**\n",
    "        n_estimators = [int(x) for x in np.linspace(start = 1, stop = 20, num = 3)] # number of trees \n",
    "                                                                                    #in the random forest\n",
    "        max_features = ['auto', 'sqrt'] # number of features in consideration at every split\n",
    "        max_depth = [int(x) for x in np.linspace(10, 120, num = 3)] # maximum number of levels\n",
    "                                                                        #allowed in each decision tree\n",
    "        min_samples_split = [2, 6, 10] # minimum sample number to split a node\n",
    "        min_samples_leaf = [1, 3, 4] # minimum sample number that can be stored in a leaf node\n",
    "        bootstrap = [True, False] # method used to sample data points\n",
    "        \n",
    "        params_cv = {'n_estimators': n_estimators,\n",
    "        'max_features': max_features,\n",
    "        'max_depth': max_depth,\n",
    "        'min_samples_split': min_samples_split,\n",
    "        'min_samples_leaf': min_samples_leaf,\n",
    "        'bootstrap': bootstrap}\n",
    "        \n",
    "        **Example of parameters for randomsearch for XGBoost model :**\n",
    "        \n",
    "         params_cv = {\"learning_rate\": (0.05, 0.10, 0.15),\n",
    "                        \"max_depth\": [ 3, 4, 5, 6, 8],\n",
    "                        \"min_child_weight\": [ 1, 3, 5, 7],\n",
    "                        \"gamma\":[ 0.0, 0.1, 0.2],\n",
    "                        \"colsample_bytree\":[ 0.3, 0.4],}\n",
    "                         \n",
    "     \"\"\"\n",
    "    \n",
    "    #scor \n",
    "    \n",
    "    # define dataset\n",
    "    y = df[target_var]\n",
    "    X = df[col_list]\n",
    "    \n",
    "    \n",
    "    #instantiating train test split while creating my X and y train and test variables\n",
    "    X_train, X_test, y_train, y_test = train_test_split(X, y, test_size = 0.3, random_state = 0)\n",
    "\n",
    "    #instantiating the standard scaler and setting it equal to ss\n",
    "    #scaling my Xs\n",
    "    \n",
    "    scaler.fit(X_train)\n",
    "    X_train_sc = scaler.transform(X_train)\n",
    "    X_test_sc = scaler.transform(X_test)\n",
    "    \n",
    "    # define model\n",
    "    if model == \"LinearRegression\":\n",
    "        \n",
    "        la= Lasso()\n",
    "        ri = Ridge()\n",
    "        #lr = LinearRegression()\n",
    "        models = [la,ri] #[la,ri,lr]\n",
    "        \n",
    "        feature_importances = {'Lasso': np.zeros((len(cols_removd_target), )), \"Ridge\" : np.zeros((len(cols_removd_target), ))} # dict Keys :(la, ri and lr) models , values : .coef_\n",
    "        result = {'Lasso': {}, \"Ridge\" : {}} # dict Keys :(XGBoost) model , values : result after RandomizedSearchCV\n",
    "        \n",
    "        for model in models:\n",
    "            \n",
    "            # define search          \n",
    "            print(\"****  RandomizedSearchCV  ****\")\n",
    "            # define evaluation\n",
    "            cv = KFold(n_splits=nsplits)\n",
    "            \n",
    "            search = RandomizedSearchCV(model, params_cv, n_iter=randomsearch_dict['reg_iter'], \n",
    "                                        scoring= scor, n_jobs=-1, \n",
    "                                        cv=cv, random_state=1)\n",
    "            \n",
    "            # execute search\n",
    "            res = search.fit(X_train_sc, y_train)\n",
    "           \n",
    "            model = model.set_params(**res.best_params_)\n",
    "            #print(\"model  \", model)\n",
    "\n",
    "            \n",
    "            linear = model.fit(X_train_sc,y_train)\n",
    "            \n",
    "            # Use the model on the testing data to predict the results\n",
    "            y_pred = linear.predict(X_test_sc)\n",
    "\n",
    "            \n",
    "            if model == la:\n",
    "                feature_importances[\"Lasso\"] = linear.coef_\n",
    "                #feature_importances[str(model)] = linear.coef_\n",
    "            \n",
    "            if model == ri:\n",
    "                feature_importances[\"Ridge\"] = linear.coef_\n",
    "                \n",
    "            # for each model, we add a RandomizedSearchCV\n",
    "            if model == la:\n",
    "                #return feature_importances, result\n",
    "                result[\"Lasso\"]['r2'] = 100*(r2_score(y_test, y_pred))\n",
    "                result[\"Lasso\"]['mape'] = round(mape(y_test, y_pred), 2)\n",
    "                result[\"Lasso\"]['rmse'] = rmse(y_test, y_pred)\n",
    "\n",
    "            if model == ri:\n",
    "                result[\"Ridge\"]['r2'] = 100*(r2_score(y_test, y_pred))\n",
    "                result[\"Ridge\"]['mape'] = round(mape(y_test, y_pred), 2)\n",
    "                result[\"Ridge\"]['rmse'] = rmse(y_test, y_pred)\n",
    "\n",
    "\n",
    "            \n",
    "    if model == \"RandomForest\":    \n",
    "        \n",
    "        print(\"****  RandomizedSearchCV  ****\")\n",
    "        \n",
    "        result = {'RandomForest': {}} # dict Keys :(XGBoost) model , values : result after RandomizedSearchCV\n",
    "                      \n",
    "        random_forest = RandomForestRegressor(random_state = 42)\n",
    "        \n",
    "        search = RandomizedSearchCV(estimator = random_forest, param_distributions = params_cv,\n",
    "               n_iter = randomsearch_dict['forest_iter'], cv = 5, verbose=2, random_state=42, n_jobs = -1)\n",
    "        \n",
    "        # execute search\n",
    "        res = search.fit(X_train_sc, y_train)\n",
    "        \n",
    "        random_forest = random_forest.set_params(**res.best_params_)\n",
    "        \n",
    "        #Fitting the Random Forest model\n",
    "        random_forest.fit(X_train_sc,y_train)\n",
    "\n",
    "        # Use the model on the testing data to predict the results\n",
    "        y_pred = random_forest.predict(X_test_sc)\n",
    "        \n",
    "       \n",
    "\n",
    "        feature_importances = pd.DataFrame(random_forest.feature_importances_,\n",
    "                                       index = X_train.columns,\n",
    "                                       columns=['importance']).sort_values('importance', ascending=False)\n",
    "\n",
    "        #print(feature_importances)\n",
    "        \n",
    "        # RandomizedSearchCV\n",
    "        \n",
    "        #return feature_importances, result\n",
    "        \n",
    "        result[\"RandomForest\"]['r2'] = 100*(r2_score(y_test, y_pred))\n",
    "        result[\"RandomForest\"]['mape'] = mape(y_test, y_pred)\n",
    "        result[\"RandomForest\"]['rmse'] = rmse(y_test, y_pred)\n",
    "            \n",
    "\n",
    "       \n",
    "    if model == \"XGBoost\":\n",
    "        \n",
    "        print(\"****  RandomizedSearchCV  ****\")\n",
    "        result = {'XGBoost': {}} # dict Keys :(XGBoost) model , values : result after RandomizedSearchCV\n",
    "\n",
    "              \n",
    "        xgboost_regression = xgb.XGBRegressor(booster = 'gbtree', objective ='reg:squarederror', \n",
    "                                    colsample_bytree = 0.3, learning_rate = 0.35,\n",
    "          max_depth = 10, alpha = 0.1, n_estimators = 500)\n",
    "        \n",
    "        search = RandomizedSearchCV(estimator = xgboost_regression, \n",
    "                           param_distributions = params_cv, \n",
    "                           n_iter = randomsearch_dict['xgboost_iter'], cv = 3, verbose=2, #n_iter=1000\n",
    "                           random_state=0, n_jobs = -1)     \n",
    "        \n",
    "        #Fitting the Random Forest model\n",
    "        res = search.fit(X_train_sc,y_train)\n",
    "        \n",
    "        # summarize result\n",
    "        #print('Best Score: %s' % res.best_score_)\n",
    "        #print('Best Hyperparameters: %s' % res.best_params_)\n",
    "        \n",
    "        xgboost_regression = xgboost_regression.set_params(**res.best_params_)\n",
    "       \n",
    "        #Fitting the XGBoost model\n",
    "        xgboost_regression.fit(X_train_sc,y_train)\n",
    "\n",
    "        # Use the model on the testing data to predict the results\n",
    "        y_pred = xgboost_regression.predict(X_test_sc)\n",
    "        \n",
    "        \n",
    "        feature_importances = pd.DataFrame(xgboost_regression.feature_importances_,\n",
    "                                       index = X_train.columns,\n",
    "                                       columns=['importance']).sort_values('importance', ascending=False)\n",
    "        \n",
    "        \n",
    "        #return feature_importances, result\n",
    "        \n",
    "        result[\"XGBoost\"]['r2'] = 100*(r2_score(y_test, y_pred))\n",
    "        result[\"XGBoost\"]['mape'] = mape(y_test, y_pred)\n",
    "        result[\"XGBoost\"]['rmse'] = rmse(y_test, y_pred)\n",
    "        \n",
    "\n",
    "        #print(feature_importances)\n",
    "        fig, ax = plt.subplots(figsize=(17, 7))\n",
    "        plot_importance(xgboost_regression, ax = ax)\n",
    "        plt.show()\n",
    "          \n",
    "    return feature_importances, result\n"
   ]
  },
  {
   "cell_type": "markdown",
   "id": "4e5d7a36",
   "metadata": {},
   "source": [
    "# Class"
   ]
  },
  {
   "cell_type": "code",
   "execution_count": 46,
   "id": "91b97ab7",
   "metadata": {},
   "outputs": [],
   "source": [
    "#!/usr/bin/env python\n",
    "# -*- coding: utf-8 -*-\n",
    "# Import packages\n",
    "import matplotlib.pyplot as plt\n",
    "from sklearn.decomposition import PCA\n",
    "from sklearn.preprocessing import StandardScaler, OneHotEncoder\n",
    "from sklearn.model_selection import train_test_split, RandomizedSearchCV, KFold\n",
    "import pandas as pd\n",
    "import numpy as np\n",
    "import seaborn as sns\n",
    "from sklearn.linear_model import LinearRegression , Ridge , Lasso\n",
    "from sklearn.metrics import mean_absolute_percentage_error as mape\n",
    "from sklearn.metrics import mean_squared_error as rmse\n",
    "\n",
    "from sklearn.dummy import DummyRegressor\n",
    "from sklearn.ensemble import RandomForestRegressor\n",
    "from sklearn.metrics import r2_score, mean_absolute_error, mean_squared_error\n",
    "\n",
    "import xgboost as xgb\n",
    "from xgboost.sklearn import XGBRegressor\n",
    "from xgboost import plot_importance\n",
    "\n",
    "# Import library for VIF\n",
    "from statsmodels.stats.outliers_influence import variance_inflation_factor\n",
    "\n",
    "class Trainer():\n",
    "    \"\"\" \n",
    "    Parameters : \n",
    "    ** df : DataFrame , Data \n",
    "    ** col_list : list,  List of features tu use in training.\n",
    "    Please see an example to set col_list in github : \n",
    "    https://github.com/Jehadel/reestimator/blob/KenzaTrainer/notebooks/Kenza/Kenza_git_class%20Trainer().ipynb\n",
    "    \n",
    "    ** target_var:string,  target variable\n",
    "    ** scaler , object = StandardScaler() or RobustScaler()\n",
    "    ** model : string, The model we use in training \n",
    "    Please use  \"Lasso\" for Lasso() model\n",
    "                \"Ridge\" for Ridge model\n",
    "                \"RandomForest\" for RandomForest() model\n",
    "                \"XGBoost\" for XGBoost() model   \n",
    "    \n",
    "    # params_cv : dict. We used it in RandomizedSearchCV(estimator,param_distributions = params_cv, .....)\n",
    "    \n",
    "    # nsplits : arguments in KFold(n_splits= splits)\n",
    "    # randomsearch_dict : dict, We used it in RandomizedSearchCV(..., n_iter = randomsearch_dict['forest_iter'], ...)\n",
    "    Please set different values for reg, forest, and xgboost \n",
    "                    reg = 2\n",
    "                    forest = 2\n",
    "                    xgboost = 2\n",
    "\n",
    "        randomsearch_dict = {\"reg_iter\": reg,\n",
    "                  \"forest_iter\": forest,\n",
    "                   \"xgboost_iter\": xgboost} \n",
    "    in this class, we use dictionary for the randomized search ----> randomsearch_dict  \n",
    "    \n",
    "    ** scor:string, we use it in RandomizedSearchCV(...,scoring = scor, ...)\n",
    "    Used to evaluate the performance of the cross-validated model on the test set.  \n",
    "    \n",
    "    \"\"\"\n",
    "    def __init__(self, df, col_list, target_var,\n",
    "                 scaler,model,params_cv, randomsearch_dict,\n",
    "                                   nsplits = 10,\n",
    "                                   scor = \"neg_mean_absolute_error\"):\n",
    "\n",
    "        self.df = df\n",
    "        self.col_list = col_list\n",
    "        self.target_var = target_var\n",
    "        self.scaler = scaler\n",
    "        self.model = model\n",
    "        self.params_cv = params_cv\n",
    "        self.randomsearch_dict = randomsearch_dict\n",
    "        self.nsplits = nsplits\n",
    "        self.scor = scor\n",
    "\n",
    "    def define_dataset(self, df, col_list, target_var):\n",
    "        # define dataset\n",
    "        y = self.df[self.target_var]\n",
    "        X = self.df[self.col_list]\n",
    "        return X,y\n",
    "\n",
    "\n",
    "    def holdout(self, X, y):\n",
    "        \"\"\" Instantiating train test split while creating\n",
    "        X and y train and test variables\n",
    "        \"\"\"\n",
    "        #X,y = self.define_dataset(self.df, self.col_list, self.target_var)\n",
    "        X_train, X_test, y_train, y_test = train_test_split(\n",
    "            X, y, test_size = 0.3, random_state = 0)\n",
    "\n",
    "        return X_train, X_test, y_train, y_test\n",
    "\n",
    "    def scale(self, X_train, X_test):\n",
    "        \"\"\"instantiating the scaler\n",
    "        scaling Xs\"\"\"\n",
    "\n",
    "        #X_train, X_test, y_train, y_test = self.split_X_y_sets()\n",
    "        self.scaler.fit(X_train)\n",
    "        X_train_sc = self.scaler.transform(X_train)\n",
    "        X_test_sc = self.scaler.transform(X_test)\n",
    "\n",
    "        return X_train_sc, X_test_sc #, y_train, y_test\n",
    "    \n",
    "             \n",
    "    def set_model(self, model):\n",
    "        \n",
    "        \"\"\"defines the model as a class attribute\"\"\"\n",
    "        '''returns a model'''\n",
    "        if self.model==\"Lasso\":\n",
    "            modelo = Lasso()\n",
    "        elif self.model==\"Ridge\":\n",
    "            modelo = Ridge()\n",
    "        elif self.model == \"RandomForest\":\n",
    "            modelo = RandomForestRegressor(random_state = 42)\n",
    "        else:\n",
    "            if self.model == \"XGBoost\":\n",
    "                #modelo = xgb.XGBRegressor()\n",
    "                modelo = xgb.XGBRegressor(booster = 'gbtree', objective ='reg:squarederror', \n",
    "                                                colsample_bytree = 0.3, learning_rate = 0.35,\n",
    "                                      max_depth = 10, alpha = 0.1, n_estimators = 500)\n",
    "\n",
    "          \n",
    "        return modelo\n",
    "    \n",
    "        \n",
    " \n",
    "    def evaluate(self, model, X_train, X_test, y_train, y_test):\n",
    "        \"\"\"evaluates the pipeline on df_test and return the RMSE\"\"\"\n",
    "        \n",
    "        model.fit(X_train,y_train)\n",
    "        y_pred = model.predict(X_test)\n",
    "        R2 = 100*(r2_score(y_test, y_pred))\n",
    "        MAE = round(mape(y_test, y_pred), 2)\n",
    "        RMSE = round(rmse(y_test, y_pred), 2)\n",
    "        \n",
    "        res = {'Model': self.model, 'R2' : R2, 'MAE': MAE, 'RMSE': RMSE}\n",
    "        return res\n",
    "    \n",
    "    \n",
    "    def get_feature_importances(self):\n",
    "        \"\"\"evaluates the pipeline on df_test and return the RMSE\"\"\"   \n",
    "        \n",
    "        X,y = self.define_dataset(self.df, self.col_list, self.target_var)\n",
    "        # execute search\n",
    "        search = self.set_Randomized_search(self.model) \n",
    "        \n",
    "        X_train, X_test, y_train, y_test= self.holdout(X, y)\n",
    "        X_train_sc, X_test_sc = self.scale(X_train, X_test)\n",
    "        res = search.fit(X_train_sc, y_train)\n",
    "        \n",
    "        #model = self.set_model(self.model)\n",
    "                \n",
    "        \n",
    "        if (self.model == \"Lasso\") | (self.model == \"Ridge\"):\n",
    "            \n",
    "            model = self.set_model(self.model)\n",
    "            best = model.set_params(**res.best_params_)\n",
    "            best.fit(X_train_sc,y_train)\n",
    "            features = best.coef_\n",
    "            \n",
    "        else:\n",
    "            #RandomForest or XGBoost\n",
    "            model = self.set_model(self.model)\n",
    "            best = model.set_params(**res.best_params_)\n",
    "            best.fit(X_train_sc,y_train)\n",
    "            features = pd.DataFrame(best.feature_importances_,\n",
    "                        index = X_train.columns,\n",
    "                    columns=['importance']).sort_values('importance', ascending=False)     \n",
    "        \n",
    "        return features\n",
    "    \n",
    "    def set_Randomized_search(self, model):\n",
    "        \n",
    "        \n",
    "        if (self.model == \"Lasso\") | (self.model == \"Ridge\"):\n",
    "            \n",
    "            model = self.set_model(self.model)\n",
    "            \n",
    "            # define cross validation\n",
    "            cv = KFold(n_splits=self.nsplits)\n",
    "\n",
    "            search_case = RandomizedSearchCV(model, self.params_cv,\n",
    "                                        n_iter=self.randomsearch_dict['reg_iter'],\n",
    "                                            scoring= self.scor, n_jobs=-1,\n",
    "                                                cv=cv, random_state=1)\n",
    "            \n",
    "        else:\n",
    "            if self.model == \"RandomForest\":\n",
    "                \n",
    "                random_forest = self.set_model(self.model)\n",
    "            \n",
    "                #random_forest = RandomForestRegressor(random_state = 42)\n",
    "                \n",
    "                search_case = RandomizedSearchCV(estimator = random_forest, \n",
    "                                                 param_distributions = self.params_cv,\n",
    "                   n_iter = self.randomsearch_dict['forest_iter'], \n",
    "                                                 cv = 5, verbose=2, random_state=42, n_jobs = -1)\n",
    "\n",
    "            else:\n",
    "                print(\"**333*** \", model)\n",
    "\n",
    "                xgboost_regression = self.set_model(self.model)\n",
    "                \n",
    "                search_case = RandomizedSearchCV(estimator = xgboost_regression, \n",
    "                                       param_distributions = self.params_cv, \n",
    "                                       n_iter = self.randomsearch_dict['xgboost_iter'], \n",
    "                                                 cv = 3, verbose=2, #n_iter=1000\n",
    "                                       random_state=0, n_jobs = -1)    \n",
    "\n",
    "        return search_case\n",
    "               \n",
    "\n",
    "    def execute(self):\n",
    "        \n",
    "        X,y = self.define_dataset(self.df, self.col_list, self.target_var)\n",
    "        \n",
    "        # execute search\n",
    "        search = self.set_Randomized_search(self.model) \n",
    "        \n",
    "        X_train, X_test, y_train, y_test= self.holdout(X, y)\n",
    "        X_train_sc, X_test_sc = self.scale(X_train, X_test)\n",
    "        res = search.fit(X_train_sc, y_train)\n",
    "        \n",
    "         # summarize result\n",
    "        print('Best Score: %s' % res.best_score_)\n",
    "        print('Best Hyperparameters: %s' % res.best_params_)\n",
    "        \n",
    "        model = self.set_model(self.model)\n",
    "                \n",
    "        best = model.set_params(**res.best_params_)\n",
    "        #print(\"model  \", model)\n",
    "        \n",
    "        # train and predict\n",
    "        result = self.evaluate(best, X_train_sc, X_test_sc, y_train, y_test)\n",
    "        \n",
    "        return result"
   ]
  },
  {
   "cell_type": "markdown",
   "id": "76262096",
   "metadata": {},
   "source": [
    "# Test"
   ]
  },
  {
   "cell_type": "markdown",
   "id": "5f849b3e",
   "metadata": {},
   "source": [
    "## Lasso()"
   ]
  },
  {
   "cell_type": "code",
   "execution_count": 17,
   "id": "c73e751f",
   "metadata": {},
   "outputs": [],
   "source": [
    "df_new = data_t4.copy()\n",
    "cols = list(df_new.columns)\n",
    "\n",
    "columns_todrop = ['id_mutation', 'date_mutation',\n",
    "         'adresse_nom_voie', 'adresse_code_voie',\n",
    "  'code_commune', 'code_postal',\n",
    " 'code_departement',\n",
    " 'id_parcelle', 'valeur_fonciere', 'Paris 10e Arrondissement'\n",
    " ]\n",
    "\n",
    "\n",
    "for i in columns_todrop:\n",
    "    cols.remove(i)\n",
    "    \n",
    "cols_removd_target = cols[:]\n",
    "cols_removd_target.remove('prixmetre')\n",
    "\n",
    "data_v2 = df_new[cols]\n",
    "\n",
    "\n",
    "reg = 2\n",
    "forest = 2\n",
    "xgboost = 2\n",
    "\n",
    "randomsearch_dict = {\"reg_iter\": reg,\n",
    "                  \"forest_iter\": forest,\n",
    "                   \"xgboost_iter\": xgboost} \n",
    "\n",
    "#Example of parameters for randomsearch for Ridge and Lasso models :**\n",
    "# LinearRegession() is equivalent to Lasso() with alpha = 0\n",
    "params_cv_reg = dict()\n",
    "params_cv_reg['alpha'] = list(range(3)) \n",
    "params_cv_reg['fit_intercept'] = [True, False]\n",
    "params_cv_reg['normalize'] = [False, True]"
   ]
  },
  {
   "cell_type": "markdown",
   "id": "6d7d86bb",
   "metadata": {},
   "source": [
    "### function"
   ]
  },
  {
   "cell_type": "code",
   "execution_count": 18,
   "id": "18b111b0",
   "metadata": {},
   "outputs": [
    {
     "name": "stdout",
     "output_type": "stream",
     "text": [
      "****  RandomizedSearchCV  ****\n"
     ]
    },
    {
     "name": "stderr",
     "output_type": "stream",
     "text": [
      "/Users/kenzaelhoussaini/.pyenv/versions/3.8.6/envs/reestimator/lib/python3.8/site-packages/sklearn/model_selection/_search.py:880: UserWarning: With alpha=0, this algorithm does not converge well. You are advised to use the LinearRegression estimator\n",
      "  self.best_estimator_.fit(X, y, **fit_params)\n",
      "/Users/kenzaelhoussaini/.pyenv/versions/3.8.6/envs/reestimator/lib/python3.8/site-packages/sklearn/linear_model/_coordinate_descent.py:530: UserWarning: Coordinate descent with no regularization may lead to unexpected results and is discouraged.\n",
      "  model = cd_fast.enet_coordinate_descent(\n",
      "/Users/kenzaelhoussaini/.pyenv/versions/3.8.6/envs/reestimator/lib/python3.8/site-packages/sklearn/linear_model/_coordinate_descent.py:530: ConvergenceWarning: Objective did not converge. You might want to increase the number of iterations. Duality gap: 6743050775441.529, tolerance: 1366399939.7686615\n",
      "  model = cd_fast.enet_coordinate_descent(\n",
      "/var/folders/5y/6hfgq7bn3rxfh24y7vqbgg7w0000gn/T/ipykernel_89313/1309396515.py:110: UserWarning: With alpha=0, this algorithm does not converge well. You are advised to use the LinearRegression estimator\n",
      "  linear = model.fit(X_train_sc,y_train)\n",
      "/Users/kenzaelhoussaini/.pyenv/versions/3.8.6/envs/reestimator/lib/python3.8/site-packages/sklearn/linear_model/_coordinate_descent.py:530: UserWarning: Coordinate descent with no regularization may lead to unexpected results and is discouraged.\n",
      "  model = cd_fast.enet_coordinate_descent(\n",
      "/Users/kenzaelhoussaini/.pyenv/versions/3.8.6/envs/reestimator/lib/python3.8/site-packages/sklearn/linear_model/_coordinate_descent.py:530: ConvergenceWarning: Objective did not converge. You might want to increase the number of iterations. Duality gap: 6743050775441.529, tolerance: 1366399939.7686615\n",
      "  model = cd_fast.enet_coordinate_descent(\n"
     ]
    },
    {
     "name": "stdout",
     "output_type": "stream",
     "text": [
      "****  RandomizedSearchCV  ****\n"
     ]
    }
   ],
   "source": [
    "feature_importances, result = training_regression_models(df = data_v2, \n",
    "                                                             col_list = cols_removd_target,\n",
    "                                                             target_var = \"prixmetre\" ,\n",
    "                                                         scaler = StandardScaler(),\n",
    "                                                        model=\"LinearRegression\",\n",
    "                                                         params_cv= params_cv_reg,\n",
    "                                                         randomsearch_dict = randomsearch_dict,\n",
    "                                                        nsplits = 2, \n",
    "                                                    scor = \"neg_mean_absolute_error\")\n",
    "           "
   ]
  },
  {
   "cell_type": "code",
   "execution_count": 19,
   "id": "2d092668",
   "metadata": {},
   "outputs": [
    {
     "data": {
      "text/plain": [
       "{'Lasso': {'r2': -235.12574912546717,\n",
       "  'mape': 1.01,\n",
       "  'rmse': 279744124.38850623},\n",
       " 'Ridge': {'r2': -2467.08479046993, 'mape': 1.08, 'rmse': 2142857983.3541954}}"
      ]
     },
     "execution_count": 19,
     "metadata": {},
     "output_type": "execute_result"
    }
   ],
   "source": [
    "result"
   ]
  },
  {
   "cell_type": "code",
   "execution_count": 526,
   "id": "f3731dce",
   "metadata": {},
   "outputs": [
    {
     "data": {
      "text/plain": [
       "{'Lasso': array([-6.04217175e+02, -4.67670237e+02,  6.74051637e+02,  6.43651672e+02,\n",
       "        -2.32694234e+02, -3.94276284e+01, -1.27624187e+02, -1.31876693e+02,\n",
       "         1.04824079e+02,  1.88857275e+01,  3.30272630e+01, -5.34993778e+01,\n",
       "         1.14596770e+02,  5.17262537e+02, -5.52885064e+01, -4.39549693e+01,\n",
       "         1.37728034e+01,  2.31618929e+00, -1.33023599e+02, -9.64735812e+01,\n",
       "        -2.20128822e+01,  1.47252632e+02, -1.41199701e+02, -1.21133801e+02,\n",
       "        -2.29528196e+01, -1.84007033e+01, -1.86654608e+02,  3.28573098e+02,\n",
       "         3.56672958e+01,  2.38093433e+01,  1.99753055e+02,  2.58714374e+02,\n",
       "         7.30200975e+01, -4.46896258e+01,  1.08304764e+02,  2.97672713e+02,\n",
       "         8.56386369e+01,  6.43897555e+02,  7.25423669e+02,  4.72583853e+02,\n",
       "         6.15065916e+01, -1.74355777e+02,  3.54833118e-09]),\n",
       " 'Ridge': array([ 1.25113851e+03, -2.15109987e+03, -1.88379670e+04, -2.68085357e+03,\n",
       "        -7.76978277e+03, -1.19626610e+03, -2.73170696e+02, -3.67276836e+03,\n",
       "         7.75961940e+03, -1.31094245e+03,  1.35755359e+04, -1.17589880e+03,\n",
       "         7.68742363e+03, -2.82846152e+03,  9.53510403e+03,  4.18382078e+03,\n",
       "         2.19247604e+03,  5.10985997e+03, -8.60123527e+03, -7.16170099e+03,\n",
       "        -2.20125561e+01,  1.73184413e+04, -3.71853026e+03, -1.30612454e+03,\n",
       "        -2.25267083e+03, -2.21556653e+03, -3.00237717e+03, -3.07005222e+03,\n",
       "        -3.15018132e+03, -5.39218372e+03, -4.63992260e+03,  1.33451556e+03,\n",
       "         2.13176756e+02, -5.06866798e+02,  2.27470773e+03, -9.50098636e+02,\n",
       "        -1.83909866e+03,  9.16688479e+02,  2.85888340e+03, -7.49373360e+03,\n",
       "         2.51173744e+02,  3.64547253e+19,  3.64547253e+19])}"
      ]
     },
     "execution_count": 526,
     "metadata": {},
     "output_type": "execute_result"
    }
   ],
   "source": [
    "feature_importances"
   ]
  },
  {
   "cell_type": "markdown",
   "id": "2cb07c43",
   "metadata": {},
   "source": [
    "### class"
   ]
  },
  {
   "cell_type": "code",
   "execution_count": 220,
   "id": "f94e9a03",
   "metadata": {},
   "outputs": [
    {
     "name": "stdout",
     "output_type": "stream",
     "text": [
      "Best Score: -12679.058206306068\n",
      "Best Hyperparameters: {'normalize': False, 'fit_intercept': False, 'alpha': 0}\n"
     ]
    },
    {
     "data": {
      "text/plain": [
       "{'Model': 'Ridge', 'R2': -2467.08479046993, 'MAE': 1.08, 'RMSE': 2142857983.35}"
      ]
     },
     "execution_count": 220,
     "metadata": {},
     "output_type": "execute_result"
    }
   ],
   "source": [
    "trainer = Trainer(df = data_v2, \n",
    "                col_list = cols_removd_target,\n",
    "                target_var = \"prixmetre\" ,\n",
    "                scaler = StandardScaler(),\n",
    "                 model=\"Ridge\",\n",
    "                 params_cv= params_cv_reg,\n",
    "                randomsearch_dict = randomsearch_dict,\n",
    "               nsplits = 2, \n",
    "               scor = \"neg_mean_absolute_error\")\n",
    "\n",
    "trainer.execute()"
   ]
  },
  {
   "cell_type": "code",
   "execution_count": 223,
   "id": "25bc9502",
   "metadata": {},
   "outputs": [],
   "source": [
    "X, y = trainer.define_dataset(df = data_v2, \n",
    "                col_list = cols_removd_target,\n",
    "                target_var = \"prixmetre\" )"
   ]
  },
  {
   "cell_type": "code",
   "execution_count": 227,
   "id": "eaa83c28",
   "metadata": {},
   "outputs": [
    {
     "data": {
      "text/plain": [
       "Index(['surface_reelle_bati', 'nombre_pieces_principales', 'surface_terrain',\n",
       "       'longitude', 'latitude', 'Marseille 10e Arrondissement',\n",
       "       'Marseille 11e Arrondissement', 'Marseille 12e Arrondissement',\n",
       "       'Marseille 13e Arrondissement', 'Marseille 14e Arrondissement',\n",
       "       'Marseille 15e Arrondissement', 'Marseille 16e Arrondissement',\n",
       "       'Marseille 1er Arrondissement', 'Marseille 2e Arrondissement',\n",
       "       'Marseille 3e Arrondissement', 'Marseille 4e Arrondissement',\n",
       "       'Marseille 5e Arrondissement', 'Marseille 6e Arrondissement',\n",
       "       'Marseille 7e Arrondissement', 'Marseille 8e Arrondissement',\n",
       "       'Marseille 9e Arrondissement', 'Nice', 'Paris 11e Arrondissement',\n",
       "       'Paris 12e Arrondissement', 'Paris 13e Arrondissement',\n",
       "       'Paris 14e Arrondissement', 'Paris 15e Arrondissement',\n",
       "       'Paris 16e Arrondissement', 'Paris 17e Arrondissement',\n",
       "       'Paris 18e Arrondissement', 'Paris 19e Arrondissement',\n",
       "       'Paris 1er Arrondissement', 'Paris 20e Arrondissement',\n",
       "       'Paris 2e Arrondissement', 'Paris 3e Arrondissement',\n",
       "       'Paris 4e Arrondissement', 'Paris 5e Arrondissement',\n",
       "       'Paris 6e Arrondissement', 'Paris 7e Arrondissement',\n",
       "       'Paris 8e Arrondissement', 'Paris 9e Arrondissement', 'Appartement',\n",
       "       'Maison'],\n",
       "      dtype='object')"
      ]
     },
     "execution_count": 227,
     "metadata": {},
     "output_type": "execute_result"
    }
   ],
   "source": [
    "X.columns"
   ]
  },
  {
   "cell_type": "code",
   "execution_count": 228,
   "id": "b05b1d93",
   "metadata": {},
   "outputs": [
    {
     "data": {
      "text/plain": [
       "((68840, 44), (68840, 43))"
      ]
     },
     "execution_count": 228,
     "metadata": {},
     "output_type": "execute_result"
    }
   ],
   "source": [
    "data_v2.shape, X.shape"
   ]
  },
  {
   "cell_type": "code",
   "execution_count": 48,
   "id": "9f92de19",
   "metadata": {},
   "outputs": [
    {
     "data": {
      "text/plain": [
       "array([ 1.25113851e+03, -2.15109987e+03, -1.88379670e+04, -2.68085357e+03,\n",
       "       -7.76978277e+03, -1.19626610e+03, -2.73170696e+02, -3.67276836e+03,\n",
       "        7.75961940e+03, -1.31094245e+03,  1.35755359e+04, -1.17589880e+03,\n",
       "        7.68742363e+03, -2.82846152e+03,  9.53510403e+03,  4.18382078e+03,\n",
       "        2.19247604e+03,  5.10985997e+03, -8.60123527e+03, -7.16170099e+03,\n",
       "       -2.20125561e+01,  1.73184413e+04, -3.71853026e+03, -1.30612454e+03,\n",
       "       -2.25267083e+03, -2.21556653e+03, -3.00237717e+03, -3.07005222e+03,\n",
       "       -3.15018132e+03, -5.39218372e+03, -4.63992260e+03,  1.33451556e+03,\n",
       "        2.13176756e+02, -5.06866798e+02,  2.27470773e+03, -9.50098636e+02,\n",
       "       -1.83909866e+03,  9.16688479e+02,  2.85888340e+03, -7.49373360e+03,\n",
       "        2.51173744e+02,  3.64547253e+19,  3.64547253e+19])"
      ]
     },
     "execution_count": 48,
     "metadata": {},
     "output_type": "execute_result"
    }
   ],
   "source": [
    "trainer.get_feature_importances()"
   ]
  },
  {
   "cell_type": "markdown",
   "id": "237d6129",
   "metadata": {},
   "source": [
    "## Ridge()"
   ]
  },
  {
   "cell_type": "markdown",
   "id": "8ee69b3e",
   "metadata": {},
   "source": [
    "### function"
   ]
  },
  {
   "cell_type": "markdown",
   "id": "374a6dd9",
   "metadata": {},
   "source": [
    "*the function returns results for Lasso & Ridge models*"
   ]
  },
  {
   "cell_type": "code",
   "execution_count": 49,
   "id": "5df77aa7",
   "metadata": {},
   "outputs": [
    {
     "data": {
      "text/plain": [
       "{'Lasso': {'r2': -235.12574912546717,\n",
       "  'mape': 1.01,\n",
       "  'rmse': 279744124.38850623},\n",
       " 'Ridge': {'r2': -2467.08479046993, 'mape': 1.08, 'rmse': 2142857983.3541954}}"
      ]
     },
     "execution_count": 49,
     "metadata": {},
     "output_type": "execute_result"
    }
   ],
   "source": [
    "result"
   ]
  },
  {
   "cell_type": "markdown",
   "id": "9c32a6f3",
   "metadata": {},
   "source": [
    "### class"
   ]
  },
  {
   "cell_type": "code",
   "execution_count": 50,
   "id": "427bfc20",
   "metadata": {},
   "outputs": [
    {
     "name": "stdout",
     "output_type": "stream",
     "text": [
      "Best Score: -12679.058206306068\n",
      "Best Hyperparameters: {'normalize': False, 'fit_intercept': False, 'alpha': 0}\n"
     ]
    },
    {
     "data": {
      "text/plain": [
       "{'Model': 'Ridge', 'R2': -2467.08479046993, 'MAE': 1.08, 'RMSE': 2142857983.35}"
      ]
     },
     "execution_count": 50,
     "metadata": {},
     "output_type": "execute_result"
    }
   ],
   "source": [
    "trainer = Trainer(df = data_v2, \n",
    "                                 col_list = cols_removd_target,\n",
    "                  target_var = \"prixmetre\" ,\n",
    "                scaler = StandardScaler(),\n",
    "                 model=\"Ridge\",\n",
    "                 params_cv= params_cv_reg,\n",
    "                     randomsearch_dict = randomsearch_dict,\n",
    "               nsplits = 2, \n",
    "         scor = \"neg_mean_absolute_error\")\n",
    "\n",
    "trainer.execute()"
   ]
  },
  {
   "cell_type": "code",
   "execution_count": 51,
   "id": "11fab40c",
   "metadata": {},
   "outputs": [
    {
     "data": {
      "text/plain": [
       "array([ 1.25113851e+03, -2.15109987e+03, -1.88379670e+04, -2.68085357e+03,\n",
       "       -7.76978277e+03, -1.19626610e+03, -2.73170696e+02, -3.67276836e+03,\n",
       "        7.75961940e+03, -1.31094245e+03,  1.35755359e+04, -1.17589880e+03,\n",
       "        7.68742363e+03, -2.82846152e+03,  9.53510403e+03,  4.18382078e+03,\n",
       "        2.19247604e+03,  5.10985997e+03, -8.60123527e+03, -7.16170099e+03,\n",
       "       -2.20125561e+01,  1.73184413e+04, -3.71853026e+03, -1.30612454e+03,\n",
       "       -2.25267083e+03, -2.21556653e+03, -3.00237717e+03, -3.07005222e+03,\n",
       "       -3.15018132e+03, -5.39218372e+03, -4.63992260e+03,  1.33451556e+03,\n",
       "        2.13176756e+02, -5.06866798e+02,  2.27470773e+03, -9.50098636e+02,\n",
       "       -1.83909866e+03,  9.16688479e+02,  2.85888340e+03, -7.49373360e+03,\n",
       "        2.51173744e+02,  3.64547253e+19,  3.64547253e+19])"
      ]
     },
     "execution_count": 51,
     "metadata": {},
     "output_type": "execute_result"
    }
   ],
   "source": [
    "trainer.get_feature_importances()"
   ]
  },
  {
   "cell_type": "markdown",
   "id": "5a5b7c14",
   "metadata": {},
   "source": [
    "## RandomForest()"
   ]
  },
  {
   "cell_type": "code",
   "execution_count": 52,
   "id": "e3e66561",
   "metadata": {},
   "outputs": [],
   "source": [
    "#Example of parameters for randomsearch for Randomforest model :**\n",
    "n_estimators = [int(x) for x in np.linspace(start = 1, stop = 20, num = 3)] # number of trees \n",
    "                                                                                    #in the random forest\n",
    "max_features = ['auto', 'sqrt'] # number of features in consideration at every split\n",
    "max_depth = [int(x) for x in np.linspace(10, 120, num = 3)] # maximum number of levels\n",
    "                                                                        #allowed in each decision tree\n",
    "min_samples_split = [2, 6, 10] # minimum sample number to split a node\n",
    "min_samples_leaf = [1, 3, 4] # minimum sample number that can be stored in a leaf node\n",
    "bootstrap = [True, False] # method used to sample data points\n",
    "\n",
    "params_cv_forest = {'n_estimators': n_estimators,\n",
    "        'max_features': max_features,\n",
    "        'max_depth': max_depth,\n",
    "        'min_samples_split': min_samples_split,\n",
    "        'min_samples_leaf': min_samples_leaf,\n",
    "        'bootstrap': bootstrap}    "
   ]
  },
  {
   "cell_type": "markdown",
   "id": "fdfdb9bb",
   "metadata": {},
   "source": [
    "### Function"
   ]
  },
  {
   "cell_type": "code",
   "execution_count": 53,
   "id": "5ffb69f8",
   "metadata": {},
   "outputs": [
    {
     "name": "stdout",
     "output_type": "stream",
     "text": [
      "****  RandomizedSearchCV  ****\n",
      "Fitting 5 folds for each of 2 candidates, totalling 10 fits\n"
     ]
    }
   ],
   "source": [
    "feature_importances, result = training_regression_models(df = data_v2, \n",
    "                                                             col_list = cols_removd_target,\n",
    "                                                             target_var = \"prixmetre\" ,\n",
    "                                                         scaler = StandardScaler(),\n",
    "                                                        model=\"RandomForest\",\n",
    "                                                         params_cv= params_cv_forest,\n",
    "                                                         randomsearch_dict = randomsearch_dict,\n",
    "                                                        nsplits = 2, \n",
    "                                                    scor = \"neg_mean_absolute_error\")"
   ]
  },
  {
   "cell_type": "code",
   "execution_count": 54,
   "id": "2568e355",
   "metadata": {},
   "outputs": [
    {
     "data": {
      "text/plain": [
       "{'RandomForest': {'r2': 4.251378665542093,\n",
       "  'mape': 0.23252310898892378,\n",
       "  'rmse': 79925563.1849003}}"
      ]
     },
     "execution_count": 54,
     "metadata": {},
     "output_type": "execute_result"
    }
   ],
   "source": [
    "result"
   ]
  },
  {
   "cell_type": "code",
   "execution_count": 55,
   "id": "48ebc031",
   "metadata": {},
   "outputs": [
    {
     "data": {
      "text/html": [
       "<div>\n",
       "<style scoped>\n",
       "    .dataframe tbody tr th:only-of-type {\n",
       "        vertical-align: middle;\n",
       "    }\n",
       "\n",
       "    .dataframe tbody tr th {\n",
       "        vertical-align: top;\n",
       "    }\n",
       "\n",
       "    .dataframe thead th {\n",
       "        text-align: right;\n",
       "    }\n",
       "</style>\n",
       "<table border=\"1\" class=\"dataframe\">\n",
       "  <thead>\n",
       "    <tr style=\"text-align: right;\">\n",
       "      <th></th>\n",
       "      <th>importance</th>\n",
       "    </tr>\n",
       "  </thead>\n",
       "  <tbody>\n",
       "    <tr>\n",
       "      <th>latitude</th>\n",
       "      <td>0.260484</td>\n",
       "    </tr>\n",
       "    <tr>\n",
       "      <th>surface_reelle_bati</th>\n",
       "      <td>0.254018</td>\n",
       "    </tr>\n",
       "    <tr>\n",
       "      <th>longitude</th>\n",
       "      <td>0.181508</td>\n",
       "    </tr>\n",
       "    <tr>\n",
       "      <th>surface_terrain</th>\n",
       "      <td>0.180195</td>\n",
       "    </tr>\n",
       "    <tr>\n",
       "      <th>nombre_pieces_principales</th>\n",
       "      <td>0.036996</td>\n",
       "    </tr>\n",
       "  </tbody>\n",
       "</table>\n",
       "</div>"
      ],
      "text/plain": [
       "                           importance\n",
       "latitude                     0.260484\n",
       "surface_reelle_bati          0.254018\n",
       "longitude                    0.181508\n",
       "surface_terrain              0.180195\n",
       "nombre_pieces_principales    0.036996"
      ]
     },
     "execution_count": 55,
     "metadata": {},
     "output_type": "execute_result"
    }
   ],
   "source": [
    "feature_importances.head(5)"
   ]
  },
  {
   "cell_type": "code",
   "execution_count": 56,
   "id": "6a190e1d",
   "metadata": {},
   "outputs": [
    {
     "data": {
      "text/html": [
       "<div>\n",
       "<style scoped>\n",
       "    .dataframe tbody tr th:only-of-type {\n",
       "        vertical-align: middle;\n",
       "    }\n",
       "\n",
       "    .dataframe tbody tr th {\n",
       "        vertical-align: top;\n",
       "    }\n",
       "\n",
       "    .dataframe thead th {\n",
       "        text-align: right;\n",
       "    }\n",
       "</style>\n",
       "<table border=\"1\" class=\"dataframe\">\n",
       "  <thead>\n",
       "    <tr style=\"text-align: right;\">\n",
       "      <th></th>\n",
       "      <th>importance</th>\n",
       "    </tr>\n",
       "  </thead>\n",
       "  <tbody>\n",
       "    <tr>\n",
       "      <th>Paris 13e Arrondissement</th>\n",
       "      <td>2.093683e-05</td>\n",
       "    </tr>\n",
       "    <tr>\n",
       "      <th>Marseille 10e Arrondissement</th>\n",
       "      <td>1.792782e-05</td>\n",
       "    </tr>\n",
       "    <tr>\n",
       "      <th>Marseille 4e Arrondissement</th>\n",
       "      <td>5.520619e-08</td>\n",
       "    </tr>\n",
       "    <tr>\n",
       "      <th>Marseille 5e Arrondissement</th>\n",
       "      <td>0.000000e+00</td>\n",
       "    </tr>\n",
       "    <tr>\n",
       "      <th>Marseille 16e Arrondissement</th>\n",
       "      <td>0.000000e+00</td>\n",
       "    </tr>\n",
       "  </tbody>\n",
       "</table>\n",
       "</div>"
      ],
      "text/plain": [
       "                                importance\n",
       "Paris 13e Arrondissement      2.093683e-05\n",
       "Marseille 10e Arrondissement  1.792782e-05\n",
       "Marseille 4e Arrondissement   5.520619e-08\n",
       "Marseille 5e Arrondissement   0.000000e+00\n",
       "Marseille 16e Arrondissement  0.000000e+00"
      ]
     },
     "execution_count": 56,
     "metadata": {},
     "output_type": "execute_result"
    }
   ],
   "source": [
    "feature_importances.tail(5)"
   ]
  },
  {
   "cell_type": "markdown",
   "id": "8f09a658",
   "metadata": {},
   "source": [
    "### Class"
   ]
  },
  {
   "cell_type": "code",
   "execution_count": 57,
   "id": "394a4bcd",
   "metadata": {},
   "outputs": [
    {
     "name": "stdout",
     "output_type": "stream",
     "text": [
      "Fitting 5 folds for each of 2 candidates, totalling 10 fits\n",
      "Best Score: 0.040678388445020676\n",
      "Best Hyperparameters: {'n_estimators': 1, 'min_samples_split': 6, 'min_samples_leaf': 4, 'max_features': 'sqrt', 'max_depth': 65, 'bootstrap': True}\n"
     ]
    },
    {
     "data": {
      "text/plain": [
       "{'Model': 'RandomForest',\n",
       " 'R2': 4.251378665542093,\n",
       " 'MAE': 0.23,\n",
       " 'RMSE': 79925563.18}"
      ]
     },
     "execution_count": 57,
     "metadata": {},
     "output_type": "execute_result"
    }
   ],
   "source": [
    "trainer = Trainer(df = data_v2, \n",
    "                                 col_list = cols_removd_target,\n",
    "                  target_var = \"prixmetre\" ,\n",
    "                scaler = StandardScaler(),\n",
    "                 model=\"RandomForest\",\n",
    "                 params_cv= params_cv_forest,\n",
    "                     randomsearch_dict = randomsearch_dict,\n",
    "               nsplits = 2, \n",
    "         scor = \"neg_mean_absolute_error\")\n",
    "\n",
    "trainer.execute()"
   ]
  },
  {
   "cell_type": "code",
   "execution_count": 58,
   "id": "7e0e8929",
   "metadata": {},
   "outputs": [
    {
     "name": "stdout",
     "output_type": "stream",
     "text": [
      "Fitting 5 folds for each of 2 candidates, totalling 10 fits\n"
     ]
    },
    {
     "data": {
      "text/html": [
       "<div>\n",
       "<style scoped>\n",
       "    .dataframe tbody tr th:only-of-type {\n",
       "        vertical-align: middle;\n",
       "    }\n",
       "\n",
       "    .dataframe tbody tr th {\n",
       "        vertical-align: top;\n",
       "    }\n",
       "\n",
       "    .dataframe thead th {\n",
       "        text-align: right;\n",
       "    }\n",
       "</style>\n",
       "<table border=\"1\" class=\"dataframe\">\n",
       "  <thead>\n",
       "    <tr style=\"text-align: right;\">\n",
       "      <th></th>\n",
       "      <th>importance</th>\n",
       "    </tr>\n",
       "  </thead>\n",
       "  <tbody>\n",
       "    <tr>\n",
       "      <th>latitude</th>\n",
       "      <td>0.260484</td>\n",
       "    </tr>\n",
       "    <tr>\n",
       "      <th>surface_reelle_bati</th>\n",
       "      <td>0.254018</td>\n",
       "    </tr>\n",
       "    <tr>\n",
       "      <th>longitude</th>\n",
       "      <td>0.181508</td>\n",
       "    </tr>\n",
       "    <tr>\n",
       "      <th>surface_terrain</th>\n",
       "      <td>0.180195</td>\n",
       "    </tr>\n",
       "    <tr>\n",
       "      <th>nombre_pieces_principales</th>\n",
       "      <td>0.036996</td>\n",
       "    </tr>\n",
       "  </tbody>\n",
       "</table>\n",
       "</div>"
      ],
      "text/plain": [
       "                           importance\n",
       "latitude                     0.260484\n",
       "surface_reelle_bati          0.254018\n",
       "longitude                    0.181508\n",
       "surface_terrain              0.180195\n",
       "nombre_pieces_principales    0.036996"
      ]
     },
     "execution_count": 58,
     "metadata": {},
     "output_type": "execute_result"
    }
   ],
   "source": [
    "trainer.get_feature_importances().head(5)"
   ]
  },
  {
   "cell_type": "code",
   "execution_count": 59,
   "id": "35a8af64",
   "metadata": {},
   "outputs": [
    {
     "name": "stdout",
     "output_type": "stream",
     "text": [
      "Fitting 5 folds for each of 2 candidates, totalling 10 fits\n"
     ]
    },
    {
     "data": {
      "text/html": [
       "<div>\n",
       "<style scoped>\n",
       "    .dataframe tbody tr th:only-of-type {\n",
       "        vertical-align: middle;\n",
       "    }\n",
       "\n",
       "    .dataframe tbody tr th {\n",
       "        vertical-align: top;\n",
       "    }\n",
       "\n",
       "    .dataframe thead th {\n",
       "        text-align: right;\n",
       "    }\n",
       "</style>\n",
       "<table border=\"1\" class=\"dataframe\">\n",
       "  <thead>\n",
       "    <tr style=\"text-align: right;\">\n",
       "      <th></th>\n",
       "      <th>importance</th>\n",
       "    </tr>\n",
       "  </thead>\n",
       "  <tbody>\n",
       "    <tr>\n",
       "      <th>Paris 13e Arrondissement</th>\n",
       "      <td>2.093683e-05</td>\n",
       "    </tr>\n",
       "    <tr>\n",
       "      <th>Marseille 10e Arrondissement</th>\n",
       "      <td>1.792782e-05</td>\n",
       "    </tr>\n",
       "    <tr>\n",
       "      <th>Marseille 4e Arrondissement</th>\n",
       "      <td>5.520619e-08</td>\n",
       "    </tr>\n",
       "    <tr>\n",
       "      <th>Marseille 5e Arrondissement</th>\n",
       "      <td>0.000000e+00</td>\n",
       "    </tr>\n",
       "    <tr>\n",
       "      <th>Marseille 16e Arrondissement</th>\n",
       "      <td>0.000000e+00</td>\n",
       "    </tr>\n",
       "  </tbody>\n",
       "</table>\n",
       "</div>"
      ],
      "text/plain": [
       "                                importance\n",
       "Paris 13e Arrondissement      2.093683e-05\n",
       "Marseille 10e Arrondissement  1.792782e-05\n",
       "Marseille 4e Arrondissement   5.520619e-08\n",
       "Marseille 5e Arrondissement   0.000000e+00\n",
       "Marseille 16e Arrondissement  0.000000e+00"
      ]
     },
     "execution_count": 59,
     "metadata": {},
     "output_type": "execute_result"
    }
   ],
   "source": [
    "trainer.get_feature_importances().tail(5)"
   ]
  },
  {
   "cell_type": "markdown",
   "id": "3e2da4c1",
   "metadata": {},
   "source": [
    "## XGBoost"
   ]
  },
  {
   "cell_type": "code",
   "execution_count": 64,
   "id": "44efab68",
   "metadata": {},
   "outputs": [],
   "source": [
    "#Example of parameters for randomsearch for XGBoost model :**\n",
    "        \n",
    "params_cv_xgboost = {\"learning_rate\": (0.05, 0.10, 0.15),\n",
    "                  \"max_depth\": [ 3, 4, 5, 6, 8],\n",
    "              \"min_child_weight\": [ 1, 3, 5, 7],\n",
    "              \"gamma\":[ 0.0, 0.1, 0.2],\n",
    "          \"colsample_bytree\":[ 0.3, 0.4]}"
   ]
  },
  {
   "cell_type": "markdown",
   "id": "4ec09052",
   "metadata": {},
   "source": [
    "### Function"
   ]
  },
  {
   "cell_type": "code",
   "execution_count": 65,
   "id": "541e85ab",
   "metadata": {},
   "outputs": [
    {
     "name": "stdout",
     "output_type": "stream",
     "text": [
      "****  RandomizedSearchCV  ****\n",
      "Fitting 3 folds for each of 2 candidates, totalling 6 fits\n"
     ]
    },
    {
     "data": {
      "image/png": "[encoded data removed]",
      "text/plain": [
       "<Figure size 1224x504 with 1 Axes>"
      ]
     },
     "metadata": {
      "needs_background": "light"
     },
     "output_type": "display_data"
    }
   ],
   "source": [
    "feature_importances, result = training_regression_models(df = data_v2, \n",
    "                                                             col_list = cols_removd_target,\n",
    "                                                             target_var = \"prixmetre\" ,\n",
    "                                                         scaler = StandardScaler(),\n",
    "                                                        model=\"XGBoost\",\n",
    "                                                         params_cv= params_cv_xgboost,\n",
    "                                                         randomsearch_dict = randomsearch_dict,\n",
    "                                                        nsplits = 2, \n",
    "                                                    scor = \"neg_mean_absolute_error\")\n",
    "           "
   ]
  },
  {
   "cell_type": "code",
   "execution_count": 66,
   "id": "f752834b",
   "metadata": {},
   "outputs": [
    {
     "data": {
      "text/plain": [
       "{'XGBoost': {'r2': 22.701508712594876,\n",
       "  'mape': 0.2032789716933371,\n",
       "  'rmse': 64524432.45013688}}"
      ]
     },
     "execution_count": 66,
     "metadata": {},
     "output_type": "execute_result"
    }
   ],
   "source": [
    "result"
   ]
  },
  {
   "cell_type": "code",
   "execution_count": 67,
   "id": "323c46c2",
   "metadata": {},
   "outputs": [
    {
     "data": {
      "text/html": [
       "<div>\n",
       "<style scoped>\n",
       "    .dataframe tbody tr th:only-of-type {\n",
       "        vertical-align: middle;\n",
       "    }\n",
       "\n",
       "    .dataframe tbody tr th {\n",
       "        vertical-align: top;\n",
       "    }\n",
       "\n",
       "    .dataframe thead th {\n",
       "        text-align: right;\n",
       "    }\n",
       "</style>\n",
       "<table border=\"1\" class=\"dataframe\">\n",
       "  <thead>\n",
       "    <tr style=\"text-align: right;\">\n",
       "      <th></th>\n",
       "      <th>importance</th>\n",
       "    </tr>\n",
       "  </thead>\n",
       "  <tbody>\n",
       "    <tr>\n",
       "      <th>Appartement</th>\n",
       "      <td>0.120957</td>\n",
       "    </tr>\n",
       "    <tr>\n",
       "      <th>surface_terrain</th>\n",
       "      <td>0.079767</td>\n",
       "    </tr>\n",
       "    <tr>\n",
       "      <th>Paris 18e Arrondissement</th>\n",
       "      <td>0.064667</td>\n",
       "    </tr>\n",
       "    <tr>\n",
       "      <th>Paris 17e Arrondissement</th>\n",
       "      <td>0.054522</td>\n",
       "    </tr>\n",
       "    <tr>\n",
       "      <th>nombre_pieces_principales</th>\n",
       "      <td>0.053854</td>\n",
       "    </tr>\n",
       "  </tbody>\n",
       "</table>\n",
       "</div>"
      ],
      "text/plain": [
       "                           importance\n",
       "Appartement                  0.120957\n",
       "surface_terrain              0.079767\n",
       "Paris 18e Arrondissement     0.064667\n",
       "Paris 17e Arrondissement     0.054522\n",
       "nombre_pieces_principales    0.053854"
      ]
     },
     "execution_count": 67,
     "metadata": {},
     "output_type": "execute_result"
    }
   ],
   "source": [
    "feature_importances.head(5)"
   ]
  },
  {
   "cell_type": "code",
   "execution_count": 68,
   "id": "06a4417b",
   "metadata": {},
   "outputs": [
    {
     "data": {
      "text/html": [
       "<div>\n",
       "<style scoped>\n",
       "    .dataframe tbody tr th:only-of-type {\n",
       "        vertical-align: middle;\n",
       "    }\n",
       "\n",
       "    .dataframe tbody tr th {\n",
       "        vertical-align: top;\n",
       "    }\n",
       "\n",
       "    .dataframe thead th {\n",
       "        text-align: right;\n",
       "    }\n",
       "</style>\n",
       "<table border=\"1\" class=\"dataframe\">\n",
       "  <thead>\n",
       "    <tr style=\"text-align: right;\">\n",
       "      <th></th>\n",
       "      <th>importance</th>\n",
       "    </tr>\n",
       "  </thead>\n",
       "  <tbody>\n",
       "    <tr>\n",
       "      <th>Paris 9e Arrondissement</th>\n",
       "      <td>0.003459</td>\n",
       "    </tr>\n",
       "    <tr>\n",
       "      <th>Paris 3e Arrondissement</th>\n",
       "      <td>0.003269</td>\n",
       "    </tr>\n",
       "    <tr>\n",
       "      <th>Marseille 1er Arrondissement</th>\n",
       "      <td>0.002394</td>\n",
       "    </tr>\n",
       "    <tr>\n",
       "      <th>Marseille 14e Arrondissement</th>\n",
       "      <td>0.001744</td>\n",
       "    </tr>\n",
       "    <tr>\n",
       "      <th>Marseille 16e Arrondissement</th>\n",
       "      <td>0.000000</td>\n",
       "    </tr>\n",
       "  </tbody>\n",
       "</table>\n",
       "</div>"
      ],
      "text/plain": [
       "                              importance\n",
       "Paris 9e Arrondissement         0.003459\n",
       "Paris 3e Arrondissement         0.003269\n",
       "Marseille 1er Arrondissement    0.002394\n",
       "Marseille 14e Arrondissement    0.001744\n",
       "Marseille 16e Arrondissement    0.000000"
      ]
     },
     "execution_count": 68,
     "metadata": {},
     "output_type": "execute_result"
    }
   ],
   "source": [
    "feature_importances.tail(5)"
   ]
  },
  {
   "cell_type": "markdown",
   "id": "54e27fec",
   "metadata": {},
   "source": [
    "### Class"
   ]
  },
  {
   "cell_type": "code",
   "execution_count": 69,
   "id": "ab0996d2",
   "metadata": {},
   "outputs": [
    {
     "name": "stdout",
     "output_type": "stream",
     "text": [
      "**333***  XGBoost\n",
      "Fitting 3 folds for each of 2 candidates, totalling 6 fits\n",
      "Best Score: 0.23050623124868494\n",
      "Best Hyperparameters: {'min_child_weight': 7, 'max_depth': 4, 'learning_rate': 0.15, 'gamma': 0.0, 'colsample_bytree': 0.3}\n"
     ]
    },
    {
     "data": {
      "text/plain": [
       "{'Model': 'XGBoost', 'R2': 22.701508712594876, 'MAE': 0.2, 'RMSE': 64524432.45}"
      ]
     },
     "execution_count": 69,
     "metadata": {},
     "output_type": "execute_result"
    }
   ],
   "source": [
    "trainer = Trainer(df = data_v2, \n",
    "                                 col_list = cols_removd_target,\n",
    "                  target_var = \"prixmetre\" ,\n",
    "                scaler = StandardScaler(),\n",
    "                 model=\"XGBoost\",\n",
    "                 params_cv= params_cv_xgboost,\n",
    "                     randomsearch_dict = randomsearch_dict,\n",
    "               nsplits = 2, \n",
    "         scor = \"neg_mean_absolute_error\")\n",
    "\n",
    "trainer.execute()"
   ]
  },
  {
   "cell_type": "code",
   "execution_count": 70,
   "id": "9bd64964",
   "metadata": {},
   "outputs": [
    {
     "name": "stdout",
     "output_type": "stream",
     "text": [
      "**333***  XGBoost\n",
      "Fitting 3 folds for each of 2 candidates, totalling 6 fits\n"
     ]
    },
    {
     "data": {
      "text/html": [
       "<div>\n",
       "<style scoped>\n",
       "    .dataframe tbody tr th:only-of-type {\n",
       "        vertical-align: middle;\n",
       "    }\n",
       "\n",
       "    .dataframe tbody tr th {\n",
       "        vertical-align: top;\n",
       "    }\n",
       "\n",
       "    .dataframe thead th {\n",
       "        text-align: right;\n",
       "    }\n",
       "</style>\n",
       "<table border=\"1\" class=\"dataframe\">\n",
       "  <thead>\n",
       "    <tr style=\"text-align: right;\">\n",
       "      <th></th>\n",
       "      <th>importance</th>\n",
       "    </tr>\n",
       "  </thead>\n",
       "  <tbody>\n",
       "    <tr>\n",
       "      <th>Appartement</th>\n",
       "      <td>0.120957</td>\n",
       "    </tr>\n",
       "    <tr>\n",
       "      <th>surface_terrain</th>\n",
       "      <td>0.079767</td>\n",
       "    </tr>\n",
       "    <tr>\n",
       "      <th>Paris 18e Arrondissement</th>\n",
       "      <td>0.064667</td>\n",
       "    </tr>\n",
       "    <tr>\n",
       "      <th>Paris 17e Arrondissement</th>\n",
       "      <td>0.054522</td>\n",
       "    </tr>\n",
       "    <tr>\n",
       "      <th>nombre_pieces_principales</th>\n",
       "      <td>0.053854</td>\n",
       "    </tr>\n",
       "  </tbody>\n",
       "</table>\n",
       "</div>"
      ],
      "text/plain": [
       "                           importance\n",
       "Appartement                  0.120957\n",
       "surface_terrain              0.079767\n",
       "Paris 18e Arrondissement     0.064667\n",
       "Paris 17e Arrondissement     0.054522\n",
       "nombre_pieces_principales    0.053854"
      ]
     },
     "execution_count": 70,
     "metadata": {},
     "output_type": "execute_result"
    }
   ],
   "source": [
    "trainer.get_feature_importances().head(5)"
   ]
  },
  {
   "cell_type": "code",
   "execution_count": 71,
   "id": "e131dce8",
   "metadata": {},
   "outputs": [
    {
     "name": "stdout",
     "output_type": "stream",
     "text": [
      "**333***  XGBoost\n",
      "Fitting 3 folds for each of 2 candidates, totalling 6 fits\n"
     ]
    },
    {
     "data": {
      "text/html": [
       "<div>\n",
       "<style scoped>\n",
       "    .dataframe tbody tr th:only-of-type {\n",
       "        vertical-align: middle;\n",
       "    }\n",
       "\n",
       "    .dataframe tbody tr th {\n",
       "        vertical-align: top;\n",
       "    }\n",
       "\n",
       "    .dataframe thead th {\n",
       "        text-align: right;\n",
       "    }\n",
       "</style>\n",
       "<table border=\"1\" class=\"dataframe\">\n",
       "  <thead>\n",
       "    <tr style=\"text-align: right;\">\n",
       "      <th></th>\n",
       "      <th>importance</th>\n",
       "    </tr>\n",
       "  </thead>\n",
       "  <tbody>\n",
       "    <tr>\n",
       "      <th>Paris 9e Arrondissement</th>\n",
       "      <td>0.003459</td>\n",
       "    </tr>\n",
       "    <tr>\n",
       "      <th>Paris 3e Arrondissement</th>\n",
       "      <td>0.003269</td>\n",
       "    </tr>\n",
       "    <tr>\n",
       "      <th>Marseille 1er Arrondissement</th>\n",
       "      <td>0.002394</td>\n",
       "    </tr>\n",
       "    <tr>\n",
       "      <th>Marseille 14e Arrondissement</th>\n",
       "      <td>0.001744</td>\n",
       "    </tr>\n",
       "    <tr>\n",
       "      <th>Marseille 16e Arrondissement</th>\n",
       "      <td>0.000000</td>\n",
       "    </tr>\n",
       "  </tbody>\n",
       "</table>\n",
       "</div>"
      ],
      "text/plain": [
       "                              importance\n",
       "Paris 9e Arrondissement         0.003459\n",
       "Paris 3e Arrondissement         0.003269\n",
       "Marseille 1er Arrondissement    0.002394\n",
       "Marseille 14e Arrondissement    0.001744\n",
       "Marseille 16e Arrondissement    0.000000"
      ]
     },
     "execution_count": 71,
     "metadata": {},
     "output_type": "execute_result"
    }
   ],
   "source": [
    "trainer.get_feature_importances_importances().tail(5)"
   ]
  },
  {
   "cell_type": "markdown",
   "id": "02093329",
   "metadata": {},
   "source": [
    "# Test import touchfinal.py"
   ]
  },
  {
   "cell_type": "code",
   "execution_count": 73,
   "id": "02cbe221",
   "metadata": {},
   "outputs": [
    {
     "data": {
      "text/plain": [
       "'/Users/kenzaelhoussaini/code/Jehadel'"
      ]
     },
     "execution_count": 73,
     "metadata": {},
     "output_type": "execute_result"
    }
   ],
   "source": [
    "pwd"
   ]
  },
  {
   "cell_type": "code",
   "execution_count": 74,
   "id": "95cf359c",
   "metadata": {},
   "outputs": [
    {
     "name": "stdout",
     "output_type": "stream",
     "text": [
      "/Users/kenzaelhoussaini\n"
     ]
    }
   ],
   "source": [
    "cd ../.."
   ]
  },
  {
   "cell_type": "code",
   "execution_count": 77,
   "id": "dd72b49f",
   "metadata": {},
   "outputs": [],
   "source": [
    "from reestimator.reestimator.trainerFinal import Trainer "
   ]
  },
  {
   "cell_type": "code",
   "execution_count": 78,
   "id": "9b8abf0c",
   "metadata": {},
   "outputs": [],
   "source": [
    "df_test = data_t4.copy() # to test the package "
   ]
  },
  {
   "cell_type": "code",
   "execution_count": 79,
   "id": "e207ee6b",
   "metadata": {},
   "outputs": [],
   "source": [
    "#df_new = data_t4.copy()\n",
    "cols = list(df_test.columns)\n",
    "\n",
    "columns_todrop = ['id_mutation', 'date_mutation',\n",
    "         'adresse_nom_voie', 'adresse_code_voie',\n",
    "  'code_commune', 'code_postal',\n",
    " 'code_departement',\n",
    " 'id_parcelle', 'valeur_fonciere', 'Paris 10e Arrondissement'\n",
    " ]\n",
    "\n",
    "\n",
    "for i in columns_todrop:\n",
    "    cols.remove(i)\n",
    "    \n",
    "cols_removd_target = cols[:]\n",
    "cols_removd_target.remove('prixmetre')\n",
    "\n",
    "data_v5 = df_test[cols]  ## Get Data\n",
    "\n",
    "\n",
    "reg = 2\n",
    "forest = 2\n",
    "xgboost = 2\n",
    "\n",
    "randomsearch_dict = {\"reg_iter\": reg,\n",
    "                  \"forest_iter\": forest,\n",
    "                   \"xgboost_iter\": xgboost} \n",
    "\n",
    "#Example of parameters for randomsearch for Ridge and Lasso models :**\n",
    "# LinearRegession() is equivalent to Lasso() with alpha = 0\n",
    "params_cv_reg = dict()\n",
    "params_cv_reg['alpha'] = list(range(3)) \n",
    "params_cv_reg['fit_intercept'] = [True, False]\n",
    "params_cv_reg['normalize'] = [False, True]"
   ]
  },
  {
   "cell_type": "code",
   "execution_count": 80,
   "id": "dd70c29e",
   "metadata": {},
   "outputs": [
    {
     "name": "stdout",
     "output_type": "stream",
     "text": [
      "Best Score: -12679.058206306068\n",
      "Best Hyperparameters: {'normalize': False, 'fit_intercept': False, 'alpha': 0}\n"
     ]
    },
    {
     "data": {
      "text/plain": [
       "{'Model': 'Ridge', 'R2': -2467.08479046993, 'MAE': 1.08, 'RMSE': 2142857983.35}"
      ]
     },
     "execution_count": 80,
     "metadata": {},
     "output_type": "execute_result"
    }
   ],
   "source": [
    "trainer = Trainer(df = data_v5, \n",
    "                                 col_list = cols_removd_target,\n",
    "                  target_var = \"prixmetre\" ,\n",
    "                scaler = StandardScaler(),\n",
    "                 model=\"Ridge\",\n",
    "                 params_cv= params_cv_reg,\n",
    "                     randomsearch_dict = randomsearch_dict,\n",
    "               nsplits = 2, \n",
    "         scor = \"neg_mean_absolute_error\")\n",
    "\n",
    "trainer.execute()"
   ]
  },
  {
   "cell_type": "code",
   "execution_count": 81,
   "id": "cb89bb77",
   "metadata": {},
   "outputs": [],
   "source": [
    "#Example of parameters for randomsearch for Randomforest model :**\n",
    "n_estimators = [int(x) for x in np.linspace(start = 1, stop = 20, num = 3)] # number of trees \n",
    "                                                                                    #in the random forest\n",
    "max_features = ['auto', 'sqrt'] # number of features in consideration at every split\n",
    "max_depth = [int(x) for x in np.linspace(10, 120, num = 3)] # maximum number of levels\n",
    "                                                                        #allowed in each decision tree\n",
    "min_samples_split = [2, 6, 10] # minimum sample number to split a node\n",
    "min_samples_leaf = [1, 3, 4] # minimum sample number that can be stored in a leaf node\n",
    "bootstrap = [True, False] # method used to sample data points\n",
    "\n",
    "params_cv_forest = {'n_estimators': n_estimators,\n",
    "        'max_features': max_features,\n",
    "        'max_depth': max_depth,\n",
    "        'min_samples_split': min_samples_split,\n",
    "        'min_samples_leaf': min_samples_leaf,\n",
    "        'bootstrap': bootstrap}    "
   ]
  },
  {
   "cell_type": "code",
   "execution_count": 82,
   "id": "761da6b6",
   "metadata": {},
   "outputs": [
    {
     "name": "stdout",
     "output_type": "stream",
     "text": [
      "Fitting 5 folds for each of 2 candidates, totalling 10 fits\n",
      "Best Score: 0.040678388445020676\n",
      "Best Hyperparameters: {'n_estimators': 1, 'min_samples_split': 6, 'min_samples_leaf': 4, 'max_features': 'sqrt', 'max_depth': 65, 'bootstrap': True}\n"
     ]
    },
    {
     "data": {
      "text/plain": [
       "{'Model': 'RandomForest',\n",
       " 'R2': 4.251378665542093,\n",
       " 'MAE': 0.23,\n",
       " 'RMSE': 79925563.18}"
      ]
     },
     "execution_count": 82,
     "metadata": {},
     "output_type": "execute_result"
    },
    {
     "name": "stdout",
     "output_type": "stream",
     "text": [
      "[CV] END bootstrap=True, max_depth=65, max_features=sqrt, min_samples_leaf=4, min_samples_split=6, n_estimators=1; total time=   0.2s\n",
      "[CV] END bootstrap=True, max_depth=65, max_features=sqrt, min_samples_leaf=4, min_samples_split=6, n_estimators=1; total time=   0.2s\n",
      "[CV] END bootstrap=False, max_depth=120, max_features=auto, min_samples_leaf=1, min_samples_split=2, n_estimators=1; total time=   1.0s\n",
      "[CV] END bootstrap=True, max_depth=65, max_features=sqrt, min_samples_leaf=4, min_samples_split=6, n_estimators=1; total time=   0.2s\n",
      "[CV] END bootstrap=False, max_depth=120, max_features=auto, min_samples_leaf=1, min_samples_split=2, n_estimators=1; total time=   1.4s\n",
      "[CV] END bootstrap=False, max_depth=120, max_features=auto, min_samples_leaf=1, min_samples_split=2, n_estimators=1; total time=   0.6s\n",
      "[CV] END bootstrap=True, max_depth=65, max_features=sqrt, min_samples_leaf=4, min_samples_split=6, n_estimators=1; total time=   0.2s\n",
      "[CV] END bootstrap=False, max_depth=120, max_features=auto, min_samples_leaf=1, min_samples_split=2, n_estimators=1; total time=   1.1s\n",
      "[CV] END bootstrap=True, max_depth=65, max_features=sqrt, min_samples_leaf=4, min_samples_split=6, n_estimators=1; total time=   0.3s\n",
      "[CV] END bootstrap=True, max_depth=65, max_features=sqrt, min_samples_leaf=4, min_samples_split=6, n_estimators=1; total time=   0.2s\n",
      "[CV] END bootstrap=False, max_depth=120, max_features=auto, min_samples_leaf=1, min_samples_split=2, n_estimators=1; total time=   1.0s\n",
      "[CV] END bootstrap=True, max_depth=65, max_features=sqrt, min_samples_leaf=4, min_samples_split=6, n_estimators=1; total time=   0.2s\n",
      "[CV] END bootstrap=False, max_depth=120, max_features=auto, min_samples_leaf=1, min_samples_split=2, n_estimators=1; total time=   1.3s\n",
      "[CV] END colsample_bytree=0.3, gamma=0.2, learning_rate=0.15, max_depth=6, min_child_weight=1; total time=  41.9s\n",
      "[CV] END colsample_bytree=0.3, gamma=0.2, learning_rate=0.15, max_depth=6, min_child_weight=1; total time=  43.9s\n",
      "[CV] END colsample_bytree=0.3, gamma=0.2, learning_rate=0.15, max_depth=6, min_child_weight=1; total time=  57.5s\n",
      "[CV] END colsample_bytree=0.3, gamma=0.2, learning_rate=0.15, max_depth=6, min_child_weight=1; total time=  53.8s\n",
      "[CV] END colsample_bytree=0.3, gamma=0.2, learning_rate=0.15, max_depth=6, min_child_weight=1; total time= 1.1min\n",
      "[CV] END bootstrap=True, max_depth=65, max_features=sqrt, min_samples_leaf=4, min_samples_split=6, n_estimators=1; total time=   0.2s\n",
      "[CV] END bootstrap=False, max_depth=120, max_features=auto, min_samples_leaf=1, min_samples_split=2, n_estimators=1; total time=   1.1s\n",
      "[CV] END bootstrap=True, max_depth=65, max_features=sqrt, min_samples_leaf=4, min_samples_split=6, n_estimators=1; total time=   0.2s\n",
      "[CV] END bootstrap=False, max_depth=120, max_features=auto, min_samples_leaf=1, min_samples_split=2, n_estimators=1; total time=   1.2s\n",
      "[CV] END bootstrap=True, max_depth=65, max_features=sqrt, min_samples_leaf=4, min_samples_split=6, n_estimators=1; total time=   0.2s\n",
      "[CV] END bootstrap=True, max_depth=65, max_features=sqrt, min_samples_leaf=4, min_samples_split=6, n_estimators=1; total time=   0.2s\n",
      "[CV] END bootstrap=False, max_depth=120, max_features=auto, min_samples_leaf=1, min_samples_split=2, n_estimators=1; total time=   1.4s\n",
      "[CV] END bootstrap=True, max_depth=65, max_features=sqrt, min_samples_leaf=4, min_samples_split=6, n_estimators=1; total time=   0.2s\n",
      "[CV] END bootstrap=False, max_depth=120, max_features=auto, min_samples_leaf=1, min_samples_split=2, n_estimators=1; total time=   1.0s\n",
      "[CV] END bootstrap=False, max_depth=120, max_features=auto, min_samples_leaf=1, min_samples_split=2, n_estimators=1; total time=   0.6s\n",
      "[CV] END bootstrap=True, max_depth=65, max_features=sqrt, min_samples_leaf=4, min_samples_split=6, n_estimators=1; total time=   0.2s\n",
      "[CV] END bootstrap=False, max_depth=120, max_features=auto, min_samples_leaf=1, min_samples_split=2, n_estimators=1; total time=   1.1s\n",
      "[CV] END bootstrap=True, max_depth=65, max_features=sqrt, min_samples_leaf=4, min_samples_split=6, n_estimators=1; total time=   0.3s\n",
      "[CV] END bootstrap=False, max_depth=120, max_features=auto, min_samples_leaf=1, min_samples_split=2, n_estimators=1; total time=   1.3s\n",
      "[CV] END bootstrap=False, max_depth=120, max_features=auto, min_samples_leaf=1, min_samples_split=2, n_estimators=1; total time=   0.7s\n",
      "[CV] END colsample_bytree=0.3, gamma=0.0, learning_rate=0.15, max_depth=4, min_child_weight=7; total time=  27.3s\n",
      "[CV] END colsample_bytree=0.3, gamma=0.0, learning_rate=0.15, max_depth=4, min_child_weight=7; total time=  23.0s\n",
      "[CV] END colsample_bytree=0.3, gamma=0.2, learning_rate=0.15, max_depth=6, min_child_weight=1; total time=  43.9s\n",
      "[CV] END colsample_bytree=0.3, gamma=0.2, learning_rate=0.15, max_depth=6, min_child_weight=1; total time=  57.4s\n",
      "[CV] END colsample_bytree=0.3, gamma=0.0, learning_rate=0.15, max_depth=4, min_child_weight=7; total time=  13.0s\n",
      "[CV] END colsample_bytree=0.3, gamma=0.0, learning_rate=0.15, max_depth=4, min_child_weight=7; total time=  36.2s\n",
      "[CV] END colsample_bytree=0.3, gamma=0.0, learning_rate=0.15, max_depth=4, min_child_weight=7; total time=  27.5s\n",
      "[CV] END colsample_bytree=0.3, gamma=0.2, learning_rate=0.15, max_depth=6, min_child_weight=1; total time= 1.1min\n",
      "[CV] END colsample_bytree=0.3, gamma=0.0, learning_rate=0.15, max_depth=4, min_child_weight=7; total time=  17.2s\n",
      "[CV] END bootstrap=True, max_depth=65, max_features=sqrt, min_samples_leaf=4, min_samples_split=6, n_estimators=1; total time=   0.2s\n",
      "[CV] END bootstrap=False, max_depth=120, max_features=auto, min_samples_leaf=1, min_samples_split=2, n_estimators=1; total time=   1.0s\n",
      "[CV] END bootstrap=True, max_depth=65, max_features=sqrt, min_samples_leaf=4, min_samples_split=6, n_estimators=1; total time=   0.2s\n",
      "[CV] END bootstrap=False, max_depth=120, max_features=auto, min_samples_leaf=1, min_samples_split=2, n_estimators=1; total time=   1.1s\n",
      "[CV] END bootstrap=False, max_depth=120, max_features=auto, min_samples_leaf=1, min_samples_split=2, n_estimators=1; total time=   0.5s\n",
      "[CV] END bootstrap=True, max_depth=65, max_features=sqrt, min_samples_leaf=4, min_samples_split=6, n_estimators=1; total time=   0.2s\n",
      "[CV] END bootstrap=False, max_depth=120, max_features=auto, min_samples_leaf=1, min_samples_split=2, n_estimators=1; total time=   1.5s\n",
      "[CV] END bootstrap=True, max_depth=65, max_features=sqrt, min_samples_leaf=4, min_samples_split=6, n_estimators=1; total time=   0.2s\n",
      "[CV] END bootstrap=True, max_depth=65, max_features=sqrt, min_samples_leaf=4, min_samples_split=6, n_estimators=1; total time=   0.2s\n",
      "[CV] END bootstrap=False, max_depth=120, max_features=auto, min_samples_leaf=1, min_samples_split=2, n_estimators=1; total time=   0.9s\n",
      "[CV] END bootstrap=True, max_depth=65, max_features=sqrt, min_samples_leaf=4, min_samples_split=6, n_estimators=1; total time=   0.2s\n",
      "[CV] END bootstrap=False, max_depth=120, max_features=auto, min_samples_leaf=1, min_samples_split=2, n_estimators=1; total time=   1.1s\n",
      "[CV] END bootstrap=True, max_depth=65, max_features=sqrt, min_samples_leaf=4, min_samples_split=6, n_estimators=1; total time=   0.2s\n",
      "[CV] END bootstrap=True, max_depth=65, max_features=sqrt, min_samples_leaf=4, min_samples_split=6, n_estimators=1; total time=   0.3s\n",
      "[CV] END bootstrap=False, max_depth=120, max_features=auto, min_samples_leaf=1, min_samples_split=2, n_estimators=1; total time=   1.2s\n",
      "[CV] END colsample_bytree=0.3, gamma=0.2, learning_rate=0.15, max_depth=6, min_child_weight=1; total time=  41.8s\n",
      "[CV] END colsample_bytree=0.3, gamma=0.0, learning_rate=0.15, max_depth=4, min_child_weight=7; total time=  13.0s\n",
      "[CV] END colsample_bytree=0.3, gamma=0.0, learning_rate=0.15, max_depth=4, min_child_weight=7; total time=  28.7s\n",
      "[CV] END colsample_bytree=0.3, gamma=0.0, learning_rate=0.15, max_depth=4, min_child_weight=7; total time=  23.2s\n",
      "[CV] END colsample_bytree=0.3, gamma=0.0, learning_rate=0.15, max_depth=4, min_child_weight=7; total time=  36.6s\n",
      "[CV] END colsample_bytree=0.3, gamma=0.0, learning_rate=0.15, max_depth=4, min_child_weight=7; total time=  29.1s\n",
      "[CV] END colsample_bytree=0.3, gamma=0.2, learning_rate=0.15, max_depth=6, min_child_weight=1; total time=  53.7s\n",
      "[CV] END colsample_bytree=0.3, gamma=0.0, learning_rate=0.15, max_depth=4, min_child_weight=7; total time=  17.5s\n",
      "[CV] END colsample_bytree=0.3, gamma=0.2, learning_rate=0.15, max_depth=6, min_child_weight=1; total time= 1.1min\n",
      "[CV] END bootstrap=True, max_depth=65, max_features=sqrt, min_samples_leaf=4, min_samples_split=6, n_estimators=1; total time=   0.2s\n",
      "[CV] END bootstrap=True, max_depth=65, max_features=sqrt, min_samples_leaf=4, min_samples_split=6, n_estimators=1; total time=   0.2s\n",
      "[CV] END bootstrap=False, max_depth=120, max_features=auto, min_samples_leaf=1, min_samples_split=2, n_estimators=1; total time=   1.0s\n",
      "[CV] END bootstrap=True, max_depth=65, max_features=sqrt, min_samples_leaf=4, min_samples_split=6, n_estimators=1; total time=   0.3s\n",
      "[CV] END bootstrap=False, max_depth=120, max_features=auto, min_samples_leaf=1, min_samples_split=2, n_estimators=1; total time=   1.1s\n",
      "[CV] END bootstrap=True, max_depth=65, max_features=sqrt, min_samples_leaf=4, min_samples_split=6, n_estimators=1; total time=   0.2s\n",
      "[CV] END bootstrap=False, max_depth=120, max_features=auto, min_samples_leaf=1, min_samples_split=2, n_estimators=1; total time=   1.5s\n",
      "[CV] END bootstrap=True, max_depth=65, max_features=sqrt, min_samples_leaf=4, min_samples_split=6, n_estimators=1; total time=   0.2s\n",
      "[CV] END bootstrap=False, max_depth=120, max_features=auto, min_samples_leaf=1, min_samples_split=2, n_estimators=1; total time=   1.0s\n",
      "[CV] END bootstrap=True, max_depth=65, max_features=sqrt, min_samples_leaf=4, min_samples_split=6, n_estimators=1; total time=   0.2s\n",
      "[CV] END bootstrap=False, max_depth=120, max_features=auto, min_samples_leaf=1, min_samples_split=2, n_estimators=1; total time=   1.0s\n",
      "[CV] END bootstrap=False, max_depth=120, max_features=auto, min_samples_leaf=1, min_samples_split=2, n_estimators=1; total time=   0.6s\n",
      "[CV] END bootstrap=True, max_depth=65, max_features=sqrt, min_samples_leaf=4, min_samples_split=6, n_estimators=1; total time=   0.4s\n",
      "[CV] END bootstrap=False, max_depth=120, max_features=auto, min_samples_leaf=1, min_samples_split=2, n_estimators=1; total time=   1.2s\n",
      "[CV] END colsample_bytree=0.3, gamma=0.2, learning_rate=0.15, max_depth=6, min_child_weight=1; total time=  42.0s\n",
      "[CV] END colsample_bytree=0.3, gamma=0.2, learning_rate=0.15, max_depth=6, min_child_weight=1; total time=  43.8s\n",
      "[CV] END colsample_bytree=0.3, gamma=0.0, learning_rate=0.15, max_depth=4, min_child_weight=7; total time=  12.2s\n",
      "[CV] END colsample_bytree=0.3, gamma=0.2, learning_rate=0.15, max_depth=6, min_child_weight=1; total time=  57.5s\n",
      "[CV] END colsample_bytree=0.3, gamma=0.2, learning_rate=0.15, max_depth=6, min_child_weight=1; total time=  53.8s\n",
      "[CV] END colsample_bytree=0.3, gamma=0.0, learning_rate=0.15, max_depth=4, min_child_weight=7; total time=  41.5s\n",
      "[CV] END colsample_bytree=0.3, gamma=0.0, learning_rate=0.15, max_depth=4, min_child_weight=7; total time=  34.6s\n",
      "[CV] END bootstrap=True, max_depth=65, max_features=sqrt, min_samples_leaf=4, min_samples_split=6, n_estimators=1; total time=   0.2s\n",
      "[CV] END bootstrap=False, max_depth=120, max_features=auto, min_samples_leaf=1, min_samples_split=2, n_estimators=1; total time=   1.1s\n",
      "[CV] END bootstrap=False, max_depth=120, max_features=auto, min_samples_leaf=1, min_samples_split=2, n_estimators=1; total time=   0.5s\n"
     ]
    }
   ],
   "source": [
    "trainer = Trainer(df = data_v5, \n",
    "                                 col_list = cols_removd_target,\n",
    "                  target_var = \"prixmetre\" ,\n",
    "                scaler = StandardScaler(),\n",
    "                 model=\"RandomForest\",\n",
    "                 params_cv= params_cv_forest,\n",
    "                     randomsearch_dict = randomsearch_dict,\n",
    "               nsplits = 2, \n",
    "         scor = \"neg_mean_absolute_error\")\n",
    "\n",
    "trainer.execute()"
   ]
  },
  {
   "cell_type": "markdown",
   "id": "a270e75b",
   "metadata": {},
   "source": [
    "# class Encoder()"
   ]
  },
  {
   "cell_type": "code",
   "execution_count": 86,
   "id": "729508ec",
   "metadata": {},
   "outputs": [],
   "source": [
    "class Encoder():\n",
    "    \n",
    "    \"\"\" Initialize dataframe\n",
    "    \"\"\"\n",
    "    def __init__(self, df):\n",
    "\n",
    "        self.df = df\n",
    "        \n",
    "    def execute(self, col_name):\n",
    "        \n",
    "        L = list(self.df[col_name].unique())\n",
    "        if '' in L:\n",
    "            self.df[col_name].replace(\"\", \"NoValue\", inplace=True) #Replace NaN by \"NoCodeNature\"\n",
    "\n",
    "        ohe = OneHotEncoder(sparse = False) # Instanciate encoder\n",
    "        ohe.fit(self.df[[col_name]]) # Fit encoder  ---> OneHotEncoder(sparse=False)\n",
    "\n",
    "        col_encoded = ohe.transform(self.df[[col_name]]) # Encode\n",
    "\n",
    "        dicts_col = {}\n",
    "        keys = list(ohe.categories_[0])\n",
    "        values = col_encoded.T.astype(int)\n",
    "\n",
    "        for i,j in enumerate(keys):\n",
    "            dicts_col[j] = values[i,:]\n",
    "\n",
    "        result = pd.DataFrame.from_dict(dicts_col)\n",
    "\n",
    "        self.df = self.df.reset_index(drop=True)\n",
    "\n",
    "        #Concat df and result dataframes\n",
    "        data_res = pd.concat([self.df, result], axis = 1)\n",
    "\n",
    "        if 'NoValue' in list(data_res.columns):\n",
    "            data_res = data_res.drop(columns= ['NoValue',col_name] )\n",
    "        else:\n",
    "            data_res = data_res.drop(columns= col_name)\n",
    "\n",
    "        return data_res        "
   ]
  },
  {
   "cell_type": "code",
   "execution_count": 216,
   "id": "1e9ef872",
   "metadata": {},
   "outputs": [
    {
     "data": {
      "text/plain": [
       "(68840, 17)"
      ]
     },
     "execution_count": 216,
     "metadata": {},
     "output_type": "execute_result"
    }
   ],
   "source": [
    "df2.shape"
   ]
  },
  {
   "cell_type": "code",
   "execution_count": 217,
   "id": "5f007f0d",
   "metadata": {},
   "outputs": [
    {
     "data": {
      "text/plain": [
       "Index(['id_mutation', 'date_mutation', 'valeur_fonciere', 'adresse_nom_voie',\n",
       "       'adresse_code_voie', 'code_postal', 'code_commune', 'nom_commune',\n",
       "       'code_departement', 'id_parcelle', 'type_local', 'surface_reelle_bati',\n",
       "       'nombre_pieces_principales', 'surface_terrain', 'longitude', 'latitude',\n",
       "       'prixmetre'],\n",
       "      dtype='object')"
      ]
     },
     "execution_count": 217,
     "metadata": {},
     "output_type": "execute_result"
    }
   ],
   "source": [
    "df2.columns"
   ]
  },
  {
   "cell_type": "code",
   "execution_count": 218,
   "id": "6bbff52d",
   "metadata": {},
   "outputs": [
    {
     "data": {
      "text/plain": [
       "(68840, 53)"
      ]
     },
     "execution_count": 218,
     "metadata": {},
     "output_type": "execute_result"
    }
   ],
   "source": [
    "encoder = Encoder(df = df2)\n",
    "res = encoder.execute(col_name = 'nom_commune')\n",
    "res.shape"
   ]
  },
  {
   "cell_type": "code",
   "execution_count": 219,
   "id": "48cf9984",
   "metadata": {},
   "outputs": [
    {
     "data": {
      "text/plain": [
       "Index(['id_mutation', 'date_mutation', 'valeur_fonciere', 'adresse_nom_voie',\n",
       "       'adresse_code_voie', 'code_postal', 'code_commune', 'code_departement',\n",
       "       'id_parcelle', 'type_local', 'surface_reelle_bati',\n",
       "       'nombre_pieces_principales', 'surface_terrain', 'longitude', 'latitude',\n",
       "       'prixmetre', 'Marseille 10e Arrondissement',\n",
       "       'Marseille 11e Arrondissement', 'Marseille 12e Arrondissement',\n",
       "       'Marseille 13e Arrondissement', 'Marseille 14e Arrondissement',\n",
       "       'Marseille 15e Arrondissement', 'Marseille 16e Arrondissement',\n",
       "       'Marseille 1er Arrondissement', 'Marseille 2e Arrondissement',\n",
       "       'Marseille 3e Arrondissement', 'Marseille 4e Arrondissement',\n",
       "       'Marseille 5e Arrondissement', 'Marseille 6e Arrondissement',\n",
       "       'Marseille 7e Arrondissement', 'Marseille 8e Arrondissement',\n",
       "       'Marseille 9e Arrondissement', 'Nice', 'Paris 10e Arrondissement',\n",
       "       'Paris 11e Arrondissement', 'Paris 12e Arrondissement',\n",
       "       'Paris 13e Arrondissement', 'Paris 14e Arrondissement',\n",
       "       'Paris 15e Arrondissement', 'Paris 16e Arrondissement',\n",
       "       'Paris 17e Arrondissement', 'Paris 18e Arrondissement',\n",
       "       'Paris 19e Arrondissement', 'Paris 1er Arrondissement',\n",
       "       'Paris 20e Arrondissement', 'Paris 2e Arrondissement',\n",
       "       'Paris 3e Arrondissement', 'Paris 4e Arrondissement',\n",
       "       'Paris 5e Arrondissement', 'Paris 6e Arrondissement',\n",
       "       'Paris 7e Arrondissement', 'Paris 8e Arrondissement',\n",
       "       'Paris 9e Arrondissement'],\n",
       "      dtype='object')"
      ]
     },
     "execution_count": 219,
     "metadata": {},
     "output_type": "execute_result"
    }
   ],
   "source": [
    "res.columns"
   ]
  },
  {
   "cell_type": "code",
   "execution_count": 93,
   "id": "fd416623",
   "metadata": {},
   "outputs": [
    {
     "data": {
      "text/plain": [
       "(68840, 54)"
      ]
     },
     "execution_count": 93,
     "metadata": {},
     "output_type": "execute_result"
    }
   ],
   "source": [
    "encoder2 = Encoder(df = res)\n",
    "res_final = encoder2.execute(col_name= 'type_local')\n",
    "res_final.shape"
   ]
  },
  {
   "cell_type": "code",
   "execution_count": 95,
   "id": "bbb0966b",
   "metadata": {},
   "outputs": [
    {
     "data": {
      "text/plain": [
       "(292510, 17)"
      ]
     },
     "execution_count": 95,
     "metadata": {},
     "output_type": "execute_result"
    }
   ],
   "source": [
    "test = df.copy()\n",
    "test.shape"
   ]
  },
  {
   "cell_type": "code",
   "execution_count": 96,
   "id": "c76e7ce1",
   "metadata": {},
   "outputs": [
    {
     "data": {
      "text/html": [
       "<div>\n",
       "<style scoped>\n",
       "    .dataframe tbody tr th:only-of-type {\n",
       "        vertical-align: middle;\n",
       "    }\n",
       "\n",
       "    .dataframe tbody tr th {\n",
       "        vertical-align: top;\n",
       "    }\n",
       "\n",
       "    .dataframe thead th {\n",
       "        text-align: right;\n",
       "    }\n",
       "</style>\n",
       "<table border=\"1\" class=\"dataframe\">\n",
       "  <thead>\n",
       "    <tr style=\"text-align: right;\">\n",
       "      <th></th>\n",
       "      <th>id_mutation</th>\n",
       "      <th>date_mutation</th>\n",
       "      <th>nature_mutation</th>\n",
       "      <th>valeur_fonciere</th>\n",
       "      <th>adresse_nom_voie</th>\n",
       "      <th>adresse_code_voie</th>\n",
       "      <th>code_postal</th>\n",
       "      <th>code_commune</th>\n",
       "      <th>nom_commune</th>\n",
       "      <th>code_departement</th>\n",
       "      <th>id_parcelle</th>\n",
       "      <th>type_local</th>\n",
       "      <th>surface_reelle_bati</th>\n",
       "      <th>nombre_pieces_principales</th>\n",
       "      <th>surface_terrain</th>\n",
       "      <th>longitude</th>\n",
       "      <th>latitude</th>\n",
       "    </tr>\n",
       "  </thead>\n",
       "  <tbody>\n",
       "    <tr>\n",
       "      <th>0</th>\n",
       "      <td>2016-36031</td>\n",
       "      <td>2016-01-05</td>\n",
       "      <td>Vente</td>\n",
       "      <td>129000</td>\n",
       "      <td>RUE DU CHATEAU</td>\n",
       "      <td>1335</td>\n",
       "      <td>6300</td>\n",
       "      <td>6088</td>\n",
       "      <td>Nice</td>\n",
       "      <td>6</td>\n",
       "      <td>06088000KR0130</td>\n",
       "      <td>Appartement</td>\n",
       "      <td>38</td>\n",
       "      <td>1</td>\n",
       "      <td>0</td>\n",
       "      <td>7.277516</td>\n",
       "      <td>43.696437</td>\n",
       "    </tr>\n",
       "    <tr>\n",
       "      <th>1</th>\n",
       "      <td>2016-36032</td>\n",
       "      <td>2016-01-07</td>\n",
       "      <td>Vente</td>\n",
       "      <td>154000</td>\n",
       "      <td>AV DES ARENES DE CIMIEZ</td>\n",
       "      <td>0325</td>\n",
       "      <td>6000</td>\n",
       "      <td>6088</td>\n",
       "      <td>Nice</td>\n",
       "      <td>6</td>\n",
       "      <td>06088000LE0233</td>\n",
       "      <td>Appartement</td>\n",
       "      <td>38</td>\n",
       "      <td>2</td>\n",
       "      <td>0</td>\n",
       "      <td>7.279226</td>\n",
       "      <td>43.705106</td>\n",
       "    </tr>\n",
       "    <tr>\n",
       "      <th>2</th>\n",
       "      <td>2016-36035</td>\n",
       "      <td>2016-01-06</td>\n",
       "      <td>Vente</td>\n",
       "      <td>134000</td>\n",
       "      <td>AV RENE BOYLESVE</td>\n",
       "      <td>5420</td>\n",
       "      <td>6100</td>\n",
       "      <td>6088</td>\n",
       "      <td>Nice</td>\n",
       "      <td>6</td>\n",
       "      <td>06088000EB0093</td>\n",
       "      <td>Appartement</td>\n",
       "      <td>48</td>\n",
       "      <td>2</td>\n",
       "      <td>0</td>\n",
       "      <td>7.255168</td>\n",
       "      <td>43.717018</td>\n",
       "    </tr>\n",
       "    <tr>\n",
       "      <th>3</th>\n",
       "      <td>2016-36035</td>\n",
       "      <td>2016-01-06</td>\n",
       "      <td>Vente</td>\n",
       "      <td>134000</td>\n",
       "      <td>AV RENE BOYLESVE</td>\n",
       "      <td>5420</td>\n",
       "      <td>6100</td>\n",
       "      <td>6088</td>\n",
       "      <td>Nice</td>\n",
       "      <td>6</td>\n",
       "      <td>06088000EB0093</td>\n",
       "      <td>Appartement</td>\n",
       "      <td>38</td>\n",
       "      <td>2</td>\n",
       "      <td>0</td>\n",
       "      <td>7.255168</td>\n",
       "      <td>43.717018</td>\n",
       "    </tr>\n",
       "    <tr>\n",
       "      <th>4</th>\n",
       "      <td>2016-36036</td>\n",
       "      <td>2016-01-08</td>\n",
       "      <td>Vente</td>\n",
       "      <td>137000</td>\n",
       "      <td>BD ARMEE DES ALPES</td>\n",
       "      <td>0360</td>\n",
       "      <td>6300</td>\n",
       "      <td>6088</td>\n",
       "      <td>Nice</td>\n",
       "      <td>6</td>\n",
       "      <td>06088000IV0440</td>\n",
       "      <td>Appartement</td>\n",
       "      <td>40</td>\n",
       "      <td>2</td>\n",
       "      <td>0</td>\n",
       "      <td>7.293505</td>\n",
       "      <td>43.708142</td>\n",
       "    </tr>\n",
       "  </tbody>\n",
       "</table>\n",
       "</div>"
      ],
      "text/plain": [
       "  id_mutation date_mutation nature_mutation  valeur_fonciere  \\\n",
       "0  2016-36031    2016-01-05           Vente           129000   \n",
       "1  2016-36032    2016-01-07           Vente           154000   \n",
       "2  2016-36035    2016-01-06           Vente           134000   \n",
       "3  2016-36035    2016-01-06           Vente           134000   \n",
       "4  2016-36036    2016-01-08           Vente           137000   \n",
       "\n",
       "          adresse_nom_voie adresse_code_voie  code_postal  code_commune  \\\n",
       "0           RUE DU CHATEAU              1335         6300          6088   \n",
       "1  AV DES ARENES DE CIMIEZ              0325         6000          6088   \n",
       "2         AV RENE BOYLESVE              5420         6100          6088   \n",
       "3         AV RENE BOYLESVE              5420         6100          6088   \n",
       "4       BD ARMEE DES ALPES              0360         6300          6088   \n",
       "\n",
       "  nom_commune  code_departement     id_parcelle   type_local  \\\n",
       "0        Nice                 6  06088000KR0130  Appartement   \n",
       "1        Nice                 6  06088000LE0233  Appartement   \n",
       "2        Nice                 6  06088000EB0093  Appartement   \n",
       "3        Nice                 6  06088000EB0093  Appartement   \n",
       "4        Nice                 6  06088000IV0440  Appartement   \n",
       "\n",
       "   surface_reelle_bati  nombre_pieces_principales  surface_terrain  longitude  \\\n",
       "0                   38                          1                0   7.277516   \n",
       "1                   38                          2                0   7.279226   \n",
       "2                   48                          2                0   7.255168   \n",
       "3                   38                          2                0   7.255168   \n",
       "4                   40                          2                0   7.293505   \n",
       "\n",
       "    latitude  \n",
       "0  43.696437  \n",
       "1  43.705106  \n",
       "2  43.717018  \n",
       "3  43.717018  \n",
       "4  43.708142  "
      ]
     },
     "execution_count": 96,
     "metadata": {},
     "output_type": "execute_result"
    }
   ],
   "source": [
    "test.head(5)"
   ]
  },
  {
   "cell_type": "code",
   "execution_count": 97,
   "id": "103433fb",
   "metadata": {},
   "outputs": [
    {
     "data": {
      "text/plain": [
       "array(['Appartement', 'Maison', 'Dépendance'], dtype=object)"
      ]
     },
     "execution_count": 97,
     "metadata": {},
     "output_type": "execute_result"
    }
   ],
   "source": [
    "test['type_local'].unique()"
   ]
  },
  {
   "cell_type": "code",
   "execution_count": 98,
   "id": "319dcf68",
   "metadata": {},
   "outputs": [
    {
     "data": {
      "text/plain": [
       "37"
      ]
     },
     "execution_count": 98,
     "metadata": {},
     "output_type": "execute_result"
    }
   ],
   "source": [
    "len(test['nom_commune'].unique())"
   ]
  },
  {
   "cell_type": "code",
   "execution_count": 99,
   "id": "dc53c105",
   "metadata": {},
   "outputs": [
    {
     "data": {
      "text/plain": [
       "(292510, 53)"
      ]
     },
     "execution_count": 99,
     "metadata": {},
     "output_type": "execute_result"
    }
   ],
   "source": [
    "encoder = Encoder(df = test)\n",
    "res = encoder.execute(col_name = 'nom_commune')\n",
    "res.shape"
   ]
  },
  {
   "cell_type": "code",
   "execution_count": 100,
   "id": "e34bd7a5",
   "metadata": {},
   "outputs": [
    {
     "data": {
      "text/plain": [
       "(292510, 55)"
      ]
     },
     "execution_count": 100,
     "metadata": {},
     "output_type": "execute_result"
    }
   ],
   "source": [
    "encoder2 = Encoder(df = res)\n",
    "res_final = encoder2.execute(col_name= 'type_local')\n",
    "res_final.shape"
   ]
  },
  {
   "cell_type": "code",
   "execution_count": null,
   "id": "b0cc655f",
   "metadata": {},
   "outputs": [],
   "source": []
  },
  {
   "cell_type": "markdown",
   "id": "c7f1e3e6",
   "metadata": {},
   "source": [
    "# Feature selection"
   ]
  },
  {
   "cell_type": "code",
   "execution_count": 199,
   "id": "eb8599d6",
   "metadata": {},
   "outputs": [],
   "source": [
    "class FeatureSelection():\n",
    "    \n",
    "    def __init__(self, df, col_list, target_var , model = LinearRegression()):\n",
    "        \n",
    "        self.df = df\n",
    "        self.col_list = col_list\n",
    "        self.target_var = target_var\n",
    "        self.model = model\n",
    "        \n",
    "    def define_dataset(self, df, col_list, target_var):\n",
    "        # define dataset\n",
    "        y = self.df[self.target_var]\n",
    "        X = self.df[self.col_list]\n",
    "        return X,y\n",
    "    \n",
    "    # fit the model\n",
    "    def fit(self, X,y): \n",
    "        X,y = self.define_dataset(self.df, self.col_list, self.target_var)\n",
    "        self.model.fit(X, y)     \n",
    "        reg_coefs = self.model.coef_ # get regression coefficients\n",
    "        return reg_coefs\n",
    "    \n",
    "    def get_coefs_regression(self):\n",
    "        \n",
    "        X,y = self.define_dataset(self.df, self.col_list, self.target_var)\n",
    "        coefs = self.fit(X,y)\n",
    "        K = []\n",
    "        F = []\n",
    "        \n",
    "        for i in coefs.tolist():\n",
    "            K.append(np.abs(i))\n",
    "\n",
    "        ind  =  sorted(range(len(K)), reverse=True, key=lambda c: K[c])\n",
    "        K.sort(reverse= True)\n",
    "        \n",
    "        for i in ind:\n",
    "            F.append(self.col_list[i])\n",
    "          \n",
    "        dicts = {'Features': F, 'Regression_coef': K, 'Regression_coef(%)': K/max(K)}\n",
    "        \n",
    "        return pd.DataFrame.from_dict(dicts) \n",
    "        \n",
    "     # Calculating VIF      \n",
    "    def calculate_VIF(self):\n",
    "        X,y = self.define_dataset(self.df, self.col_list, self.target_var)   \n",
    "        vif = pd.DataFrame()\n",
    "        vif[\"Features\"] = X.columns\n",
    "        vif[\"VIF\"] = [variance_inflation_factor(X.values, i) for i in range(X.shape[1])]\n",
    "        sorted_VIF = vif.sort_values(by='VIF', ascending= False)  #sort dataframe\n",
    "        \n",
    "        return sorted_VIF   \n",
    "        \n",
    "        \n",
    "    def plot_reg_coefs(self):\n",
    "        dicts = self.get_coefs_regression()\n",
    "        F, K = dicts['Features'], dicts['Regression_coef']\n",
    "        \n",
    "        fig, ax = plt.subplots(figsize = (15,4))\n",
    "        # plot feature importance\n",
    "        plt.bar([x for x in range(len(K))], K)\n",
    "        plt.xlabel(\"Features\")\n",
    "        plt.xticks(range(len(F)), F,\n",
    "          rotation = 45)\n",
    "        plt.xlabel(\"Regression coefficients\")\n",
    "        plt.show()\n",
    "        \n",
    "        \n",
    "    def correlation_matrix(self,size_x,size_y, color):\n",
    "\n",
    "        # Using Pearson Correlation\n",
    "        plt.figure(figsize=(size_x,size_y))\n",
    "        sns.heatmap(self.df.corr(), annot=True,  fmt='.2f', linecolor='black', cmap= color)\n",
    "        plt.show()\n",
    "\n",
    "        "
   ]
  },
  {
   "cell_type": "markdown",
   "id": "9dd5c71b",
   "metadata": {},
   "source": [
    "## Testing class"
   ]
  },
  {
   "cell_type": "code",
   "execution_count": 174,
   "id": "9a72e163",
   "metadata": {},
   "outputs": [],
   "source": [
    "df_new = data_t4.copy()\n",
    "cols = list(df_new.columns)\n",
    "\n",
    "columns_todrop = ['id_mutation', 'date_mutation',\n",
    "         'adresse_nom_voie', 'adresse_code_voie',\n",
    "  'code_commune', 'code_postal',\n",
    " 'code_departement',\n",
    " 'id_parcelle', 'valeur_fonciere',\n",
    " ]\n",
    "\n",
    "for i in columns_todrop:\n",
    "    cols.remove(i)\n",
    "    \n",
    "cols_removd_target = cols[:]\n",
    "cols_removd_target.remove('prixmetre')\n",
    "\n",
    "data_v2 = df_new[cols]"
   ]
  },
  {
   "cell_type": "code",
   "execution_count": 175,
   "id": "68be071f",
   "metadata": {},
   "outputs": [
    {
     "data": {
      "text/plain": [
       "(68840, 45)"
      ]
     },
     "execution_count": 175,
     "metadata": {},
     "output_type": "execute_result"
    }
   ],
   "source": [
    "data_v2.shape"
   ]
  },
  {
   "cell_type": "code",
   "execution_count": 185,
   "id": "ae36e15d",
   "metadata": {},
   "outputs": [],
   "source": [
    "feature = FeatureSelection(df = data_v2, col_list =cols_removd_target, target_var='prixmetre')"
   ]
  },
  {
   "cell_type": "code",
   "execution_count": 186,
   "id": "e03426b1",
   "metadata": {},
   "outputs": [
    {
     "data": {
      "text/html": [
       "<div>\n",
       "<style scoped>\n",
       "    .dataframe tbody tr th:only-of-type {\n",
       "        vertical-align: middle;\n",
       "    }\n",
       "\n",
       "    .dataframe tbody tr th {\n",
       "        vertical-align: top;\n",
       "    }\n",
       "\n",
       "    .dataframe thead th {\n",
       "        text-align: right;\n",
       "    }\n",
       "</style>\n",
       "<table border=\"1\" class=\"dataframe\">\n",
       "  <thead>\n",
       "    <tr style=\"text-align: right;\">\n",
       "      <th></th>\n",
       "      <th>Features</th>\n",
       "      <th>Regression_coef</th>\n",
       "      <th>Regression_coef(%)</th>\n",
       "    </tr>\n",
       "  </thead>\n",
       "  <tbody>\n",
       "    <tr>\n",
       "      <th>0</th>\n",
       "      <td>Marseille 2e Arrondissement</td>\n",
       "      <td>20500.745573</td>\n",
       "      <td>1.000000</td>\n",
       "    </tr>\n",
       "    <tr>\n",
       "      <th>1</th>\n",
       "      <td>Marseille 1er Arrondissement</td>\n",
       "      <td>5722.718781</td>\n",
       "      <td>0.279147</td>\n",
       "    </tr>\n",
       "    <tr>\n",
       "      <th>2</th>\n",
       "      <td>Marseille 13e Arrondissement</td>\n",
       "      <td>5246.897770</td>\n",
       "      <td>0.255937</td>\n",
       "    </tr>\n",
       "    <tr>\n",
       "      <th>3</th>\n",
       "      <td>Marseille 15e Arrondissement</td>\n",
       "      <td>5085.653664</td>\n",
       "      <td>0.248072</td>\n",
       "    </tr>\n",
       "    <tr>\n",
       "      <th>4</th>\n",
       "      <td>Nice</td>\n",
       "      <td>3721.922488</td>\n",
       "      <td>0.181551</td>\n",
       "    </tr>\n",
       "    <tr>\n",
       "      <th>5</th>\n",
       "      <td>Marseille 16e Arrondissement</td>\n",
       "      <td>3621.899699</td>\n",
       "      <td>0.176672</td>\n",
       "    </tr>\n",
       "    <tr>\n",
       "      <th>6</th>\n",
       "      <td>Paris 7e Arrondissement</td>\n",
       "      <td>2988.950697</td>\n",
       "      <td>0.145797</td>\n",
       "    </tr>\n",
       "    <tr>\n",
       "      <th>7</th>\n",
       "      <td>Paris 6e Arrondissement</td>\n",
       "      <td>2890.328378</td>\n",
       "      <td>0.140987</td>\n",
       "    </tr>\n",
       "    <tr>\n",
       "      <th>8</th>\n",
       "      <td>Paris 8e Arrondissement</td>\n",
       "      <td>2499.354641</td>\n",
       "      <td>0.121915</td>\n",
       "    </tr>\n",
       "    <tr>\n",
       "      <th>9</th>\n",
       "      <td>Marseille 3e Arrondissement</td>\n",
       "      <td>2410.420942</td>\n",
       "      <td>0.117577</td>\n",
       "    </tr>\n",
       "    <tr>\n",
       "      <th>10</th>\n",
       "      <td>Marseille 6e Arrondissement</td>\n",
       "      <td>2212.004357</td>\n",
       "      <td>0.107899</td>\n",
       "    </tr>\n",
       "    <tr>\n",
       "      <th>11</th>\n",
       "      <td>Paris 1er Arrondissement</td>\n",
       "      <td>1901.275200</td>\n",
       "      <td>0.092742</td>\n",
       "    </tr>\n",
       "    <tr>\n",
       "      <th>12</th>\n",
       "      <td>Paris 4e Arrondissement</td>\n",
       "      <td>1792.165069</td>\n",
       "      <td>0.087420</td>\n",
       "    </tr>\n",
       "    <tr>\n",
       "      <th>13</th>\n",
       "      <td>Marseille 12e Arrondissement</td>\n",
       "      <td>1583.863015</td>\n",
       "      <td>0.077259</td>\n",
       "    </tr>\n",
       "    <tr>\n",
       "      <th>14</th>\n",
       "      <td>Marseille 5e Arrondissement</td>\n",
       "      <td>1488.971525</td>\n",
       "      <td>0.072630</td>\n",
       "    </tr>\n",
       "    <tr>\n",
       "      <th>15</th>\n",
       "      <td>Paris 19e Arrondissement</td>\n",
       "      <td>1457.140389</td>\n",
       "      <td>0.071077</td>\n",
       "    </tr>\n",
       "    <tr>\n",
       "      <th>16</th>\n",
       "      <td>Marseille 9e Arrondissement</td>\n",
       "      <td>1425.413377</td>\n",
       "      <td>0.069530</td>\n",
       "    </tr>\n",
       "    <tr>\n",
       "      <th>17</th>\n",
       "      <td>Marseille 8e Arrondissement</td>\n",
       "      <td>1241.371722</td>\n",
       "      <td>0.060553</td>\n",
       "    </tr>\n",
       "    <tr>\n",
       "      <th>18</th>\n",
       "      <td>Paris 16e Arrondissement</td>\n",
       "      <td>975.864306</td>\n",
       "      <td>0.047601</td>\n",
       "    </tr>\n",
       "    <tr>\n",
       "      <th>19</th>\n",
       "      <td>Marseille 7e Arrondissement</td>\n",
       "      <td>896.848033</td>\n",
       "      <td>0.043747</td>\n",
       "    </tr>\n",
       "    <tr>\n",
       "      <th>20</th>\n",
       "      <td>Appartement</td>\n",
       "      <td>737.446892</td>\n",
       "      <td>0.035972</td>\n",
       "    </tr>\n",
       "    <tr>\n",
       "      <th>21</th>\n",
       "      <td>Maison</td>\n",
       "      <td>737.446892</td>\n",
       "      <td>0.035972</td>\n",
       "    </tr>\n",
       "    <tr>\n",
       "      <th>22</th>\n",
       "      <td>Paris 12e Arrondissement</td>\n",
       "      <td>666.992503</td>\n",
       "      <td>0.032535</td>\n",
       "    </tr>\n",
       "    <tr>\n",
       "      <th>23</th>\n",
       "      <td>Paris 15e Arrondissement</td>\n",
       "      <td>642.709388</td>\n",
       "      <td>0.031351</td>\n",
       "    </tr>\n",
       "    <tr>\n",
       "      <th>24</th>\n",
       "      <td>Paris 3e Arrondissement</td>\n",
       "      <td>596.370207</td>\n",
       "      <td>0.029090</td>\n",
       "    </tr>\n",
       "    <tr>\n",
       "      <th>25</th>\n",
       "      <td>Paris 11e Arrondissement</td>\n",
       "      <td>589.991635</td>\n",
       "      <td>0.028779</td>\n",
       "    </tr>\n",
       "    <tr>\n",
       "      <th>26</th>\n",
       "      <td>Marseille 14e Arrondissement</td>\n",
       "      <td>562.324748</td>\n",
       "      <td>0.027429</td>\n",
       "    </tr>\n",
       "    <tr>\n",
       "      <th>27</th>\n",
       "      <td>Paris 5e Arrondissement</td>\n",
       "      <td>545.269317</td>\n",
       "      <td>0.026598</td>\n",
       "    </tr>\n",
       "    <tr>\n",
       "      <th>28</th>\n",
       "      <td>Paris 20e Arrondissement</td>\n",
       "      <td>441.648878</td>\n",
       "      <td>0.021543</td>\n",
       "    </tr>\n",
       "    <tr>\n",
       "      <th>29</th>\n",
       "      <td>longitude</td>\n",
       "      <td>437.132285</td>\n",
       "      <td>0.021323</td>\n",
       "    </tr>\n",
       "    <tr>\n",
       "      <th>30</th>\n",
       "      <td>Marseille 11e Arrondissement</td>\n",
       "      <td>422.872051</td>\n",
       "      <td>0.020627</td>\n",
       "    </tr>\n",
       "    <tr>\n",
       "      <th>31</th>\n",
       "      <td>nombre_pieces_principales</td>\n",
       "      <td>382.959716</td>\n",
       "      <td>0.018680</td>\n",
       "    </tr>\n",
       "    <tr>\n",
       "      <th>32</th>\n",
       "      <td>Marseille 10e Arrondissement</td>\n",
       "      <td>340.829592</td>\n",
       "      <td>0.016625</td>\n",
       "    </tr>\n",
       "    <tr>\n",
       "      <th>33</th>\n",
       "      <td>Paris 13e Arrondissement</td>\n",
       "      <td>227.064443</td>\n",
       "      <td>0.011076</td>\n",
       "    </tr>\n",
       "    <tr>\n",
       "      <th>34</th>\n",
       "      <td>Paris 2e Arrondissement</td>\n",
       "      <td>136.445612</td>\n",
       "      <td>0.006656</td>\n",
       "    </tr>\n",
       "    <tr>\n",
       "      <th>35</th>\n",
       "      <td>Paris 9e Arrondissement</td>\n",
       "      <td>123.834657</td>\n",
       "      <td>0.006040</td>\n",
       "    </tr>\n",
       "    <tr>\n",
       "      <th>36</th>\n",
       "      <td>Paris 18e Arrondissement</td>\n",
       "      <td>93.605035</td>\n",
       "      <td>0.004566</td>\n",
       "    </tr>\n",
       "    <tr>\n",
       "      <th>37</th>\n",
       "      <td>latitude</td>\n",
       "      <td>88.209525</td>\n",
       "      <td>0.004303</td>\n",
       "    </tr>\n",
       "    <tr>\n",
       "      <th>38</th>\n",
       "      <td>Marseille 4e Arrondissement</td>\n",
       "      <td>84.547667</td>\n",
       "      <td>0.004124</td>\n",
       "    </tr>\n",
       "    <tr>\n",
       "      <th>39</th>\n",
       "      <td>surface_reelle_bati</td>\n",
       "      <td>14.194578</td>\n",
       "      <td>0.000692</td>\n",
       "    </tr>\n",
       "    <tr>\n",
       "      <th>40</th>\n",
       "      <td>Paris 17e Arrondissement</td>\n",
       "      <td>13.669846</td>\n",
       "      <td>0.000667</td>\n",
       "    </tr>\n",
       "    <tr>\n",
       "      <th>41</th>\n",
       "      <td>Paris 14e Arrondissement</td>\n",
       "      <td>6.365706</td>\n",
       "      <td>0.000311</td>\n",
       "    </tr>\n",
       "    <tr>\n",
       "      <th>42</th>\n",
       "      <td>surface_terrain</td>\n",
       "      <td>2.135616</td>\n",
       "      <td>0.000104</td>\n",
       "    </tr>\n",
       "  </tbody>\n",
       "</table>\n",
       "</div>"
      ],
      "text/plain": [
       "                        Features  Regression_coef  Regression_coef(%)\n",
       "0    Marseille 2e Arrondissement     20500.745573            1.000000\n",
       "1   Marseille 1er Arrondissement      5722.718781            0.279147\n",
       "2   Marseille 13e Arrondissement      5246.897770            0.255937\n",
       "3   Marseille 15e Arrondissement      5085.653664            0.248072\n",
       "4                           Nice      3721.922488            0.181551\n",
       "5   Marseille 16e Arrondissement      3621.899699            0.176672\n",
       "6        Paris 7e Arrondissement      2988.950697            0.145797\n",
       "7        Paris 6e Arrondissement      2890.328378            0.140987\n",
       "8        Paris 8e Arrondissement      2499.354641            0.121915\n",
       "9    Marseille 3e Arrondissement      2410.420942            0.117577\n",
       "10   Marseille 6e Arrondissement      2212.004357            0.107899\n",
       "11      Paris 1er Arrondissement      1901.275200            0.092742\n",
       "12       Paris 4e Arrondissement      1792.165069            0.087420\n",
       "13  Marseille 12e Arrondissement      1583.863015            0.077259\n",
       "14   Marseille 5e Arrondissement      1488.971525            0.072630\n",
       "15      Paris 19e Arrondissement      1457.140389            0.071077\n",
       "16   Marseille 9e Arrondissement      1425.413377            0.069530\n",
       "17   Marseille 8e Arrondissement      1241.371722            0.060553\n",
       "18      Paris 16e Arrondissement       975.864306            0.047601\n",
       "19   Marseille 7e Arrondissement       896.848033            0.043747\n",
       "20                   Appartement       737.446892            0.035972\n",
       "21                        Maison       737.446892            0.035972\n",
       "22      Paris 12e Arrondissement       666.992503            0.032535\n",
       "23      Paris 15e Arrondissement       642.709388            0.031351\n",
       "24       Paris 3e Arrondissement       596.370207            0.029090\n",
       "25      Paris 11e Arrondissement       589.991635            0.028779\n",
       "26  Marseille 14e Arrondissement       562.324748            0.027429\n",
       "27       Paris 5e Arrondissement       545.269317            0.026598\n",
       "28      Paris 20e Arrondissement       441.648878            0.021543\n",
       "29                     longitude       437.132285            0.021323\n",
       "30  Marseille 11e Arrondissement       422.872051            0.020627\n",
       "31     nombre_pieces_principales       382.959716            0.018680\n",
       "32  Marseille 10e Arrondissement       340.829592            0.016625\n",
       "33      Paris 13e Arrondissement       227.064443            0.011076\n",
       "34       Paris 2e Arrondissement       136.445612            0.006656\n",
       "35       Paris 9e Arrondissement       123.834657            0.006040\n",
       "36      Paris 18e Arrondissement        93.605035            0.004566\n",
       "37                      latitude        88.209525            0.004303\n",
       "38   Marseille 4e Arrondissement        84.547667            0.004124\n",
       "39           surface_reelle_bati        14.194578            0.000692\n",
       "40      Paris 17e Arrondissement        13.669846            0.000667\n",
       "41      Paris 14e Arrondissement         6.365706            0.000311\n",
       "42               surface_terrain         2.135616            0.000104"
      ]
     },
     "execution_count": 186,
     "metadata": {},
     "output_type": "execute_result"
    }
   ],
   "source": [
    "feature.get_coefs_regression()"
   ]
  },
  {
   "cell_type": "code",
   "execution_count": 187,
   "id": "a5ee0e84",
   "metadata": {},
   "outputs": [
    {
     "data": {
      "image/png": "[encoded data removed]",
      "text/plain": [
       "<Figure size 1080x288 with 1 Axes>"
      ]
     },
     "metadata": {
      "needs_background": "light"
     },
     "output_type": "display_data"
    }
   ],
   "source": [
    "feature.plot_reg_coefs()"
   ]
  },
  {
   "cell_type": "code",
   "execution_count": 188,
   "id": "f71bd71f",
   "metadata": {},
   "outputs": [
    {
     "data": {
      "text/html": [
       "<div>\n",
       "<style scoped>\n",
       "    .dataframe tbody tr th:only-of-type {\n",
       "        vertical-align: middle;\n",
       "    }\n",
       "\n",
       "    .dataframe tbody tr th {\n",
       "        vertical-align: top;\n",
       "    }\n",
       "\n",
       "    .dataframe thead th {\n",
       "        text-align: right;\n",
       "    }\n",
       "</style>\n",
       "<table border=\"1\" class=\"dataframe\">\n",
       "  <thead>\n",
       "    <tr style=\"text-align: right;\">\n",
       "      <th></th>\n",
       "      <th>Features</th>\n",
       "      <th>VIF</th>\n",
       "    </tr>\n",
       "  </thead>\n",
       "  <tbody>\n",
       "    <tr>\n",
       "      <th>41</th>\n",
       "      <td>Appartement</td>\n",
       "      <td>1452.579974</td>\n",
       "    </tr>\n",
       "    <tr>\n",
       "      <th>3</th>\n",
       "      <td>longitude</td>\n",
       "      <td>72.030261</td>\n",
       "    </tr>\n",
       "    <tr>\n",
       "      <th>21</th>\n",
       "      <td>Nice</td>\n",
       "      <td>57.704847</td>\n",
       "    </tr>\n",
       "    <tr>\n",
       "      <th>42</th>\n",
       "      <td>Maison</td>\n",
       "      <td>18.012365</td>\n",
       "    </tr>\n",
       "    <tr>\n",
       "      <th>18</th>\n",
       "      <td>Marseille 7e Arrondissement</td>\n",
       "      <td>5.603625</td>\n",
       "    </tr>\n",
       "    <tr>\n",
       "      <th>4</th>\n",
       "      <td>latitude</td>\n",
       "      <td>5.506886</td>\n",
       "    </tr>\n",
       "    <tr>\n",
       "      <th>19</th>\n",
       "      <td>Marseille 8e Arrondissement</td>\n",
       "      <td>4.972452</td>\n",
       "    </tr>\n",
       "    <tr>\n",
       "      <th>0</th>\n",
       "      <td>surface_reelle_bati</td>\n",
       "      <td>4.319251</td>\n",
       "    </tr>\n",
       "    <tr>\n",
       "      <th>12</th>\n",
       "      <td>Marseille 1er Arrondissement</td>\n",
       "      <td>4.228019</td>\n",
       "    </tr>\n",
       "    <tr>\n",
       "      <th>17</th>\n",
       "      <td>Marseille 6e Arrondissement</td>\n",
       "      <td>4.113066</td>\n",
       "    </tr>\n",
       "    <tr>\n",
       "      <th>1</th>\n",
       "      <td>nombre_pieces_principales</td>\n",
       "      <td>4.051591</td>\n",
       "    </tr>\n",
       "    <tr>\n",
       "      <th>27</th>\n",
       "      <td>Paris 16e Arrondissement</td>\n",
       "      <td>3.348254</td>\n",
       "    </tr>\n",
       "    <tr>\n",
       "      <th>7</th>\n",
       "      <td>Marseille 12e Arrondissement</td>\n",
       "      <td>3.314419</td>\n",
       "    </tr>\n",
       "    <tr>\n",
       "      <th>13</th>\n",
       "      <td>Marseille 2e Arrondissement</td>\n",
       "      <td>3.208843</td>\n",
       "    </tr>\n",
       "    <tr>\n",
       "      <th>16</th>\n",
       "      <td>Marseille 5e Arrondissement</td>\n",
       "      <td>2.998631</td>\n",
       "    </tr>\n",
       "    <tr>\n",
       "      <th>28</th>\n",
       "      <td>Paris 17e Arrondissement</td>\n",
       "      <td>2.927592</td>\n",
       "    </tr>\n",
       "    <tr>\n",
       "      <th>26</th>\n",
       "      <td>Paris 15e Arrondissement</td>\n",
       "      <td>2.914881</td>\n",
       "    </tr>\n",
       "    <tr>\n",
       "      <th>22</th>\n",
       "      <td>Paris 11e Arrondissement</td>\n",
       "      <td>2.562718</td>\n",
       "    </tr>\n",
       "    <tr>\n",
       "      <th>6</th>\n",
       "      <td>Marseille 11e Arrondissement</td>\n",
       "      <td>2.554262</td>\n",
       "    </tr>\n",
       "    <tr>\n",
       "      <th>15</th>\n",
       "      <td>Marseille 4e Arrondissement</td>\n",
       "      <td>2.549191</td>\n",
       "    </tr>\n",
       "    <tr>\n",
       "      <th>29</th>\n",
       "      <td>Paris 18e Arrondissement</td>\n",
       "      <td>2.492614</td>\n",
       "    </tr>\n",
       "    <tr>\n",
       "      <th>20</th>\n",
       "      <td>Marseille 9e Arrondissement</td>\n",
       "      <td>2.471576</td>\n",
       "    </tr>\n",
       "    <tr>\n",
       "      <th>10</th>\n",
       "      <td>Marseille 15e Arrondissement</td>\n",
       "      <td>2.461735</td>\n",
       "    </tr>\n",
       "    <tr>\n",
       "      <th>38</th>\n",
       "      <td>Paris 7e Arrondissement</td>\n",
       "      <td>2.190390</td>\n",
       "    </tr>\n",
       "    <tr>\n",
       "      <th>8</th>\n",
       "      <td>Marseille 13e Arrondissement</td>\n",
       "      <td>2.150518</td>\n",
       "    </tr>\n",
       "    <tr>\n",
       "      <th>5</th>\n",
       "      <td>Marseille 10e Arrondissement</td>\n",
       "      <td>2.123526</td>\n",
       "    </tr>\n",
       "    <tr>\n",
       "      <th>37</th>\n",
       "      <td>Paris 6e Arrondissement</td>\n",
       "      <td>2.038964</td>\n",
       "    </tr>\n",
       "    <tr>\n",
       "      <th>25</th>\n",
       "      <td>Paris 14e Arrondissement</td>\n",
       "      <td>2.005045</td>\n",
       "    </tr>\n",
       "    <tr>\n",
       "      <th>40</th>\n",
       "      <td>Paris 9e Arrondissement</td>\n",
       "      <td>1.949610</td>\n",
       "    </tr>\n",
       "    <tr>\n",
       "      <th>14</th>\n",
       "      <td>Marseille 3e Arrondissement</td>\n",
       "      <td>1.947192</td>\n",
       "    </tr>\n",
       "    <tr>\n",
       "      <th>36</th>\n",
       "      <td>Paris 5e Arrondissement</td>\n",
       "      <td>1.910309</td>\n",
       "    </tr>\n",
       "    <tr>\n",
       "      <th>39</th>\n",
       "      <td>Paris 8e Arrondissement</td>\n",
       "      <td>1.787181</td>\n",
       "    </tr>\n",
       "    <tr>\n",
       "      <th>34</th>\n",
       "      <td>Paris 3e Arrondissement</td>\n",
       "      <td>1.750951</td>\n",
       "    </tr>\n",
       "    <tr>\n",
       "      <th>23</th>\n",
       "      <td>Paris 12e Arrondissement</td>\n",
       "      <td>1.709042</td>\n",
       "    </tr>\n",
       "    <tr>\n",
       "      <th>9</th>\n",
       "      <td>Marseille 14e Arrondissement</td>\n",
       "      <td>1.695960</td>\n",
       "    </tr>\n",
       "    <tr>\n",
       "      <th>35</th>\n",
       "      <td>Paris 4e Arrondissement</td>\n",
       "      <td>1.632104</td>\n",
       "    </tr>\n",
       "    <tr>\n",
       "      <th>24</th>\n",
       "      <td>Paris 13e Arrondissement</td>\n",
       "      <td>1.592090</td>\n",
       "    </tr>\n",
       "    <tr>\n",
       "      <th>32</th>\n",
       "      <td>Paris 20e Arrondissement</td>\n",
       "      <td>1.537522</td>\n",
       "    </tr>\n",
       "    <tr>\n",
       "      <th>33</th>\n",
       "      <td>Paris 2e Arrondissement</td>\n",
       "      <td>1.494505</td>\n",
       "    </tr>\n",
       "    <tr>\n",
       "      <th>30</th>\n",
       "      <td>Paris 19e Arrondissement</td>\n",
       "      <td>1.442504</td>\n",
       "    </tr>\n",
       "    <tr>\n",
       "      <th>31</th>\n",
       "      <td>Paris 1er Arrondissement</td>\n",
       "      <td>1.373258</td>\n",
       "    </tr>\n",
       "    <tr>\n",
       "      <th>11</th>\n",
       "      <td>Marseille 16e Arrondissement</td>\n",
       "      <td>1.237501</td>\n",
       "    </tr>\n",
       "    <tr>\n",
       "      <th>2</th>\n",
       "      <td>surface_terrain</td>\n",
       "      <td>1.163341</td>\n",
       "    </tr>\n",
       "  </tbody>\n",
       "</table>\n",
       "</div>"
      ],
      "text/plain": [
       "                        Features          VIF\n",
       "41                   Appartement  1452.579974\n",
       "3                      longitude    72.030261\n",
       "21                          Nice    57.704847\n",
       "42                        Maison    18.012365\n",
       "18   Marseille 7e Arrondissement     5.603625\n",
       "4                       latitude     5.506886\n",
       "19   Marseille 8e Arrondissement     4.972452\n",
       "0            surface_reelle_bati     4.319251\n",
       "12  Marseille 1er Arrondissement     4.228019\n",
       "17   Marseille 6e Arrondissement     4.113066\n",
       "1      nombre_pieces_principales     4.051591\n",
       "27      Paris 16e Arrondissement     3.348254\n",
       "7   Marseille 12e Arrondissement     3.314419\n",
       "13   Marseille 2e Arrondissement     3.208843\n",
       "16   Marseille 5e Arrondissement     2.998631\n",
       "28      Paris 17e Arrondissement     2.927592\n",
       "26      Paris 15e Arrondissement     2.914881\n",
       "22      Paris 11e Arrondissement     2.562718\n",
       "6   Marseille 11e Arrondissement     2.554262\n",
       "15   Marseille 4e Arrondissement     2.549191\n",
       "29      Paris 18e Arrondissement     2.492614\n",
       "20   Marseille 9e Arrondissement     2.471576\n",
       "10  Marseille 15e Arrondissement     2.461735\n",
       "38       Paris 7e Arrondissement     2.190390\n",
       "8   Marseille 13e Arrondissement     2.150518\n",
       "5   Marseille 10e Arrondissement     2.123526\n",
       "37       Paris 6e Arrondissement     2.038964\n",
       "25      Paris 14e Arrondissement     2.005045\n",
       "40       Paris 9e Arrondissement     1.949610\n",
       "14   Marseille 3e Arrondissement     1.947192\n",
       "36       Paris 5e Arrondissement     1.910309\n",
       "39       Paris 8e Arrondissement     1.787181\n",
       "34       Paris 3e Arrondissement     1.750951\n",
       "23      Paris 12e Arrondissement     1.709042\n",
       "9   Marseille 14e Arrondissement     1.695960\n",
       "35       Paris 4e Arrondissement     1.632104\n",
       "24      Paris 13e Arrondissement     1.592090\n",
       "32      Paris 20e Arrondissement     1.537522\n",
       "33       Paris 2e Arrondissement     1.494505\n",
       "30      Paris 19e Arrondissement     1.442504\n",
       "31      Paris 1er Arrondissement     1.373258\n",
       "11  Marseille 16e Arrondissement     1.237501\n",
       "2                surface_terrain     1.163341"
      ]
     },
     "execution_count": 188,
     "metadata": {},
     "output_type": "execute_result"
    }
   ],
   "source": [
    "feature.calculate_VIF()"
   ]
  },
  {
   "cell_type": "raw",
   "id": "aad71049",
   "metadata": {},
   "source": [
    "Inf means that there are colinearity between nom_commune features\n",
    "We suggest to delete the first one 'Paris 10e Arrondissement'"
   ]
  },
  {
   "cell_type": "code",
   "execution_count": 189,
   "id": "ea0ec2b2",
   "metadata": {},
   "outputs": [
    {
     "data": {
      "text/html": [
       "<div>\n",
       "<style scoped>\n",
       "    .dataframe tbody tr th:only-of-type {\n",
       "        vertical-align: middle;\n",
       "    }\n",
       "\n",
       "    .dataframe tbody tr th {\n",
       "        vertical-align: top;\n",
       "    }\n",
       "\n",
       "    .dataframe thead th {\n",
       "        text-align: right;\n",
       "    }\n",
       "</style>\n",
       "<table border=\"1\" class=\"dataframe\">\n",
       "  <thead>\n",
       "    <tr style=\"text-align: right;\">\n",
       "      <th></th>\n",
       "      <th>Features</th>\n",
       "      <th>VIF</th>\n",
       "    </tr>\n",
       "  </thead>\n",
       "  <tbody>\n",
       "    <tr>\n",
       "      <th>41</th>\n",
       "      <td>Appartement</td>\n",
       "      <td>1452.579974</td>\n",
       "    </tr>\n",
       "    <tr>\n",
       "      <th>3</th>\n",
       "      <td>longitude</td>\n",
       "      <td>72.030261</td>\n",
       "    </tr>\n",
       "    <tr>\n",
       "      <th>21</th>\n",
       "      <td>Nice</td>\n",
       "      <td>57.704847</td>\n",
       "    </tr>\n",
       "    <tr>\n",
       "      <th>42</th>\n",
       "      <td>Maison</td>\n",
       "      <td>18.012365</td>\n",
       "    </tr>\n",
       "    <tr>\n",
       "      <th>18</th>\n",
       "      <td>Marseille 7e Arrondissement</td>\n",
       "      <td>5.603625</td>\n",
       "    </tr>\n",
       "  </tbody>\n",
       "</table>\n",
       "</div>"
      ],
      "text/plain": [
       "                       Features          VIF\n",
       "41                  Appartement  1452.579974\n",
       "3                     longitude    72.030261\n",
       "21                         Nice    57.704847\n",
       "42                       Maison    18.012365\n",
       "18  Marseille 7e Arrondissement     5.603625"
      ]
     },
     "execution_count": 189,
     "metadata": {},
     "output_type": "execute_result"
    }
   ],
   "source": [
    "df_new = data_t4.copy()\n",
    "cols = list(df_new.columns)\n",
    "\n",
    "columns_todrop = ['id_mutation', 'date_mutation',\n",
    "         'adresse_nom_voie', 'adresse_code_voie',\n",
    "  'code_commune', 'code_postal',\n",
    " 'code_departement',\n",
    " 'id_parcelle', 'valeur_fonciere','Paris 10e Arrondissement'\n",
    " ]\n",
    "\n",
    "for i in columns_todrop:\n",
    "    cols.remove(i)\n",
    "    \n",
    "cols_removd_target = cols[:]\n",
    "cols_removd_target.remove('prixmetre')\n",
    "\n",
    "data_v2 = df_new[cols]\n",
    "\n",
    "\n",
    "feature = FeatureSelection(df = data_v2, col_list =cols_removd_target, target_var='prixmetre' )\n",
    "feature.calculate_VIF().head(5)"
   ]
  },
  {
   "cell_type": "code",
   "execution_count": 190,
   "id": "d49524ef",
   "metadata": {},
   "outputs": [
    {
     "data": {
      "text/html": [
       "<div>\n",
       "<style scoped>\n",
       "    .dataframe tbody tr th:only-of-type {\n",
       "        vertical-align: middle;\n",
       "    }\n",
       "\n",
       "    .dataframe tbody tr th {\n",
       "        vertical-align: top;\n",
       "    }\n",
       "\n",
       "    .dataframe thead th {\n",
       "        text-align: right;\n",
       "    }\n",
       "</style>\n",
       "<table border=\"1\" class=\"dataframe\">\n",
       "  <thead>\n",
       "    <tr style=\"text-align: right;\">\n",
       "      <th></th>\n",
       "      <th>Features</th>\n",
       "      <th>VIF</th>\n",
       "    </tr>\n",
       "  </thead>\n",
       "  <tbody>\n",
       "    <tr>\n",
       "      <th>33</th>\n",
       "      <td>Paris 2e Arrondissement</td>\n",
       "      <td>1.494505</td>\n",
       "    </tr>\n",
       "    <tr>\n",
       "      <th>30</th>\n",
       "      <td>Paris 19e Arrondissement</td>\n",
       "      <td>1.442504</td>\n",
       "    </tr>\n",
       "    <tr>\n",
       "      <th>31</th>\n",
       "      <td>Paris 1er Arrondissement</td>\n",
       "      <td>1.373258</td>\n",
       "    </tr>\n",
       "    <tr>\n",
       "      <th>11</th>\n",
       "      <td>Marseille 16e Arrondissement</td>\n",
       "      <td>1.237501</td>\n",
       "    </tr>\n",
       "    <tr>\n",
       "      <th>2</th>\n",
       "      <td>surface_terrain</td>\n",
       "      <td>1.163341</td>\n",
       "    </tr>\n",
       "  </tbody>\n",
       "</table>\n",
       "</div>"
      ],
      "text/plain": [
       "                        Features       VIF\n",
       "33       Paris 2e Arrondissement  1.494505\n",
       "30      Paris 19e Arrondissement  1.442504\n",
       "31      Paris 1er Arrondissement  1.373258\n",
       "11  Marseille 16e Arrondissement  1.237501\n",
       "2                surface_terrain  1.163341"
      ]
     },
     "execution_count": 190,
     "metadata": {},
     "output_type": "execute_result"
    }
   ],
   "source": [
    "feature.calculate_VIF().tail(5)"
   ]
  },
  {
   "cell_type": "code",
   "execution_count": 191,
   "id": "36f52260",
   "metadata": {},
   "outputs": [
    {
     "data": {
      "image/png": "[encoded data removed]",
      "text/plain": [
       "<Figure size 1080x288 with 1 Axes>"
      ]
     },
     "metadata": {
      "needs_background": "light"
     },
     "output_type": "display_data"
    }
   ],
   "source": [
    "feature.plot_reg_coefs()"
   ]
  },
  {
   "cell_type": "code",
   "execution_count": 213,
   "id": "90ca39fb",
   "metadata": {},
   "outputs": [
    {
     "data": {
      "image/png": "[encoded data removed]",
      "text/plain": [
       "<Figure size 2880x1800 with 2 Axes>"
      ]
     },
     "metadata": {
      "needs_background": "light"
     },
     "output_type": "display_data"
    }
   ],
   "source": [
    "feature = FeatureSelection(df = data_v2, col_list =cols_removd_target, target_var='prixmetre' )\n",
    "feature.correlation_matrix(40, 25, 'coolwarm')"
   ]
  },
  {
   "cell_type": "markdown",
   "id": "2be25b72",
   "metadata": {},
   "source": [
    "# Improving Function : encoding_categ_column"
   ]
  },
  {
   "cell_type": "code",
   "execution_count": 214,
   "id": "cec9735c",
   "metadata": {},
   "outputs": [
    {
     "data": {
      "text/plain": [
       "Index(['surface_reelle_bati', 'nombre_pieces_principales', 'surface_terrain',\n",
       "       'longitude', 'latitude', 'prixmetre', 'Marseille 10e Arrondissement',\n",
       "       'Marseille 11e Arrondissement', 'Marseille 12e Arrondissement',\n",
       "       'Marseille 13e Arrondissement', 'Marseille 14e Arrondissement',\n",
       "       'Marseille 15e Arrondissement', 'Marseille 16e Arrondissement',\n",
       "       'Marseille 1er Arrondissement', 'Marseille 2e Arrondissement',\n",
       "       'Marseille 3e Arrondissement', 'Marseille 4e Arrondissement',\n",
       "       'Marseille 5e Arrondissement', 'Marseille 6e Arrondissement',\n",
       "       'Marseille 7e Arrondissement', 'Marseille 8e Arrondissement',\n",
       "       'Marseille 9e Arrondissement', 'Nice', 'Paris 11e Arrondissement',\n",
       "       'Paris 12e Arrondissement', 'Paris 13e Arrondissement',\n",
       "       'Paris 14e Arrondissement', 'Paris 15e Arrondissement',\n",
       "       'Paris 16e Arrondissement', 'Paris 17e Arrondissement',\n",
       "       'Paris 18e Arrondissement', 'Paris 19e Arrondissement',\n",
       "       'Paris 1er Arrondissement', 'Paris 20e Arrondissement',\n",
       "       'Paris 2e Arrondissement', 'Paris 3e Arrondissement',\n",
       "       'Paris 4e Arrondissement', 'Paris 5e Arrondissement',\n",
       "       'Paris 6e Arrondissement', 'Paris 7e Arrondissement',\n",
       "       'Paris 8e Arrondissement', 'Paris 9e Arrondissement', 'Appartement',\n",
       "       'Maison'],\n",
       "      dtype='object')"
      ]
     },
     "execution_count": 214,
     "metadata": {},
     "output_type": "execute_result"
    }
   ],
   "source": [
    "data_v2.columns"
   ]
  },
  {
   "cell_type": "raw",
   "id": "371d81fb",
   "metadata": {},
   "source": [
    "encoding_categ_column has as inputs df: dataframe and col_name:string\n",
    "Below, we use a list of column names"
   ]
  },
  {
   "cell_type": "code",
   "execution_count": null,
   "id": "bca9308f",
   "metadata": {},
   "outputs": [],
   "source": [
    "def encoding_categ_column(df, col_name):\n",
    "    \n",
    "    L = list(df[col_name].unique())\n",
    "    if '' in L:\n",
    "        df[col_name].replace(\"\", \"NoValue\", inplace=True) #Replace NaN by \"NoCodeNature\"\n",
    "    \n",
    "    ohe = OneHotEncoder(sparse = False) # Instanciate encoder\n",
    "    ohe.fit(df[[col_name]]) # Fit encoder  ---> OneHotEncoder(sparse=False)\n",
    "    \n",
    "    col_encoded = ohe.transform(df[[col_name]]) # Encode\n",
    "\n",
    "    dicts_col = {}\n",
    "    keys = list(ohe.categories_[0])\n",
    "    values = col_encoded.T.astype(int)\n",
    "    \n",
    "    for i,j in enumerate(keys):\n",
    "        dicts_col[j] = values[i,:]\n",
    "\n",
    "    result = pd.DataFrame.from_dict(dicts_col)\n",
    "    \n",
    "    df = df.reset_index(drop=True)\n",
    "    \n",
    "    #Concat df and result dataframes\n",
    "    data_res = pd.concat([df, result], axis = 1)\n",
    "    \n",
    "    if 'NoValue' in list(data_res.columns):\n",
    "        data_res = data_res.drop(columns= ['NoValue',col_name] )\n",
    "    else:\n",
    "        data_res = data_res.drop(columns= col_name)\n",
    "        \n",
    "    return data_res "
   ]
  },
  {
   "cell_type": "code",
   "execution_count": null,
   "id": "e9968f15",
   "metadata": {},
   "outputs": [],
   "source": []
  },
  {
   "cell_type": "code",
   "execution_count": null,
   "id": "6ca19a4d",
   "metadata": {},
   "outputs": [],
   "source": []
  },
  {
   "cell_type": "code",
   "execution_count": null,
   "id": "05413ed7",
   "metadata": {},
   "outputs": [],
   "source": []
  }
 ],
 "metadata": {
  "kernelspec": {
   "display_name": "Python 3 (ipykernel)",
   "language": "python",
   "name": "python3"
  },
  "language_info": {
   "codemirror_mode": {
    "name": "ipython",
    "version": 3
   },
   "file_extension": ".py",
   "mimetype": "text/x-python",
   "name": "python",
   "nbconvert_exporter": "python",
   "pygments_lexer": "ipython3",
   "version": "3.8.6"
  },
  "toc": {
   "base_numbering": 1,
   "nav_menu": {},
   "number_sections": true,
   "sideBar": true,
   "skip_h1_title": false,
   "title_cell": "Table of Contents",
   "title_sidebar": "Contents",
   "toc_cell": false,
   "toc_position": {
    "height": "calc(100% - 180px)",
    "left": "10px",
    "top": "150px",
    "width": "360px"
   },
   "toc_section_display": true,
   "toc_window_display": true
  }
 },
 "nbformat": 4,
 "nbformat_minor": 5
}
