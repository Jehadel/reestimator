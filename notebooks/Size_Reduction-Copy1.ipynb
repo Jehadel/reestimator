{
 "cells": [
  {
   "cell_type": "code",
   "execution_count": 1,
   "id": "ca64c03e",
   "metadata": {},
   "outputs": [],
   "source": [
    "#Load Libraries and Create engine Connection\n",
    "\n",
    "import pymysql\n",
    "import pandas as pd\n",
    "import numpy as np\n",
    "import sqlalchemy\n",
    "import gc\n",
    "engine =sqlalchemy.create_engine(\n",
    "        sqlalchemy.engine.url.URL.create(\n",
    "        drivername=\"mysql+pymysql\",\n",
    "        username='Estimators',  # e.g. \"my-database-user\"\n",
    "        password='Estimator2021',  # e.g. \"my-database-password\"\n",
    "        host='34.77.88.127',  # e.g. \"127.0.0.1\"\n",
    "        port=3306,  # e.g. 3306\n",
    "        database='Housing_France',  # e.g. \"my-database-name\"\n",
    "    ))\n",
    "\n",
    "conn = engine.connect().execution_options(stream_results=True)    \n",
    "\n",
    "#Load Libraries and Create engine Connection\n",
    "\n",
    "import pymysql\n",
    "import pandas as pd\n",
    "import numpy as np\n",
    "import sqlalchemy\n",
    "import gc\n",
    "\n",
    "\n",
    "\n",
    "def get_data_chunk(table_name,chunksize):\n",
    "    engine =sqlalchemy.create_engine(\n",
    "    sqlalchemy.engine.url.URL.create(\n",
    "    drivername=\"mysql+pymysql\",\n",
    "    username='Estimators',  # e.g. \"my-database-user\"\n",
    "    password='Estimator2021',  # e.g. \"my-database-password\"\n",
    "    host='34.77.88.127',  # e.g. \"127.0.0.1\"\n",
    "    port=3306,  # e.g. 3306\n",
    "    database='Housing_France',  # e.g. \"my-database-name\"\n",
    "    ))\n",
    "    conn = engine.connect().execution_options(stream_results=True)\n",
    "    frame = pd.DataFrame()\n",
    "    for chunk_dataframe in pd.read_sql(\n",
    "            f\"\"\"Select * from {table_name}\"\"\", conn, chunksize=chunksize):\n",
    "            print(f\"Got dataframe w/{len(chunk_dataframe)} rows\")\n",
    "            frame= frame.append(chunk_dataframe)\n",
    "    \n",
    "    return frame\n",
    "\n",
    "def get_random_rows(table_name, numrows):\n",
    "    engine =sqlalchemy.create_engine(\n",
    "    sqlalchemy.engine.url.URL.create(\n",
    "    drivername=\"mysql+pymysql\",\n",
    "    username='Estimators',  # e.g. \"my-database-user\"\n",
    "    password='Estimator2021',  # e.g. \"my-database-password\"\n",
    "    host='34.77.88.127',  # e.g. \"127.0.0.1\"\n",
    "    port=3306,  # e.g. 3306\n",
    "    database='Housing_France',  # e.g. \"my-database-name\"\n",
    "    ))\n",
    "    conn = engine.connect().execution_options(stream_results=True)\n",
    "    df = pd.read_sql(f\"\"\"SELECT * FROM {table_name} dm ORDER BY RAND() LIMIT {numrows};\"\"\",conn)\n",
    "    return df\n",
    "\n",
    "def get_all_rows(table_name):\n",
    "    engine =sqlalchemy.create_engine(\n",
    "    sqlalchemy.engine.url.URL.create(\n",
    "    drivername=\"mysql+pymysql\",\n",
    "    username='Estimators',  # e.g. \"my-database-user\"\n",
    "    password='Estimator2021',  # e.g. \"my-database-password\"\n",
    "    host='34.77.88.127',  # e.g. \"127.0.0.1\"\n",
    "    port=3306,  # e.g. 3306\n",
    "    database='Housing_France',  # e.g. \"my-database-name\"\n",
    "    ))\n",
    "    conn = engine.connect().execution_options(stream_results=True)\n",
    "    df = pd.read_sql(f\"\"\"SELECT * FROM {table_name} \"\"\",conn)\n",
    "    return df"
   ]
  },
  {
   "cell_type": "code",
   "execution_count": 11,
   "id": "793e0770",
   "metadata": {
    "scrolled": true
   },
   "outputs": [],
   "source": [
    "#Template for getting some data\n",
    "df = get_random_rows('data_maison', 1000)"
   ]
  },
  {
   "cell_type": "code",
   "execution_count": null,
   "id": "1bc1f863",
   "metadata": {},
   "outputs": [],
   "source": [
    "#Replace all the blank rows with np.NaN\n",
    "\n",
    "for i in df.columns:\n",
    "    df[i].replace(r'', np.nan, regex=True, inplace= True)"
   ]
  },
  {
   "cell_type": "code",
   "execution_count": null,
   "id": "d086e97a",
   "metadata": {
    "scrolled": true
   },
   "outputs": [],
   "source": [
    "#Some Preprocessing\n",
    "df2 = df.copy()\n",
    "df2 = df2[df2['type_local']. notna()]\n",
    "df2 = df2[df2['id_mutation']!= 'id_mutation']\n",
    "df2 = df2[df2['type_local']== 'Maison']\n",
    "columns = ['ancien_nom_commune','ancien_id_parcelle','ancien_code_commune','lot5_surface_carrez','lot4_surface_carrez','lot5_numero'\n",
    "            ,'lot3_surface_carrez', 'numero_volume','lot4_numero','lot3_numero','adresse_suffixe']\n",
    "df2.drop(columns=columns, inplace=True)"
   ]
  },
  {
   "cell_type": "code",
   "execution_count": null,
   "id": "9126aec4",
   "metadata": {},
   "outputs": [],
   "source": [
    "df.shape"
   ]
  },
  {
   "cell_type": "code",
   "execution_count": null,
   "id": "27f334e1",
   "metadata": {},
   "outputs": [],
   "source": []
  }
 ],
 "metadata": {
  "kernelspec": {
   "display_name": "Python 3 (ipykernel)",
   "language": "python",
   "name": "python3"
  },
  "language_info": {
   "codemirror_mode": {
    "name": "ipython",
    "version": 3
   },
   "file_extension": ".py",
   "mimetype": "text/x-python",
   "name": "python",
   "nbconvert_exporter": "python",
   "pygments_lexer": "ipython3",
   "version": "3.8.6"
  },
  "toc": {
   "base_numbering": 1,
   "nav_menu": {},
   "number_sections": true,
   "sideBar": true,
   "skip_h1_title": false,
   "title_cell": "Table of Contents",
   "title_sidebar": "Contents",
   "toc_cell": false,
   "toc_position": {},
   "toc_section_display": true,
   "toc_window_display": false
  }
 },
 "nbformat": 4,
 "nbformat_minor": 5
}
